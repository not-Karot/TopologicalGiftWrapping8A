{
 "cells": [
  {
   "cell_type": "code",
   "execution_count": 2,
   "id": "664a0bc3",
   "metadata": {},
   "outputs": [
    {
     "name": "stderr",
     "output_type": "stream",
     "text": [
      "\u001b[32m\u001b[1m  Activating\u001b[22m\u001b[39m project at `~/.julia/environments/v1.7`\n"
     ]
    }
   ],
   "source": [
    "using Pkg\n",
    "Pkg.activate()"
   ]
  },
  {
   "cell_type": "code",
   "execution_count": 25,
   "id": "02287411",
   "metadata": {},
   "outputs": [],
   "source": [
    "using SparseArrays"
   ]
  },
  {
   "cell_type": "code",
   "execution_count": 4,
   "id": "ea1af4c2",
   "metadata": {},
   "outputs": [],
   "source": [
    "using CPDTGW3D8a\n",
    "using ViewerGL, LinearAlgebra\n",
    "GL = ViewerGL\n",
    "using LinearAlgebraicRepresentation\n",
    "Lar = LinearAlgebraicRepresentation\n",
    "\n",
    "\n",
    "#include(\"\")\n",
    "store = [];\n",
    "scaling = 1.5;\n",
    "V,(VV,EV,FV,CV) = Lar.cuboid([0.25,0.25,0.25],true,[-0.25,-0.25,-0.25]);\n",
    "mybox = (V,CV,FV,EV);\n",
    "for k=1:5\n",
    "\tsize = rand()*scaling\n",
    "\tscale = Lar.s(size,size,size)\n",
    "\ttransl = Lar.t(rand(3)...)\n",
    "\talpha = 2*pi*rand()\n",
    "\trx = Lar.r(alpha,0,0); ry = Lar.r(0,alpha,0); rz = Lar.r(0,0,alpha)\n",
    "\trot = rx * ry * rz\n",
    "\tstr = Lar.Struct([ transl, scale, rot, mybox ])\n",
    "\tobj = Lar.struct2lar(str)\n",
    "\tvs = obj[1]\n",
    "\tdiag = LinearAlgebra.norm(vs[:,8]-vs[:,1])\n",
    "\tif diag > 1/5\n",
    "\t\tpush!(store, obj)\n",
    "\tend\n",
    "end\n",
    "\n",
    "str = Lar.Struct(store);\n",
    "V,CV,FV,EV = Lar.struct2lar(str);\n",
    "# V = Plasm.normalize3D(V) TODO:  solve MethodError bug\n",
    "\n",
    "GL.VIEW([ GL.GLPol(V,CV, GL.COLORS[2], 0.1) ]);\n",
    "\n",
    "function testarrangement(V,CV,FV,EV)\n",
    "\t\tcop_EV = Lar.coboundary_0(EV::Lar.Cells);\n",
    "\t\tcop_FE = Lar.coboundary_1(V, FV::Lar.Cells, EV::Lar.Cells);\n",
    "\t\tW = convert(Lar.Points, V');\n",
    "\n",
    "\t\tV, copEV, copFE, copCF = CPDTGW3D8a.spatial_arrangement(\n",
    "\t\t\t\tW::Lar.Points, cop_EV::Lar.ChainOp, cop_FE::Lar.ChainOp);\n",
    "\n",
    "\t\tV = convert(Lar.Points, V');\n",
    "\t\tV,CVs,FVs,EVs = Lar.pols2tria(V, copEV, copFE, copCF) # whole assembly\n",
    "\t\tGL.VIEW(GL.GLExplode(V,FVs,1.1,1.1,1.1,99,1));\n",
    "\t\tGL.VIEW(GL.GLExplode(V,EVs,1.5,1.5,1.5,99,1));\n",
    "\t\tGL.VIEW(GL.GLExplode(V,CVs,1,1,1,99,0.2));\n",
    "end\n",
    "\n",
    "#testarrangement(V,CV,FV,EV);"
   ]
  },
  {
   "cell_type": "code",
   "execution_count": 17,
   "id": "0f6d894b",
   "metadata": {},
   "outputs": [],
   "source": [
    "cop_EV = Lar.coboundary_0(EV::Lar.Cells);\n",
    "cop_FE = Lar.coboundary_1(V, FV::Lar.Cells, EV::Lar.Cells);\n",
    "W = convert(Lar.Points, V');"
   ]
  },
  {
   "cell_type": "code",
   "execution_count": 6,
   "id": "43e42a27",
   "metadata": {},
   "outputs": [
    {
     "data": {
      "text/plain": [
       "60×40 SparseArrays.SparseMatrixCSC{Int8, Int64} with 120 stored entries:\n",
       "⠉⠒⠤⣀⠀⠀⠀⠀⠀⠀⠀⠀⠀⠀⠀⠀⠀⠀⠀⠀\n",
       "⠑⠑⢄⢄⠀⠀⠀⠀⠀⠀⠀⠀⠀⠀⠀⠀⠀⠀⠀⠀\n",
       "⠑⢄⠑⢄⠀⠀⠀⠀⠀⠀⠀⠀⠀⠀⠀⠀⠀⠀⠀⠀\n",
       "⠀⠀⠀⠀⠉⠒⠤⣀⠀⠀⠀⠀⠀⠀⠀⠀⠀⠀⠀⠀\n",
       "⠀⠀⠀⠀⠑⠑⢄⢄⠀⠀⠀⠀⠀⠀⠀⠀⠀⠀⠀⠀\n",
       "⠀⠀⠀⠀⠑⢄⠑⢄⠀⠀⠀⠀⠀⠀⠀⠀⠀⠀⠀⠀\n",
       "⠀⠀⠀⠀⠀⠀⠀⠀⠉⠒⠤⣀⠀⠀⠀⠀⠀⠀⠀⠀\n",
       "⠀⠀⠀⠀⠀⠀⠀⠀⠑⠑⢄⢄⠀⠀⠀⠀⠀⠀⠀⠀\n",
       "⠀⠀⠀⠀⠀⠀⠀⠀⠑⢄⠑⢄⠀⠀⠀⠀⠀⠀⠀⠀\n",
       "⠀⠀⠀⠀⠀⠀⠀⠀⠀⠀⠀⠀⠉⠒⠤⣀⠀⠀⠀⠀\n",
       "⠀⠀⠀⠀⠀⠀⠀⠀⠀⠀⠀⠀⠑⠑⢄⢄⠀⠀⠀⠀\n",
       "⠀⠀⠀⠀⠀⠀⠀⠀⠀⠀⠀⠀⠑⢄⠑⢄⠀⠀⠀⠀\n",
       "⠀⠀⠀⠀⠀⠀⠀⠀⠀⠀⠀⠀⠀⠀⠀⠀⠉⠒⠤⣀\n",
       "⠀⠀⠀⠀⠀⠀⠀⠀⠀⠀⠀⠀⠀⠀⠀⠀⠑⠑⢄⢄\n",
       "⠀⠀⠀⠀⠀⠀⠀⠀⠀⠀⠀⠀⠀⠀⠀⠀⠑⢄⠑⢄"
      ]
     },
     "execution_count": 6,
     "metadata": {},
     "output_type": "execute_result"
    }
   ],
   "source": [
    "cop_EV"
   ]
  },
  {
   "cell_type": "code",
   "execution_count": 7,
   "id": "e3f46438",
   "metadata": {},
   "outputs": [
    {
     "data": {
      "text/plain": [
       "30×60 SparseArrays.SparseMatrixCSC{Int8, Int64} with 120 stored entries:\n",
       "⢍⢖⠉⠒⠤⣀⠀⠀⠀⠀⠀⠀⠀⠀⠀⠀⠀⠀⠀⠀⠀⠀⠀⠀⠀⠀⠀⠀⠀⠀\n",
       "⠀⠀⠑⠑⠑⠑⠤⣀⠤⣀⠀⠀⠀⠀⠀⠀⠀⠀⠀⠀⠀⠀⠀⠀⠀⠀⠀⠀⠀⠀\n",
       "⠀⠀⠀⠀⠀⠀⠑⠑⢄⢄⢍⢖⠀⠀⠀⠀⠀⠀⠀⠀⠀⠀⠀⠀⠀⠀⠀⠀⠀⠀\n",
       "⠀⠀⠀⠀⠀⠀⠀⠀⠀⠀⠀⠀⢍⢖⠉⠒⠤⣀⠀⠀⠀⠀⠀⠀⠀⠀⠀⠀⠀⠀\n",
       "⠀⠀⠀⠀⠀⠀⠀⠀⠀⠀⠀⠀⠀⠀⠑⠑⠑⠑⠤⣀⠤⣀⠀⠀⠀⠀⠀⠀⠀⠀\n",
       "⠀⠀⠀⠀⠀⠀⠀⠀⠀⠀⠀⠀⠀⠀⠀⠀⠀⠀⠑⠑⢄⢄⢍⢖⠀⠀⠀⠀⠀⠀\n",
       "⠀⠀⠀⠀⠀⠀⠀⠀⠀⠀⠀⠀⠀⠀⠀⠀⠀⠀⠀⠀⠀⠀⠀⠀⢍⢖⠉⠒⠤⣀\n",
       "⠀⠀⠀⠀⠀⠀⠀⠀⠀⠀⠀⠀⠀⠀⠀⠀⠀⠀⠀⠀⠀⠀⠀⠀⠀⠀⠑⠑⠑⠑"
      ]
     },
     "execution_count": 7,
     "metadata": {},
     "output_type": "execute_result"
    }
   ],
   "source": [
    "cop_FE"
   ]
  },
  {
   "cell_type": "code",
   "execution_count": 8,
   "id": "bf57a372",
   "metadata": {},
   "outputs": [
    {
     "data": {
      "text/plain": [
       "40×3 Matrix{Float64}:\n",
       "  0.267569    0.791765   0.103698\n",
       "  0.296773    0.762672   0.435564\n",
       "  0.238476    1.12341    0.135331\n",
       "  0.26768     1.09432    0.467198\n",
       "  0.599435    0.823399   0.0772665\n",
       "  0.62864     0.794306   0.409133\n",
       "  0.570342    1.15504    0.1089\n",
       "  0.599547    1.12595    0.440767\n",
       "  0.0622929  -0.189704   0.516424\n",
       "  0.418067   -0.494621   1.02363\n",
       " -0.242624    0.223059   0.978444\n",
       "  0.11315    -0.0818581  1.48565\n",
       "  0.5695      0.272316   0.438401\n",
       "  ⋮                      \n",
       "  0.62257     0.251934   0.972151\n",
       "  0.536798    0.319011   1.05632\n",
       "  0.689646    0.369416   0.946879\n",
       "  0.603874    0.436492   1.03104\n",
       "  0.3287      0.163196   0.277191\n",
       "  0.191483    0.24952    0.347054\n",
       "  0.415023    0.31597    0.257968\n",
       "  0.277806    0.402293   0.327831\n",
       "  0.398563    0.143974   0.438158\n",
       "  0.261346    0.230297   0.508021\n",
       "  0.484886    0.296748   0.418936\n",
       "  0.347669    0.383071   0.488799"
      ]
     },
     "execution_count": 8,
     "metadata": {},
     "output_type": "execute_result"
    }
   ],
   "source": [
    "W"
   ]
  },
  {
   "cell_type": "code",
   "execution_count": 9,
   "id": "f4e5ab04",
   "metadata": {},
   "outputs": [
    {
     "ename": "LoadError",
     "evalue": "BoundsError: attempt to access 0×0 SparseArrays.SparseMatrixCSC{Int8, Int64} with 0 stored entries at index [:, 1]",
     "output_type": "error",
     "traceback": [
      "BoundsError: attempt to access 0×0 SparseArrays.SparseMatrixCSC{Int8, Int64} with 0 stored entries at index [:, 1]",
      "",
      "Stacktrace:",
      "  [1] throw_boundserror(A::SparseArrays.SparseMatrixCSC{Int8, Int64}, I::Tuple{Colon, Int64})",
      "    @ Base ./abstractarray.jl:691",
      "  [2] checkbounds",
      "    @ ./abstractarray.jl:656 [inlined]",
      "  [3] getindex(x::SparseArrays.SparseMatrixCSC{Int8, Int64}, #unused#::Colon, j::Int64)",
      "    @ SparseArrays /Applications/Julia-1.7.app/Contents/Resources/julia/share/julia/stdlib/v1.7/SparseArrays/src/sparsevector.jl:554",
      "  [4] an_edge",
      "    @ ~/.julia/packages/LinearAlgebraicRepresentation/qwzGL/src/arrangement/planar_arrangement.jl:173 [inlined]",
      "  [5] biconnected_components(EV::SparseArrays.SparseMatrixCSC{Int8, Int64})",
      "    @ LinearAlgebraicRepresentation.Arrangement ~/.julia/packages/LinearAlgebraicRepresentation/qwzGL/src/arrangement/planar_arrangement.jl:200",
      "  [6] spatial_arrangement(V::Matrix{Float64}, copEV::SparseArrays.SparseMatrixCSC{Int8, Int64}, copFE::SparseArrays.SparseMatrixCSC{Int8, Int64}, multiproc::Bool)",
      "    @ CPDTGW3D8a ~/Università/Calcolo_parallelo/CPDTGW3D8a/src/spatial_arrangement.jl:255",
      "  [7] spatial_arrangement(V::Matrix{Float64}, copEV::SparseArrays.SparseMatrixCSC{Int8, Int64}, copFE::SparseArrays.SparseMatrixCSC{Int8, Int64})",
      "    @ CPDTGW3D8a ~/Università/Calcolo_parallelo/CPDTGW3D8a/src/spatial_arrangement.jl:253",
      "  [8] top-level scope",
      "    @ In[9]:1",
      "  [9] eval",
      "    @ ./boot.jl:373 [inlined]",
      " [10] include_string(mapexpr::typeof(REPL.softscope), mod::Module, code::String, filename::String)",
      "    @ Base ./loading.jl:1196"
     ]
    }
   ],
   "source": [
    "V, copEV, copFE, copCF = CPDTGW3D8a.spatial_arrangement(W::Lar.Points, cop_EV::Lar.ChainOp, cop_FE::Lar.ChainOp);"
   ]
  },
  {
   "cell_type": "code",
   "execution_count": 10,
   "id": "5c1b5833",
   "metadata": {},
   "outputs": [
    {
     "name": "stdout",
     "output_type": "stream",
     "text": [
      "0%\r",
      "8%\r",
      "24%\r",
      "32%\r",
      "41%\r",
      "50%\r",
      "58%\r",
      "74%\r",
      "82%\r",
      "91%\r"
     ]
    }
   ],
   "source": [
    "V, copEV, copFE, copCF = Lar.Arrangement.spatial_arrangement(W::Lar.Points, cop_EV::Lar.ChainOp, cop_FE::Lar.ChainOp);"
   ]
  },
  {
   "cell_type": "code",
   "execution_count": 13,
   "id": "49ee5b7d",
   "metadata": {},
   "outputs": [
    {
     "data": {
      "text/plain": [
       "(Matrix{Float64}(undef, 0, 3), sparse(Int64[], Int64[], Int8[], 0, 0), sparse(Int64[], Int64[], Int8[], 0, 0))"
      ]
     },
     "execution_count": 13,
     "metadata": {},
     "output_type": "execute_result"
    }
   ],
   "source": [
    "rV, rcopEV, rcopFE = CPDTGW3D8a.spatial_arrangement_1(V,copEV,copFE,false)"
   ]
  },
  {
   "cell_type": "code",
   "execution_count": 14,
   "id": "4c8e5bca",
   "metadata": {},
   "outputs": [
    {
     "data": {
      "text/plain": [
       "0×0 SparseArrays.SparseMatrixCSC{Int8, Int64} with 0 stored entries"
      ]
     },
     "execution_count": 14,
     "metadata": {},
     "output_type": "execute_result"
    }
   ],
   "source": [
    "rcopEV"
   ]
  },
  {
   "cell_type": "code",
   "execution_count": 16,
   "id": "38a15769",
   "metadata": {},
   "outputs": [
    {
     "data": {
      "text/plain": [
       "([0.26756859999999993 0.7917651000000001 0.10369780000000002; 0.29677289999999995 0.7626724000000003 0.4355643; … ; 0.4848857999999999 0.2967476000000001 0.4189359999999999; 0.34766943608910744 0.38307079007035877 0.48879908315084514], sparse([1, 3, 9, 1, 4, 10, 2, 3, 11, 2  …  65, 61, 64, 66, 62, 63, 67, 62, 64, 68], [1, 1, 1, 2, 2, 2, 3, 3, 3, 4  …  41, 42, 42, 42, 43, 43, 43, 44, 44, 44], Int8[-1, -1, -1, 1, -1, -1, -1, 1, -1, 1  …  1, 1, -1, 1, -1, 1, 1, 1, 1, 1], 68, 44), sparse([1, 3, 1, 4, 1, 5, 1, 6, 2, 3  …  31, 35, 32, 34, 32, 35, 33, 34, 33, 35], [1, 1, 2, 2, 3, 3, 4, 4, 5, 5  …  64, 64, 65, 65, 66, 66, 67, 67, 68, 68], Int8[1, 1, -1, 1, -1, 1, 1, 1, 1, -1  …  1, -1, -1, -1, 1, -1, -1, 1, 1, 1], 35, 68))"
      ]
     },
     "execution_count": 16,
     "metadata": {},
     "output_type": "execute_result"
    }
   ],
   "source": [
    "rV, rcopEV, rcopFE = Lar.Arrangement.spatial_arrangement_1(V,copEV,copFE,false)"
   ]
  },
  {
   "cell_type": "code",
   "execution_count": 18,
   "id": "19bc148c",
   "metadata": {},
   "outputs": [
    {
     "data": {
      "text/plain": [
       "35-element Vector{Vector{Int64}}:\n",
       " [1, 2, 3, 4]\n",
       " [5, 6, 7, 8]\n",
       " [1, 2, 5, 6]\n",
       " [3, 4, 7, 8]\n",
       " [1, 3, 5, 7]\n",
       " [2, 4, 6, 8]\n",
       " [9, 10, 11, 12]\n",
       " [13, 14, 15, 16, 17, 18, 19, 20]\n",
       " [17, 18, 19, 20]\n",
       " [9, 10, 13, 14]\n",
       " [11, 12, 15, 16]\n",
       " [9, 11, 13, 15]\n",
       " [10, 12, 14, 16]\n",
       " ⋮\n",
       " [29, 30, 33, 34]\n",
       " [31, 32, 35, 36]\n",
       " [18, 19, 29, 33]\n",
       " [18, 19, 31, 35]\n",
       " [17, 20, 30, 34]\n",
       " [17, 20, 32, 36]\n",
       " [37, 38, 39, 40]\n",
       " [41, 42, 43, 44]\n",
       " [37, 38, 41, 42]\n",
       " [39, 40, 43, 44]\n",
       " [37, 39, 41, 43]\n",
       " [38, 40, 42, 44]"
      ]
     },
     "execution_count": 18,
     "metadata": {},
     "output_type": "execute_result"
    }
   ],
   "source": [
    "FV = Lar.compute_FV( copEV, copFE )"
   ]
  },
  {
   "cell_type": "code",
   "execution_count": 19,
   "id": "b6c37a03",
   "metadata": {},
   "outputs": [
    {
     "data": {
      "text/plain": [
       "([0.2675686 0.2967729 … 0.4848857999999999 0.3476694360891075; 0.7917651 0.7626724000000001 … 0.2967476000000001 0.38307079007035877; 0.1036978 0.4355643 … 0.4189359999999999 0.4887990831508452], [[1, 2, 3, 4], [5, 6, 7, 8], [1, 2, 5, 6], [3, 4, 7, 8], [1, 3, 5, 7], [2, 4, 6, 8], [9, 10, 11, 12], [13, 14, 15, 16, 17, 18, 19, 20], [17, 18, 19, 20], [9, 10, 13, 14]  …  [18, 19, 29, 33], [18, 19, 31, 35], [17, 20, 30, 34], [17, 20, 32, 36], [37, 38, 39, 40], [41, 42, 43, 44], [37, 38, 41, 42], [39, 40, 43, 44], [37, 39, 41, 43], [38, 40, 42, 44]])"
      ]
     },
     "execution_count": 19,
     "metadata": {},
     "output_type": "execute_result"
    }
   ],
   "source": [
    "model = (convert(Lar.Points,V'), FV)"
   ]
  },
  {
   "cell_type": "code",
   "execution_count": 20,
   "id": "eac2de4e",
   "metadata": {},
   "outputs": [
    {
     "data": {
      "text/plain": [
       "35-element Vector{Vector{Int64}}:\n",
       " [5, 3, 4, 6]\n",
       " [5, 3, 4, 6, 14]\n",
       " [5, 2, 1, 6, 14]\n",
       " [5, 2, 1, 6]\n",
       " [3, 2, 1, 4]\n",
       " [3, 2, 1, 4, 14, 17]\n",
       " [12, 10, 8, 11, 13]\n",
       " [33, 32, 35, 31, 14, 16, 12, 10, 15, 7  …  20, 26, 9, 24, 11, 29, 28, 13, 23, 22]\n",
       " [12, 8, 21, 27, 25, 20, 26, 24, 11, 29, 28, 13, 23, 22]\n",
       " [32, 35, 31, 12, 8, 7, 26, 24, 11, 13, 22]\n",
       " [12, 10, 8, 7, 21, 27, 25, 20, 26, 9, 24, 29, 28, 13, 23, 22]\n",
       " [33, 32, 35, 31, 10, 8, 7, 21, 25, 20, 26, 9, 24, 11, 29, 28, 13, 23, 22]\n",
       " [12, 10, 8, 7, 27, 25, 20, 26, 9, 24, 11, 29, 28, 23, 22]\n",
       " ⋮\n",
       " [12, 10, 8, 21, 27, 20, 26, 9, 11, 28, 13, 23, 22]\n",
       " [12, 8, 21, 27, 20, 9, 11, 29, 28, 13, 23, 22]\n",
       " [12, 10, 8, 21, 27, 20, 9, 24, 11, 28, 13, 23, 22]\n",
       " [8, 21, 25, 20, 26, 9, 24, 11, 29, 13, 23, 22]\n",
       " [12, 8, 21, 25, 20, 26, 9, 24, 11, 29, 13, 23, 22]\n",
       " [12, 8, 21, 27, 25, 20, 9, 11, 28, 13, 23, 22]\n",
       " [34, 33, 32, 35]\n",
       " [34, 33, 32, 35, 12, 10, 8]\n",
       " [30, 34, 35, 31, 12, 10, 8]\n",
       " [30, 34, 35, 31, 12, 8]\n",
       " [30, 33, 32, 35, 31]\n",
       " [30, 34, 33, 32, 31, 12, 10, 8]"
      ]
     },
     "execution_count": 20,
     "metadata": {},
     "output_type": "execute_result"
    }
   ],
   "source": [
    "sp_idx = Lar.spaceindex(model) # OK!!  tested symmetry of computed relation"
   ]
  },
  {
   "cell_type": "code",
   "execution_count": 21,
   "id": "4e592f8a",
   "metadata": {},
   "outputs": [
    {
     "data": {
      "text/plain": [
       "35"
      ]
     },
     "execution_count": 21,
     "metadata": {},
     "output_type": "execute_result"
    }
   ],
   "source": [
    "fs_num = size(copFE, 1)"
   ]
  },
  {
   "cell_type": "code",
   "execution_count": 22,
   "id": "d4d3c098",
   "metadata": {},
   "outputs": [
    {
     "data": {
      "text/plain": [
       "0×3 Matrix{Float64}"
      ]
     },
     "execution_count": 22,
     "metadata": {},
     "output_type": "execute_result"
    }
   ],
   "source": [
    "rV = Array{Float64,2}(undef,0,3)"
   ]
  },
  {
   "cell_type": "code",
   "execution_count": 26,
   "id": "4e621075",
   "metadata": {},
   "outputs": [
    {
     "data": {
      "text/plain": [
       "0×0 SparseMatrixCSC{Int8, Int64} with 0 stored entries"
      ]
     },
     "execution_count": 26,
     "metadata": {},
     "output_type": "execute_result"
    }
   ],
   "source": [
    "rEV = SparseArrays.spzeros(Int8,0,0)"
   ]
  },
  {
   "cell_type": "code",
   "execution_count": 27,
   "id": "0889e0ba",
   "metadata": {},
   "outputs": [
    {
     "data": {
      "text/plain": [
       "0×0 SparseMatrixCSC{Int8, Int64} with 0 stored entries"
      ]
     },
     "execution_count": 27,
     "metadata": {},
     "output_type": "execute_result"
    }
   ],
   "source": [
    "rFE = SparseArrays.spzeros(Int8,0,0)"
   ]
  },
  {
   "cell_type": "code",
   "execution_count": 29,
   "id": "0c08e864",
   "metadata": {},
   "outputs": [
    {
     "data": {
      "text/plain": [
       "frag_face (generic function with 1 method)"
      ]
     },
     "execution_count": 29,
     "metadata": {},
     "output_type": "execute_result"
    }
   ],
   "source": [
    "function frag_face(V::Matrix{Float64}, EV::SparseMatrixCSC{Int8, Int64}, FE::SparseMatrixCSC{Int8, Int64},\n",
    "    sp_idx::Vector{Int64}, sigma::Int64)\n",
    "\n",
    "\n",
    "    vs_num::Int64 = size(V, 1)\n",
    "\n",
    "\t# 2D transformation of sigma face\n",
    "    sigmavs::Vector{Int64} = (abs.(FE[sigma:sigma,:])*abs.(EV))[1,:].nzind\n",
    "\n",
    "    sV::Matrix{Float64} = V[sigmavs, :]\n",
    "    sEV::SparseMatrixCSC{Int8, Int64} = EV[FE[sigma, :].nzind, sigmavs]\n",
    "    M::Matrix{Float64} = Lar.Arrangement.submanifold_mapping(sV)\n",
    "   @views tV::Matrix{Float64} = ([V ones(vs_num)]*M)[:, 1:3]\n",
    "    sV = tV[sigmavs, :]\n",
    "\n",
    "    # sigma face intersection with faces in sp_idx[sigma]\n",
    "    @async for i in sp_idx[sigma]\n",
    "        tmpV::Matrix{Any}, tmpEV::SparseMatrixCSC{Int8, Int64} = Lar.Arrangement.face_int(tV, EV, FE[i, :])\n",
    "        sV, sEV = Lar.skel_merge(sV, sEV, tmpV, tmpEV)\n",
    "    end\n",
    "\n",
    "    # computation of 2D arrangement of sigma face\n",
    "    sV = sV[:, 1:2]\n",
    "    nV::Matrix{Float64}, nEV::SparseMatrixCSC{Int8, Int64}, nFE::SparseMatrixCSC{Int8, Int64} = planar_arrangement(sV, sEV, sparsevec(ones(Int8, length(sigmavs))))\n",
    "\n",
    "    nvsize::Int64 = size(nV, 1)\n",
    "    nV = [nV zeros(nvsize) ones(nvsize)]*inv(M)[:, 1:3]\n",
    "\n",
    "    return nV, nEV, nFE\n",
    "end"
   ]
  },
  {
   "cell_type": "code",
   "execution_count": 30,
   "id": "7e112671",
   "metadata": {},
   "outputs": [
    {
     "data": {
      "text/plain": [
       "Task (failed) @0x000000010f100180\n",
       "MethodError: no method matching frag_face(::Matrix{Float64}, ::SparseMatrixCSC{Int8, Int64}, ::SparseMatrixCSC{Int8, Int64}, ::Vector{Vector{Int64}}, ::Int64)\n",
       "\u001b[0mClosest candidates are:\n",
       "\u001b[0m  frag_face(::Matrix{Float64}, ::SparseMatrixCSC{Int8, Int64}, ::SparseMatrixCSC{Int8, Int64}, \u001b[91m::Vector{Int64}\u001b[39m, ::Int64) at In[29]:1\n",
       "Stacktrace:\n",
       " [1] \u001b[0m\u001b[1mmacro expansion\u001b[22m\n",
       "\u001b[90m   @ \u001b[39m\u001b[90m./\u001b[39m\u001b[90m\u001b[4mIn[30]:3\u001b[24m\u001b[39m\u001b[90m [inlined]\u001b[39m\n",
       " [2] \u001b[0m\u001b[1m(::var\"#5#6\")\u001b[22m\u001b[0m\u001b[1m(\u001b[22m\u001b[0m\u001b[1m)\u001b[22m\n",
       "\u001b[90m   @ \u001b[39m\u001b[35mMain\u001b[39m \u001b[90m./\u001b[39m\u001b[90m\u001b[4mtask.jl:423\u001b[24m\u001b[39m"
      ]
     },
     "execution_count": 30,
     "metadata": {},
     "output_type": "execute_result"
    }
   ],
   "source": [
    "@async for sigma in 1:fs_num\n",
    "            #println(\"\\n\",sigma, \"/\", fs_num)\n",
    "            nV, nEV, nFE = frag_face(V, copEV, copFE, sp_idx, sigma)\n",
    "\t\t      \tnV = convert(Lar.Points, nV)\n",
    "            rV,rEV, rFE= Lar.skel_merge( rV,rEV,rFE,  nV,nEV,nFE )\n",
    "            #rV=a;  #rEV=b;  #rFE=c\n",
    "        end"
   ]
  },
  {
   "cell_type": "code",
   "execution_count": null,
   "id": "77007f87",
   "metadata": {},
   "outputs": [],
   "source": [
    "# spaceindex computation\n",
    "\tFV = Lar.compute_FV( copEV, copFE )\n",
    "\tmodel = (convert(Lar.Points,V'), FV)\n",
    "\tsp_idx = Lar.spaceindex(model) # OK!!  tested symmetry of computed relation\n",
    "\n",
    "\t# initializations\n",
    "\tfs_num = size(copFE, 1)\n",
    "  rV = Array{Float64,2}(undef,0,3)\n",
    "  rEV = SparseArrays.spzeros(Int8,0,0)\n",
    "  rFE = SparseArrays.spzeros(Int8,0,0)\n",
    "\n",
    "\t# multiprocessing of face fragmentation\n",
    "    if (multiproc == true)\n",
    "        in_chan = Distributed.RemoteChannel(()->Channel{Int64}(0))\n",
    "        out_chan = Distributed.RemoteChannel(()->Channel{Tuple}(0))\n",
    "        @async begin\n",
    "            for sigma in 1:fs_num\n",
    "                put!(in_chan, sigma)\n",
    "            end\n",
    "            for p in Distributed.workers()\n",
    "                put!(in_chan, -1)\n",
    "            end\n",
    "        end\n",
    "        for p in Distributed.workers()\n",
    "            @async Base.remote_do(\n",
    "                frag_face_channel, p, in_chan, out_chan, V, EV, FE, sp_idx)\n",
    "        end\n",
    "        for sigma in 1:fs_num\n",
    "            rV, rEV, rFE = Lar.skel_merge(rV, rEV, rFE, take!(out_chan)...)\n",
    "        end\n",
    "    else\n",
    "\t# sequential (iterative) processing of face fragmentation\n",
    "        @async for sigma in 1:fs_num\n",
    "            #println(\"\\n\",sigma, \"/\", fs_num)\n",
    "            nV, nEV, nFE = frag_face(V, copEV, copFE, sp_idx, sigma)\n",
    "\t\t      \tnV = convert(Lar.Points, nV)\n",
    "            rV,rEV, rFE= Lar.skel_merge( rV,rEV,rFE,  nV,nEV,nFE )\n",
    "            #rV=a;  #rEV=b;  #rFE=c\n",
    "        end\n",
    "    end\n",
    "\t# merging of close vertices, edges and faces (3D congruence)\n",
    "\trV, rEV, rFE = merge_vertices(rV, rEV, rFE)\n",
    "  return rV, rEV, rFE\n",
    "end"
   ]
  }
 ],
 "metadata": {
  "kernelspec": {
   "display_name": "Julia 1.7.2",
   "language": "julia",
   "name": "julia-1.7"
  },
  "language_info": {
   "file_extension": ".jl",
   "mimetype": "application/julia",
   "name": "julia",
   "version": "1.7.2"
  }
 },
 "nbformat": 4,
 "nbformat_minor": 5
}
