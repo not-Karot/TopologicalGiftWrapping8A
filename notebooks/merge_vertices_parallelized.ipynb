{
 "cells": [
  {
   "cell_type": "markdown",
   "metadata": {
    "pycharm": {
     "name": "#%% md\n"
    }
   },
   "source": [
    "# Gruppo 8A\n",
    "Ennio Malvati - 484998 <br>\n",
    "Gianluca Di Lorenzo - 583630 <br>\n",
    "Raffaele Scarano - 576304"
   ]
  },
  {
   "cell_type": "code",
   "execution_count": null,
   "metadata": {
    "pycharm": {
     "name": "#%%\n"
    }
   },
   "outputs": [],
   "source": []
  },
  {
   "cell_type": "markdown",
   "metadata": {
    "id": "loufg6w4RMFl",
    "pycharm": {
     "name": "#%% md\n"
    }
   },
   "source": [
    "# Parallelizzazione della funzione ***frag_faces***"
   ]
  },
  {
   "cell_type": "markdown",
   "metadata": {},
   "source": [
    "### Attiviamo l'ambiente con i packages necessari"
   ]
  },
  {
   "cell_type": "code",
   "execution_count": 1,
   "metadata": {
    "pycharm": {
     "name": "#%%\n"
    }
   },
   "outputs": [
    {
     "name": "stderr",
     "output_type": "stream",
     "text": [
      "\u001B[32m\u001B[1m  Activating\u001B[22m\u001B[39m project at `~/.julia/environments/v1.7`\n"
     ]
    }
   ],
   "source": [
    "using Pkg\n",
    "Pkg.activate(\"./../../TopologicalGiftWrapping8A\")"
   ]
  },
  {
   "cell_type": "markdown",
   "metadata": {},
   "source": [
    "#### Carichiamo le librerie utili all'implementazione ed alla fase di test"
   ]
  },
  {
   "cell_type": "code",
   "execution_count": 2,
   "metadata": {
    "id": "Y1--N4yfBynm",
    "pycharm": {
     "name": "#%%\n"
    }
   },
   "outputs": [
    {
     "data": {
      "text/plain": [
       "LinearAlgebraicRepresentation"
      ]
     },
     "execution_count": 2,
     "metadata": {},
     "output_type": "execute_result"
    }
   ],
   "source": [
    "using Profile\n",
    "using ProfileView\n",
    "using BenchmarkTools\n",
    "using SparseArrays\n",
    "using LinearAlgebra\n",
    "using LinearAlgebraicRepresentation\n",
    "using NearestNeighbors\n",
    "Lar = LinearAlgebraicRepresentation"
   ]
  },
  {
   "cell_type": "markdown",
   "metadata": {},
   "source": [
    "### Settiamo Julia per runnare con più Threads"
   ]
  },
  {
   "cell_type": "code",
   "execution_count": 3,
   "metadata": {},
   "outputs": [],
   "source": [
    "Threads.nthreads() = 8"
   ]
  },
  {
   "cell_type": "code",
   "execution_count": 4,
   "metadata": {},
   "outputs": [
    {
     "data": {
      "text/plain": [
       "8"
      ]
     },
     "execution_count": 4,
     "metadata": {},
     "output_type": "execute_result"
    }
   ],
   "source": [
    "Threads.nthreads()"
   ]
  },
  {
   "cell_type": "markdown",
   "metadata": {
    "id": "a09QHiChW-KJ",
    "pycharm": {
     "name": "#%% md\n"
    }
   },
   "source": [
    "#### Creaimo una funzione che ritorna sempre gli stessi valori che saranno poi utilizzati come input"
   ]
  },
  {
   "cell_type": "code",
   "execution_count": 5,
   "metadata": {
    "id": "sTdWFHX4Tamj",
    "pycharm": {
     "name": "#%%\n"
    }
   },
   "outputs": [
    {
     "data": {
      "text/plain": [
       "get_input (generic function with 1 method)"
      ]
     },
     "execution_count": 5,
     "metadata": {},
     "output_type": "execute_result"
    }
   ],
   "source": [
    "function get_input()\n",
    "    V = [0.6540618 0.2054992 0.2972308; 0.7142365 0.1455625 0.969203; 0.5941251 0.8769965 0.3624924; 0.6542998 0.8170598 1.0344647; 1.3260341 0.2707609 0.2428771; 1.3862088 0.2108241 0.9148494; 1.2660973 0.9422582 0.3081388; 1.326272 0.8823214 0.980111; -0.3874063 0.4902226 0.4536339; 0.3249123 0.707347 0.5231232; -0.1702819 -0.0864242 0.0297177; 0.5420367 0.1307001 0.099207; -0.317917 0.0663064 1.0658723; 0.3944016 0.2834308 1.1353616; -0.1007926 -0.5103404 0.6419561; 0.611526 -0.2932161 0.7114454; 0.7899026 0.0605793 0.6679889; 0.46601 0.0749997 0.6686316; 0.804323 0.3844725 0.6679746; 0.4804304 0.3988929 0.6686173; 0.7905452 0.060565 0.9922023; 0.4666527 0.0749854 0.992845; 0.8049656 0.3844582 0.992188; 0.4810731 0.3988786 0.9928307; -0.2261907 -0.0720455 0.4715635; -0.0499888 0.0863489 0.7965885; -0.0677963 0.219164 0.24378; 0.1084056 0.3775584 0.5688049; 0.0988343 -0.2998291 0.4063673; 0.2750362 -0.1414347 0.7313923; 0.2572286 -0.0086196 0.1785838; 0.4334306 0.1497748 0.5036087];\n",
    "\n",
    "    EV = SparseArrays.sparse([1, 5, 9, 1, 6, 10, 2, 5, 11, 2, 6, 12, 3, 7, 9, 3, 8, 10, 4, 7, 11, 4, 8, 12, 13, 17, 21, 13, 18, 22, 14, 17, 23, 14, 18, 24, 15, 19, 21, 15, 20, 22, 16, 19, 23, 16, 20, 24, 25, 29, 33, 25, 30, 34, 26, 29, 35, 26, 30, 36, 27, 31, 33, 27, 32, 34, 28, 31, 35, 28, 32, 36], [1, 1, 1, 2, 2, 2, 3, 3, 3, 4, 4, 4, 5, 5, 5, 6, 6, 6, 7, 7, 7, 8, 8, 8, 9, 9, 9, 10, 10, 10, 11, 11, 11, 12, 12, 12, 13, 13, 13, 14, 14, 14, 15, 15, 15, 16, 16, 16, 17, 17, 17, 18, 18, 18, 19, 19, 19, 20, 20, 20, 21, 21, 21, 22, 22, 22, 23, 23, 23, 24, 24, 24], Int8[-1, -1, -1, 1, -1, -1, -1, 1, -1, 1, 1, -1, -1, -1, 1, 1, -1, 1, -1, 1, 1, 1, 1, 1, -1, -1, -1, 1, -1, -1, -1, 1, -1, 1, 1, -1, -1, -1, 1, 1, -1, 1, -1, 1, 1, 1, 1, 1, -1, -1, -1, 1, -1, -1, -1, 1, -1, 1, 1, -1, -1, -1, 1, 1, -1, 1, -1, 1, 1, 1, 1, 1]);\n",
    "\n",
    "    FE = SparseArrays.sparse([1, 3, 1, 4, 2, 3, 2, 4, 1, 5, 1, 6, 2, 5, 2, 6, 3, 5, 3, 6, 4, 5, 4, 6, 7, 9, 7, 10, 8, 9, 8, 10, 7, 11, 7, 12, 8, 11, 8, 12, 9, 11, 9, 12, 10, 11, 10, 12, 13, 15, 13, 16, 14, 15, 14, 16, 13, 17, 13, 18, 14, 17, 14, 18, 15, 17, 15, 18, 16, 17, 16, 18], [1, 1, 2, 2, 3, 3, 4, 4, 5, 5, 6, 6, 7, 7, 8, 8, 9, 9, 10, 10, 11, 11, 12, 12, 13, 13, 14, 14, 15, 15, 16, 16, 17, 17, 18, 18, 19, 19, 20, 20, 21, 21, 22, 22, 23, 23, 24, 24, 25, 25, 26, 26, 27, 27, 28, 28, 29, 29, 30, 30, 31, 31, 32, 32, 33, 33, 34, 34, 35, 35, 36, 36], Int8[1, 1, -1, 1, 1, -1, -1, -1, -1, 1, 1, 1, -1, -1, 1, -1, -1, -1, 1, -1, -1, 1, 1, 1, 1, 1, -1, 1, 1, -1, -1, -1, -1, 1, 1, 1, -1, -1, 1, -1, -1, -1, 1, -1, -1, 1, 1, 1, 1, 1, -1, 1, 1, -1, -1, -1, -1, 1, 1, 1, -1, -1, 1, -1, -1, -1, 1, -1, -1, 1, 1, 1]);\n",
    "    return V, EV, FE\n",
    "end"
   ]
  },
  {
   "cell_type": "markdown",
   "metadata": {},
   "source": [
    "### Eseguiamo un benchmark della funziona frag face di Lar"
   ]
  },
  {
   "cell_type": "markdown",
   "metadata": {},
   "source": [
    "Testiamo la funzione con l'utilizzo di @btime della libreria BenchmarkTools e successivamente con @benchmark"
   ]
  },
  {
   "cell_type": "code",
   "execution_count": 7,
   "metadata": {
    "id": "fDZuPSYEW9Eh",
    "pycharm": {
     "name": "#%%\n"
    }
   },
   "outputs": [
    {
     "name": "stdout",
     "output_type": "stream",
     "text": [
      "  95.500 μs (2979 allocations: 200.70 KiB)\n"
     ]
    },
    {
     "data": {
      "text/plain": [
       "([0.6540618 0.2054992 0.2972308; 0.7142365 0.1455625 0.969203; … ; 0.2572286 -0.0086196 0.1785838; 0.4334306 0.1497748 0.5036087], sparse([1, 5, 9, 1, 6, 10, 2, 5, 11, 2  …  33, 27, 32, 34, 28, 31, 35, 28, 32, 36], [1, 1, 1, 2, 2, 2, 3, 3, 3, 4  …  21, 22, 22, 22, 23, 23, 23, 24, 24, 24], Int8[-1, -1, -1, 1, -1, -1, -1, 1, -1, 1  …  1, 1, -1, 1, -1, 1, 1, 1, 1, 1], 36, 32), sparse([1, 3, 1, 4, 2, 3, 2, 4, 1, 5  …  14, 18, 15, 17, 15, 18, 16, 17, 16, 18], [1, 1, 2, 2, 3, 3, 4, 4, 5, 5  …  32, 32, 33, 33, 34, 34, 35, 35, 36, 36], Int8[1, 1, -1, 1, 1, -1, -1, -1, -1, 1  …  1, -1, -1, -1, 1, -1, -1, 1, 1, 1], 18, 36))"
      ]
     },
     "execution_count": 7,
     "metadata": {},
     "output_type": "execute_result"
    }
   ],
   "source": [
    "V, EV, FE = get_input()\n",
    "@btime Lar.Arrangement.merge_vertices($Lar.Points(V),$Lar.ChainOp(EV),$Lar.ChainOp(FE),$1e-8)"
   ]
  },
  {
   "cell_type": "code",
   "execution_count": 9,
   "metadata": {},
   "outputs": [
    {
     "data": {
      "text/plain": [
       "BenchmarkTools.Trial: 10000 samples with 1 evaluation.\n",
       " Range \u001B[90m(\u001B[39m\u001B[36m\u001B[1mmin\u001B[22m\u001B[39m … \u001B[35mmax\u001B[39m\u001B[90m):  \u001B[39m\u001B[36m\u001B[1m 95.291 μs\u001B[22m\u001B[39m … \u001B[35m  3.111 ms\u001B[39m  \u001B[90m┊\u001B[39m GC \u001B[90m(\u001B[39mmin … max\u001B[90m): \u001B[39m 0.00% … 95.72%\n",
       " Time  \u001B[90m(\u001B[39m\u001B[34m\u001B[1mmedian\u001B[22m\u001B[39m\u001B[90m):     \u001B[39m\u001B[34m\u001B[1m 98.167 μs               \u001B[22m\u001B[39m\u001B[90m┊\u001B[39m GC \u001B[90m(\u001B[39mmedian\u001B[90m):    \u001B[39m 0.00%\n",
       " Time  \u001B[90m(\u001B[39m\u001B[32m\u001B[1mmean\u001B[22m\u001B[39m ± \u001B[32mσ\u001B[39m\u001B[90m):   \u001B[39m\u001B[32m\u001B[1m112.574 μs\u001B[22m\u001B[39m ± \u001B[32m194.207 μs\u001B[39m  \u001B[90m┊\u001B[39m GC \u001B[90m(\u001B[39mmean ± σ\u001B[90m):  \u001B[39m11.52% ±  6.43%\n",
       "\n",
       "  \u001B[39m \u001B[39m \u001B[39m \u001B[39m▅\u001B[39m█\u001B[39m▄\u001B[39m▂\u001B[34m \u001B[39m\u001B[39m \u001B[39m \u001B[39m \u001B[39m \u001B[39m \u001B[39m \u001B[39m \u001B[39m \u001B[39m \u001B[39m \u001B[39m \u001B[39m \u001B[39m \u001B[39m \u001B[39m \u001B[39m \u001B[39m \u001B[39m \u001B[39m \u001B[39m \u001B[39m \u001B[39m \u001B[39m \u001B[39m \u001B[39m \u001B[39m \u001B[39m \u001B[39m \u001B[39m \u001B[39m \u001B[39m \u001B[39m \u001B[39m \u001B[32m \u001B[39m\u001B[39m \u001B[39m \u001B[39m \u001B[39m \u001B[39m \u001B[39m \u001B[39m \u001B[39m \u001B[39m \u001B[39m \u001B[39m \u001B[39m \u001B[39m \u001B[39m \u001B[39m \u001B[39m \u001B[39m \u001B[39m \u001B[39m \u001B[39m \u001B[39m \n",
       "  \u001B[39m▂\u001B[39m▄\u001B[39m█\u001B[39m█\u001B[39m█\u001B[39m█\u001B[39m█\u001B[34m█\u001B[39m\u001B[39m▆\u001B[39m▆\u001B[39m▅\u001B[39m▅\u001B[39m▅\u001B[39m▅\u001B[39m▅\u001B[39m▄\u001B[39m▄\u001B[39m▄\u001B[39m▄\u001B[39m▃\u001B[39m▃\u001B[39m▃\u001B[39m▃\u001B[39m▃\u001B[39m▃\u001B[39m▃\u001B[39m▂\u001B[39m▂\u001B[39m▂\u001B[39m▂\u001B[39m▂\u001B[39m▂\u001B[39m▂\u001B[39m▂\u001B[39m▂\u001B[39m▂\u001B[39m▂\u001B[39m▂\u001B[39m▂\u001B[39m▂\u001B[39m▂\u001B[32m▂\u001B[39m\u001B[39m▂\u001B[39m▂\u001B[39m▂\u001B[39m▁\u001B[39m▂\u001B[39m▂\u001B[39m▂\u001B[39m▂\u001B[39m▂\u001B[39m▁\u001B[39m▂\u001B[39m▂\u001B[39m▂\u001B[39m▂\u001B[39m▂\u001B[39m▂\u001B[39m▂\u001B[39m▂\u001B[39m▂\u001B[39m \u001B[39m▃\n",
       "  95.3 μs\u001B[90m          Histogram: frequency by time\u001B[39m          121 μs \u001B[0m\u001B[1m<\u001B[22m\n",
       "\n",
       " Memory estimate\u001B[90m: \u001B[39m\u001B[33m200.70 KiB\u001B[39m, allocs estimate\u001B[90m: \u001B[39m\u001B[33m2979\u001B[39m."
      ]
     },
     "execution_count": 9,
     "metadata": {},
     "output_type": "execute_result"
    }
   ],
   "source": [
    "V, EV, FE = get_input()\n",
    "@benchmark Lar.Arrangement.merge_vertices($Lar.Points(V),$Lar.ChainOp(EV),$Lar.ChainOp(FE),$1e-8)"
   ]
  },
  {
   "cell_type": "markdown",
   "metadata": {
    "id": "_5hOc-c0bhsv",
    "pycharm": {
     "name": "#%% md\n"
    }
   },
   "source": [
    "### Proviamo una parallelizzazione utilizzando la macro @Threads"
   ]
  },
  {
   "cell_type": "code",
   "execution_count": 10,
   "metadata": {},
   "outputs": [
    {
     "data": {
      "text/plain": [
       "merge_vertices_multithread (generic function with 2 methods)"
      ]
     },
     "execution_count": 10,
     "metadata": {},
     "output_type": "execute_result"
    }
   ],
   "source": [
    "function merge_vertices_multithread(V::Lar.Points, EV::Lar.ChainOp, FE::Lar.ChainOp, err=1e-4)\n",
    "    vertsnum = size(V, 1)\n",
    "    edgenum = size(EV, 1)\n",
    "    facenum = size(FE, 1)\n",
    "    newverts = zeros(Int, vertsnum)\n",
    "\n",
    "    # KDTree constructor needs an explicit array of Float64\n",
    "    V = Array{Float64,2}(V)\n",
    "    W = convert(Lar.Points, LinearAlgebra.transpose(V))\n",
    "    kdtree = KDTree(W)\n",
    "\n",
    "    # remove vertices congruent to a single representative\n",
    "    todelete = []\n",
    "    i = 1\n",
    "\n",
    "    for vi in 1:vertsnum #non è possibile parallelizzare\n",
    "        if !(vi in todelete)\n",
    "            nearvs =  Lar.inrange(kdtree, V[vi, :], err)\n",
    "            newverts[nearvs] .= i\n",
    "            nearvs =  setdiff(nearvs, vi)\n",
    "            todelete = union(todelete, nearvs)\n",
    "            i = i + 1\n",
    "        end\n",
    "    end\n",
    "    nV = V[setdiff(collect(1:vertsnum), todelete), :]\n",
    "    \n",
    "    # translate edges to take congruence into account\n",
    "    edges = Array{Tuple{Int, Int}, 1}(undef, edgenum)\n",
    "    oedges = Array{Tuple{Int, Int}, 1}(undef, edgenum)\n",
    "\n",
    "    for ei in 1:edgenum #non è possibile parallelizzare\n",
    "        v1, v2 = EV[ei, :].nzind\n",
    "        edges[ei] = Tuple{Int, Int}(sort([newverts[v1], newverts[v2]]))\n",
    "        oedges[ei] = Tuple{Int, Int}(sort([v1, v2]))\n",
    "    end\n",
    "\n",
    "    nedges = union(edges)\n",
    "    # remove edges of zero length\n",
    "    nedges = filter(t->t[1]!=t[2], nedges)\n",
    "    nedgenum = length(nedges)\n",
    "    nEV = spzeros(Int8, nedgenum, size(nV, 1))\n",
    " \n",
    "    etuple2idx = Dict{Tuple{Int, Int}, Int}()\n",
    "\n",
    "    for ei in 1:nedgenum #non è possibile parallelizzare\n",
    "        begin\n",
    "            nEV[ei, collect(nedges[ei])] .= 1\n",
    "            nEV\n",
    "        end\n",
    "        etuple2idx[nedges[ei]] = ei\n",
    "    end\n",
    "    \n",
    "    Threads.@threads for e in 1:nedgenum \n",
    "        v1,v2 = findnz(nEV[e,:])[1]\n",
    "        nEV[e,v1] = -1; nEV[e,v2] = 1\n",
    "    end\n",
    " \n",
    "    # compute new faces to take congruence into account\n",
    "    faces = [[\n",
    "        map(x->newverts[x], FE[fi, ei] > 0 ? oedges[ei] : reverse(oedges[ei]))\n",
    "        for ei in FE[fi, :].nzind\n",
    "    ] for fi in 1:facenum]\n",
    " \n",
    " \n",
    "    visited = []\n",
    "    function filter_fn(face)\n",
    " \n",
    "        verts = []\n",
    "        map(e->verts = union(verts, collect(e)), face)\n",
    "        verts = Set(verts)\n",
    " \n",
    "        if !(verts in visited)\n",
    "            push!(visited, verts)\n",
    "            return true\n",
    "        end\n",
    "        return false\n",
    "    end\n",
    " \n",
    "    nfaces = filter(filter_fn, faces)\n",
    " \n",
    "    nfacenum = length(nfaces)\n",
    "    nFE = spzeros(Int8, nfacenum, size(nEV, 1))\n",
    " \n",
    "    Threads.@threads for fi in 1:nfacenum\n",
    "        Threads.@threads for edge in nfaces[fi]\n",
    "            ei = etuple2idx[Tuple{Int, Int}(sort(collect(edge)))]\n",
    "            nFE[fi, ei] = sign(edge[2] - edge[1])\n",
    "        end\n",
    "    end\n",
    " \n",
    "    return Lar.Points(nV), nEV, nFE\n",
    " end"
   ]
  },
  {
   "cell_type": "code",
   "execution_count": 22,
   "metadata": {
    "scrolled": true
   },
   "outputs": [
    {
     "name": "stdout",
     "output_type": "stream",
     "text": [
      "  96.875 μs (2999 allocations: 202.24 KiB)\n"
     ]
    },
    {
     "data": {
      "text/plain": [
       "([0.6540618 0.2054992 0.2972308; 0.7142365 0.1455625 0.969203; … ; 0.2572286 -0.0086196 0.1785838; 0.4334306 0.1497748 0.5036087], sparse([1, 5, 9, 1, 6, 10, 2, 5, 11, 2  …  33, 27, 32, 34, 28, 31, 35, 28, 32, 36], [1, 1, 1, 2, 2, 2, 3, 3, 3, 4  …  21, 22, 22, 22, 23, 23, 23, 24, 24, 24], Int8[-1, -1, -1, 1, -1, -1, -1, 1, -1, 1  …  1, 1, -1, 1, -1, 1, 1, 1, 1, 1], 36, 32), sparse([1, 3, 1, 4, 2, 3, 2, 4, 1, 5  …  14, 18, 15, 17, 15, 18, 16, 17, 16, 18], [1, 1, 2, 2, 3, 3, 4, 4, 5, 5  …  32, 32, 33, 33, 34, 34, 35, 35, 36, 36], Int8[1, 1, -1, 1, 1, -1, -1, -1, -1, 1  …  1, -1, -1, -1, 1, -1, -1, 1, 1, 1], 18, 36))"
      ]
     },
     "execution_count": 22,
     "metadata": {},
     "output_type": "execute_result"
    }
   ],
   "source": [
    "V, EV, FE = get_input()\n",
    "@btime merge_vertices_multithread($Lar.Points(V),$Lar.ChainOp(EV),$Lar.ChainOp(FE),$1e-8)"
   ]
  },
  {
   "cell_type": "code",
   "execution_count": 24,
   "metadata": {},
   "outputs": [
    {
     "data": {
      "text/plain": [
       "BenchmarkTools.Trial: 10000 samples with 1 evaluation.\n",
       " Range \u001B[90m(\u001B[39m\u001B[36m\u001B[1mmin\u001B[22m\u001B[39m … \u001B[35mmax\u001B[39m\u001B[90m):  \u001B[39m\u001B[36m\u001B[1m 97.083 μs\u001B[22m\u001B[39m … \u001B[35m  4.149 ms\u001B[39m  \u001B[90m┊\u001B[39m GC \u001B[90m(\u001B[39mmin … max\u001B[90m): \u001B[39m 0.00% … 96.28%\n",
       " Time  \u001B[90m(\u001B[39m\u001B[34m\u001B[1mmedian\u001B[22m\u001B[39m\u001B[90m):     \u001B[39m\u001B[34m\u001B[1m100.334 μs               \u001B[22m\u001B[39m\u001B[90m┊\u001B[39m GC \u001B[90m(\u001B[39mmedian\u001B[90m):    \u001B[39m 0.00%\n",
       " Time  \u001B[90m(\u001B[39m\u001B[32m\u001B[1mmean\u001B[22m\u001B[39m ± \u001B[32mσ\u001B[39m\u001B[90m):   \u001B[39m\u001B[32m\u001B[1m118.666 μs\u001B[22m\u001B[39m ± \u001B[32m245.354 μs\u001B[39m  \u001B[90m┊\u001B[39m GC \u001B[90m(\u001B[39mmean ± σ\u001B[90m):  \u001B[39m13.79% ±  6.46%\n",
       "\n",
       "  \u001B[39m \u001B[39m \u001B[39m█\u001B[39m▆\u001B[39m▃\u001B[34m \u001B[39m\u001B[39m \u001B[39m \u001B[39m \u001B[39m \u001B[39m \u001B[39m \u001B[39m \u001B[39m \u001B[39m \u001B[39m \u001B[39m \u001B[39m \u001B[39m \u001B[39m \u001B[39m \u001B[39m \u001B[39m \u001B[39m \u001B[39m \u001B[39m \u001B[39m \u001B[39m \u001B[39m \u001B[39m \u001B[39m \u001B[39m \u001B[39m \u001B[32m \u001B[39m\u001B[39m \u001B[39m \u001B[39m \u001B[39m \u001B[39m \u001B[39m \u001B[39m \u001B[39m \u001B[39m \u001B[39m \u001B[39m \u001B[39m \u001B[39m \u001B[39m \u001B[39m \u001B[39m \u001B[39m \u001B[39m \u001B[39m \u001B[39m \u001B[39m \u001B[39m \u001B[39m \u001B[39m \u001B[39m \u001B[39m \u001B[39m \u001B[39m \u001B[39m \n",
       "  \u001B[39m▂\u001B[39m▇\u001B[39m█\u001B[39m█\u001B[39m█\u001B[34m█\u001B[39m\u001B[39m▇\u001B[39m▆\u001B[39m▆\u001B[39m▅\u001B[39m▄\u001B[39m▄\u001B[39m▃\u001B[39m▃\u001B[39m▂\u001B[39m▂\u001B[39m▂\u001B[39m▂\u001B[39m▂\u001B[39m▂\u001B[39m▁\u001B[39m▁\u001B[39m▁\u001B[39m▁\u001B[39m▁\u001B[39m▁\u001B[39m▁\u001B[39m▁\u001B[39m▁\u001B[39m▁\u001B[39m▁\u001B[39m▁\u001B[39m▁\u001B[32m▁\u001B[39m\u001B[39m▁\u001B[39m▁\u001B[39m▁\u001B[39m▁\u001B[39m▁\u001B[39m▁\u001B[39m▁\u001B[39m▁\u001B[39m▁\u001B[39m▁\u001B[39m▁\u001B[39m▁\u001B[39m▁\u001B[39m▁\u001B[39m▁\u001B[39m▁\u001B[39m▁\u001B[39m▁\u001B[39m▁\u001B[39m▁\u001B[39m▁\u001B[39m▁\u001B[39m▁\u001B[39m▁\u001B[39m▁\u001B[39m▁\u001B[39m▁\u001B[39m \u001B[39m▂\n",
       "  97.1 μs\u001B[90m          Histogram: frequency by time\u001B[39m          136 μs \u001B[0m\u001B[1m<\u001B[22m\n",
       "\n",
       " Memory estimate\u001B[90m: \u001B[39m\u001B[33m202.24 KiB\u001B[39m, allocs estimate\u001B[90m: \u001B[39m\u001B[33m2999\u001B[39m."
      ]
     },
     "execution_count": 24,
     "metadata": {},
     "output_type": "execute_result"
    }
   ],
   "source": [
    "V, EV, FE = get_input()\n",
    "@benchmark merge_vertices_multithread($Lar.Points(V),$Lar.ChainOp(EV),$Lar.ChainOp(FE),$1e-8)"
   ]
  },
  {
   "cell_type": "markdown",
   "metadata": {},
   "source": [
    "Non notiamo nessuna differenza tra le due funzioni, proviamo utilizzando la macro @async"
   ]
  },
  {
   "cell_type": "code",
   "execution_count": 25,
   "metadata": {
    "id": "V7AJXzEfbny_",
    "pycharm": {
     "name": "#%%\n"
    }
   },
   "outputs": [
    {
     "data": {
      "text/plain": [
       "merge_vertices_async (generic function with 2 methods)"
      ]
     },
     "execution_count": 25,
     "metadata": {},
     "output_type": "execute_result"
    }
   ],
   "source": [
    "function merge_vertices_async(V::Lar.Points, EV::Lar.ChainOp, FE::Lar.ChainOp, err=1e-4)\n",
    "    vertsnum = size(V, 1)\n",
    "    edgenum = size(EV, 1)\n",
    "    facenum = size(FE, 1)\n",
    "    newverts = zeros(Int, vertsnum)\n",
    "\n",
    "    # KDTree constructor needs an explicit array of Float64\n",
    "    V = Array{Float64,2}(V)\n",
    "    W = convert(Lar.Points, LinearAlgebra.transpose(V))\n",
    "    kdtree = KDTree(W)\n",
    "\n",
    "    # remove vertices congruent to a single representative\n",
    "    todelete = []\n",
    "    i = 1\n",
    "\n",
    "    for vi in 1:vertsnum #non è possibile utilizzare @async\n",
    "        if !(vi in todelete)\n",
    "            nearvs =  Lar.inrange(kdtree, V[vi, :], err)\n",
    "            newverts[nearvs] .= i\n",
    "            nearvs =  setdiff(nearvs, vi)\n",
    "            todelete = union(todelete, nearvs)\n",
    "            i = i + 1\n",
    "        end\n",
    "    end\n",
    "    nV = V[setdiff(collect(1:vertsnum), todelete), :]\n",
    "    \n",
    "    # translate edges to take congruence into account\n",
    "    edges = Array{Tuple{Int, Int}, 1}(undef, edgenum)\n",
    "    oedges = Array{Tuple{Int, Int}, 1}(undef, edgenum)\n",
    "\n",
    "    for ei in 1:edgenum #non è possibile utilizzare @async\n",
    "        v1, v2 = EV[ei, :].nzind\n",
    "        edges[ei] = Tuple{Int, Int}(sort([newverts[v1], newverts[v2]]))\n",
    "        oedges[ei] = Tuple{Int, Int}(sort([v1, v2]))\n",
    "    end\n",
    "\n",
    "    nedges = union(edges)\n",
    "    # remove edges of zero length\n",
    "    nedges = filter(t->t[1]!=t[2], nedges)\n",
    "    nedgenum = length(nedges)\n",
    "    nEV = spzeros(Int8, nedgenum, size(nV, 1))\n",
    " \n",
    "    etuple2idx = Dict{Tuple{Int, Int}, Int}()\n",
    "\n",
    "    for ei in 1:nedgenum #non è possibile utilizzare @async\n",
    "        begin\n",
    "            nEV[ei, collect(nedges[ei])] .= 1\n",
    "            nEV\n",
    "        end\n",
    "        etuple2idx[nedges[ei]] = ei\n",
    "    end\n",
    "    \n",
    "    @async for e in 1:nedgenum \n",
    "        v1,v2 = findnz(nEV[e,:])[1]\n",
    "        nEV[e,v1] = -1; nEV[e,v2] = 1\n",
    "    end\n",
    " \n",
    "    # compute new faces to take congruence into account\n",
    "    faces = [[\n",
    "        map(x->newverts[x], FE[fi, ei] > 0 ? oedges[ei] : reverse(oedges[ei]))\n",
    "        for ei in FE[fi, :].nzind\n",
    "    ] for fi in 1:facenum]\n",
    " \n",
    " \n",
    "    visited = []\n",
    "    function filter_fn(face)\n",
    " \n",
    "        verts = []\n",
    "        map(e->verts = union(verts, collect(e)), face)\n",
    "        verts = Set(verts)\n",
    " \n",
    "        if !(verts in visited)\n",
    "            push!(visited, verts)\n",
    "            return true\n",
    "        end\n",
    "        return false\n",
    "    end\n",
    " \n",
    "    nfaces = filter(filter_fn, faces)\n",
    " \n",
    "    nfacenum = length(nfaces)\n",
    "    nFE = spzeros(Int8, nfacenum, size(nEV, 1))\n",
    " \n",
    "    @async for fi in 1:nfacenum\n",
    "        @async for edge in nfaces[fi]\n",
    "            ei = etuple2idx[Tuple{Int, Int}(sort(collect(edge)))]\n",
    "            nFE[fi, ei] = sign(edge[2] - edge[1])\n",
    "        end\n",
    "    end\n",
    " \n",
    "    return Lar.Points(nV), nEV, nFE\n",
    " end"
   ]
  },
  {
   "cell_type": "code",
   "execution_count": 27,
   "metadata": {
    "id": "K1OX3mk3h00-",
    "pycharm": {
     "name": "#%%\n"
    }
   },
   "outputs": [
    {
     "name": "stdout",
     "output_type": "stream",
     "text": [
      "  80.750 μs (2622 allocations: 174.80 KiB)\n"
     ]
    },
    {
     "data": {
      "text/plain": [
       "([0.6540618 0.2054992 0.2972308; 0.7142365 0.1455625 0.969203; … ; 0.2572286 -0.0086196 0.1785838; 0.4334306 0.1497748 0.5036087], sparse([1, 5, 9, 1, 6, 10, 2, 5, 11, 2  …  33, 27, 32, 34, 28, 31, 35, 28, 32, 36], [1, 1, 1, 2, 2, 2, 3, 3, 3, 4  …  21, 22, 22, 22, 23, 23, 23, 24, 24, 24], Int8[-1, -1, -1, 1, -1, -1, -1, 1, -1, 1  …  1, 1, -1, 1, -1, 1, 1, 1, 1, 1], 36, 32), sparse([1, 3, 1, 4, 2, 3, 2, 4, 1, 5  …  14, 18, 15, 17, 15, 18, 16, 17, 16, 18], [1, 1, 2, 2, 3, 3, 4, 4, 5, 5  …  32, 32, 33, 33, 34, 34, 35, 35, 36, 36], Int8[1, 1, -1, 1, 1, -1, -1, -1, -1, 1  …  1, -1, -1, -1, 1, -1, -1, 1, 1, 1], 18, 36))"
      ]
     },
     "execution_count": 27,
     "metadata": {},
     "output_type": "execute_result"
    }
   ],
   "source": [
    "V, EV, FE = get_input()\n",
    "@btime merge_vertices_async(Lar.Points(V),Lar.ChainOp(EV),Lar.ChainOp(FE),1e-8)"
   ]
  },
  {
   "cell_type": "code",
   "execution_count": 29,
   "metadata": {
    "id": "9Lt2ySsBkDWa",
    "pycharm": {
     "name": "#%%\n"
    }
   },
   "outputs": [
    {
     "data": {
      "text/plain": [
       "BenchmarkTools.Trial: 10000 samples with 1 evaluation.\n",
       " Range \u001B[90m(\u001B[39m\u001B[36m\u001B[1mmin\u001B[22m\u001B[39m … \u001B[35mmax\u001B[39m\u001B[90m):  \u001B[39m\u001B[36m\u001B[1m 80.542 μs\u001B[22m\u001B[39m … \u001B[35m 36.894 ms\u001B[39m  \u001B[90m┊\u001B[39m GC \u001B[90m(\u001B[39mmin … max\u001B[90m): \u001B[39m 0.00% … 99.59%\n",
       " Time  \u001B[90m(\u001B[39m\u001B[34m\u001B[1mmedian\u001B[22m\u001B[39m\u001B[90m):     \u001B[39m\u001B[34m\u001B[1m 84.958 μs               \u001B[22m\u001B[39m\u001B[90m┊\u001B[39m GC \u001B[90m(\u001B[39mmedian\u001B[90m):    \u001B[39m 0.00%\n",
       " Time  \u001B[90m(\u001B[39m\u001B[32m\u001B[1mmean\u001B[22m\u001B[39m ± \u001B[32mσ\u001B[39m\u001B[90m):   \u001B[39m\u001B[32m\u001B[1m109.391 μs\u001B[22m\u001B[39m ± \u001B[32m847.495 μs\u001B[39m  \u001B[90m┊\u001B[39m GC \u001B[90m(\u001B[39mmean ± σ\u001B[90m):  \u001B[39m20.36% ±  2.63%\n",
       "\n",
       "  \u001B[39m \u001B[39m \u001B[39m▂\u001B[39m▆\u001B[39m█\u001B[39m▆\u001B[39m▃\u001B[34m▂\u001B[39m\u001B[39m \u001B[39m \u001B[39m \u001B[39m \u001B[39m \u001B[39m \u001B[39m \u001B[39m \u001B[39m \u001B[39m \u001B[39m \u001B[39m \u001B[39m \u001B[39m \u001B[39m \u001B[39m \u001B[39m \u001B[39m \u001B[39m \u001B[39m \u001B[39m \u001B[39m \u001B[39m \u001B[39m \u001B[39m \u001B[39m \u001B[39m \u001B[39m \u001B[39m \u001B[39m \u001B[39m \u001B[39m \u001B[39m \u001B[39m \u001B[39m \u001B[39m \u001B[39m \u001B[39m \u001B[32m \u001B[39m\u001B[39m \u001B[39m \u001B[39m \u001B[39m \u001B[39m \u001B[39m \u001B[39m \u001B[39m \u001B[39m \u001B[39m \u001B[39m \u001B[39m \u001B[39m \u001B[39m \u001B[39m \u001B[39m \n",
       "  \u001B[39m▂\u001B[39m▅\u001B[39m█\u001B[39m█\u001B[39m█\u001B[39m█\u001B[39m█\u001B[34m█\u001B[39m\u001B[39m█\u001B[39m█\u001B[39m▇\u001B[39m▆\u001B[39m▆\u001B[39m▅\u001B[39m▄\u001B[39m▄\u001B[39m▄\u001B[39m▃\u001B[39m▃\u001B[39m▂\u001B[39m▂\u001B[39m▂\u001B[39m▂\u001B[39m▂\u001B[39m▂\u001B[39m▂\u001B[39m▂\u001B[39m▂\u001B[39m▁\u001B[39m▁\u001B[39m▁\u001B[39m▂\u001B[39m▁\u001B[39m▁\u001B[39m▁\u001B[39m▁\u001B[39m▁\u001B[39m▁\u001B[39m▁\u001B[39m▁\u001B[39m▁\u001B[39m▁\u001B[39m▁\u001B[39m▁\u001B[39m▁\u001B[39m▁\u001B[32m▁\u001B[39m\u001B[39m▁\u001B[39m▁\u001B[39m▁\u001B[39m▁\u001B[39m▁\u001B[39m▁\u001B[39m▁\u001B[39m▁\u001B[39m▁\u001B[39m▁\u001B[39m▁\u001B[39m▁\u001B[39m▁\u001B[39m▁\u001B[39m \u001B[39m▂\n",
       "  80.5 μs\u001B[90m          Histogram: frequency by time\u001B[39m          119 μs \u001B[0m\u001B[1m<\u001B[22m\n",
       "\n",
       " Memory estimate\u001B[90m: \u001B[39m\u001B[33m174.80 KiB\u001B[39m, allocs estimate\u001B[90m: \u001B[39m\u001B[33m2622\u001B[39m."
      ]
     },
     "execution_count": 29,
     "metadata": {},
     "output_type": "execute_result"
    }
   ],
   "source": [
    "V, EV, FE = get_input()\n",
    "@benchmark merge_vertices_async(Lar.Points(V),Lar.ChainOp(EV),Lar.ChainOp(FE),1e-8)"
   ]
  },
  {
   "cell_type": "markdown",
   "metadata": {
    "pycharm": {
     "name": "#%%\n"
    }
   },
   "source": [
    "In questo caso, come per frag_face i tempi sono ridotti quasi del 25% e l'allocazione di memoria è ridotta quasi del 20%.\n",
    "Considerando che anche questo metodo viene utilizzato più volte nel macrotask spatial_arrangement, possiamo ritenere questo risultato soddisfacente."
   ]
  },
  {
   "cell_type": "code",
   "execution_count": 30,
   "metadata": {},
   "outputs": [],
   "source": [
    "Profile.clear()\n",
    "Profile.init(delay=.1e-7)\n",
    "@profile for _ in 1:200\n",
    "    merge_vertices_async(Lar.Points(V),Lar.ChainOp(EV),Lar.ChainOp(FE),1e-8)\n",
    "end"
   ]
  },
  {
   "cell_type": "code",
   "execution_count": 31,
   "metadata": {},
   "outputs": [
    {
     "name": "stdout",
     "output_type": "stream",
     "text": [
      "Overhead ╎ [+additional indent] Count File:Line; Function\n",
      "=========================================================\n",
      "  2╎2    In[25]:69; (::var\"#37#46\")(e::Tuple{Int64,...\n",
      "   ╎1    In[25]:33; merge_vertices_async(V::Matrix{...\n",
      "   ╎ 1    @Base/sort.jl:770; sort\n",
      "   ╎  1    @Base/sort.jl:770; #sort#9\n",
      "   ╎   1    ...e/abstractarray.jl:1129; copymutable\n",
      "   ╎    1    @Base/array.jl:373; similar\n",
      "  1╎     1    @Base/boot.jl:457; Array\n",
      "   ╎2    @Base/abstractarray.jl:1433; mightalias(A::SparseMatrixCSC{I...\n",
      "   ╎ 1    @Base/abstractarray.jl:1443; _isdisjoint\n",
      "  1╎  1    @Base/tuple.jl:0; in\n",
      "   ╎ 1    @Base/reflection.jl:553; isbits\n",
      "  1╎  1    @Base/Base.jl:37; getproperty\n",
      "  4╎4    @Base/abstractset.jl:279; issubset(l::Set{Any}, r::Set{Any})\n",
      "  1╎1    @Base/abstractset.jl:293; issubset(l::Set{Any}, r::Set{Any})\n",
      "  2╎2    @Base/abstractset.jl:442; mapfilter(pred::Base.var\"#115#1...\n",
      "  2╎2    @Base/abstractset.jl:50; union(s::Vector{Any}, sets::Vec...\n",
      "  1╎1    @Base/abstractset.jl:97; union!(s::Set{Any}, itr::Vector...\n",
      "  3╎3    @Base/array.jl:325; _copyto_impl!(dest::Vector{Int6...\n",
      "  1╎1    @Base/array.jl:717; collect(itr::Base.Generator{Vec...\n",
      "  1╎1    @Base/array.jl:2479; filter(f::Base.var\"#115#116\"{ty...\n",
      "   ╎2    @Base/array.jl:2484; filter(f::Base.var\"#115#116\"{ty...\n",
      "   ╎ 2    @Base/array.jl:2593; #115\n",
      "   ╎  2    @Base/set.jl:58; in\n",
      "   ╎   2    @Base/dict.jl:552; haskey\n",
      "   ╎    2    @Base/dict.jl:288; ht_keyindex(h::Dict{Int64, No...\n",
      "   ╎     2    @Base/dict.jl:171; isslotempty\n",
      "  2╎    ╎ 2    @Base/array.jl:861; getindex\n",
      "  1╎1    @Base/array.jl:2525; filter!(f::Base.var\"#115#116\"{t...\n",
      "  1╎1    @Base/array.jl:2637; setdiff(itr::Vector{Int64}, itr...\n",
      "  2╎2    @Base/array.jl:2612; union!(::Vector{Any}, ::Vector{...\n",
      "  2╎2    @Base/dict.jl:88; Dict{Any, Nothing}()\n",
      "   ╎1    @Base/dict.jl:90; Dict{Int64, Nothing}()\n",
      "  1╎ 1    @Base/boot.jl:457; Array\n",
      "  8╎8    @Base/dict.jl:280; ht_keyindex(h::Dict{Any, Nothin...\n",
      "  1╎1    @Base/dict.jl:288; ht_keyindex(h::Dict{Tuple{Int64...\n",
      "   ╎2    @Base/dict.jl:291; ht_keyindex(h::Dict{Tuple{Int64...\n",
      "  2╎ 2    @Base/array.jl:861; getindex\n",
      "  5╎5    @Base/dict.jl:305; ht_keyindex2!(h::Dict{Any, Noth...\n",
      "  4╎4    @Base/dict.jl:380; setindex!(h::Dict{Any, Nothing}...\n",
      "  2╎2    @Base/operators.jl:1280; in(x::Set{Any}, itr::Vector{Any})\n",
      "  1╎1    @Base/set.jl:23; Set(itr::Vector{Any})\n",
      "   ╎1    @Base/sort.jl:574; sort!(v::Vector{Int64}, lo::Int...\n",
      "  1╎ 1    @Base/sort.jl:516; sort!(v::Vector{Int64}, lo::Int...\n",
      "  1╎1    @Base/sort.jl:660; sort!(v::Vector{Int64}, alg::Ba...\n",
      "   ╎847  @Base/task.jl:423; (::IJulia.var\"#15#18\")()\n",
      "   ╎ 847  ...lia/src/eventloop.jl:8; eventloop(socket::ZMQ.Socket)\n",
      "   ╎  847  @Base/essentials.jl:714; invokelatest\n",
      "   ╎   847  @Base/essentials.jl:716; #invokelatest#2\n",
      "   ╎    847  .../execute_request.jl:67; execute_request(socket::ZMQ.So...\n",
      "   ╎     847  ...SoftGlobalScope.jl:65; softscope_include_string(m::M...\n",
      "   ╎    ╎ 847  @Base/loading.jl:1196; include_string(mapexpr::typ...\n",
      "  1╎    ╎  847  @Base/boot.jl:373; eval\n",
      "   ╎    ╎   846  ...le/src/Profile.jl:28; top-level scope\n",
      "  6╎    ╎    846  In[30]:4; macro expansion\n",
      "  2╎    ╎     5    In[25]:9; merge_vertices_async(V::M...\n",
      "   ╎    ╎    ╎ 3    @Base/array.jl:554; convert(#unused#::Type{Ma...\n",
      "   ╎    ╎    ╎  3    @Base/boot.jl:479; Array\n",
      "   ╎    ╎    ╎   3    @Base/array.jl:563; Array\n",
      "   ╎    ╎    ╎    1    ...stractarray.jl:1104; copyto_axcheck!(dest::...\n",
      "   ╎    ╎    ╎     1    ...stractarray.jl:998; copyto!\n",
      "   ╎    ╎    ╎    ╎ 1    ...tractarray.jl:1024; copyto_unaliased!(des...\n",
      "   ╎    ╎    ╎    ╎  1    ...tractarray.jl:1144; iterate\n",
      "   ╎    ╎    ╎    ╎   1    ...ractarray.jl:1218; getindex\n",
      "   ╎    ╎    ╎    ╎    1    ...ractarray.jl:1262; _getindex\n",
      "   ╎    ╎    ╎    ╎     1    .../adjtrans.jl:179; getindex\n",
      "  1╎    ╎    ╎    ╎    ╎ 1    @Base/array.jl:862; getindex\n",
      "   ╎    ╎    ╎    2    @Base/boot.jl:467; Array\n",
      "  2╎    ╎    ╎     2    @Base/boot.jl:459; Array\n",
      "  3╎    ╎     37   In[25]:10; merge_vertices_async(V::M...\n",
      "   ╎    ╎    ╎ 34   ...s/src/kd_tree.jl:91; KDTree(data::Matrix{Float...\n",
      "   ╎    ╎    ╎  34   .../src/kd_tree.jl:91; KDTree\n",
      "  1╎    ╎    ╎   7    .../src/kd_tree.jl:93; KDTree(data::Matrix{Floa...\n",
      "  3╎    ╎    ╎    4    .../essentials.jl:701; Val(x::Int64)\n",
      "   ╎    ╎    ╎    2    ...c/utilities.jl:96; copy_svec(#unused#::Typ...\n",
      "  2╎    ╎    ╎     2    @Base/array.jl:0; collect(itr::Base.Genera...\n",
      " 11╎    ╎    ╎   11   .../src/kd_tree.jl:95; KDTree(data::Matrix{Floa...\n",
      "  7╎    ╎    ╎   16   .../src/kd_tree.jl:99; KDTree(data::Matrix{Floa...\n",
      "   ╎    ╎    ╎    9    .../src/kd_tree.jl:33; (::Core.var\"#Type##kw\")(...\n",
      "   ╎    ╎    ╎     1    ...src/kd_tree.jl:35; KDTree(data::Vector{Sta...\n",
      "   ╎    ╎    ╎    ╎ 1    ...c/tree_data.jl:21; NearestNeighbors.TreeD...\n",
      "   ╎    ╎    ╎    ╎  1    @Base/math.jl:1221; log2\n",
      "   ╎    ╎    ╎    ╎   1    ...pecial/log.jl:268; log2\n",
      "   ╎    ╎    ╎    ╎    1    ...ecial/log.jl:298; _log(x::Float64, bas...\n",
      "   ╎    ╎    ╎    ╎     1    ...ecial/log.jl:165; log_proc1\n",
      "   ╎    ╎    ╎    ╎    ╎ 1    @Base/tuple.jl:89; indexed_iterate\n",
      "  1╎    ╎    ╎    ╎    ╎  1    @Base/tuple.jl:89; indexed_iterate\n",
      "   ╎    ╎    ╎     5    ...src/kd_tree.jl:64; KDTree(data::Vector{Sta...\n",
      "   ╎    ╎    ╎    ╎ 5    ...rrectangles.jl:19; compute_bbox(data::Vec...\n",
      "  1╎    ╎    ╎    ╎  5    @Base/math.jl:720; min\n",
      "  2╎    ╎    ╎    ╎   2    @Base/float.jl:444; <\n",
      "  1╎    ╎    ╎    ╎   1    ...floatfuncs.jl:15; signbit\n",
      "   ╎    ╎    ╎    ╎   1    .../operators.jl:378; >\n",
      "   ╎    ╎    ╎    ╎    1    @Base/bool.jl:154; <\n",
      "  1╎    ╎    ╎    ╎     1    @Base/bool.jl:35; !\n",
      "   ╎    ╎    ╎     3    ...src/kd_tree.jl:67; KDTree(data::Vector{Sta...\n",
      "   ╎    ╎    ╎    ╎ 2    ...rc/kd_tree.jl:135; build_KDTree(index::In...\n",
      "  1╎    ╎    ╎    ╎  1    @Base/array.jl:0; select_spec!\n",
      "   ╎    ╎    ╎    ╎  1    .../utilities.jl:40; select_spec!\n",
      "  1╎    ╎    ╎    ╎   1    @Base/float.jl:444; <\n",
      "   ╎    ╎    ╎    ╎ 1    ...rc/kd_tree.jl:146; build_KDTree(index::In...\n",
      "   ╎    ╎    ╎    ╎  1    ...rc/kd_tree.jl:135; build_KDTree(index::I...\n",
      "   ╎    ╎    ╎    ╎   1    .../utilities.jl:41; select_spec!\n",
      "  1╎    ╎    ╎    ╎    1    @Base/float.jl:444; <\n",
      " 11╎    ╎     47   In[25]:18; merge_vertices_async(V::M...\n",
      "  3╎    ╎    ╎ 3    @Base/Base.jl:35; getproperty(x::Module, f...\n",
      "   ╎    ╎    ╎ 2    ...bstractarray.jl:1218; getindex\n",
      "   ╎    ╎    ╎  2    ...idimensional.jl:839; _getindex\n",
      "   ╎    ╎    ╎   2    ...idimensional.jl:851; _unsafe_getindex\n",
      "   ╎    ╎    ╎    2    ...stractarray.jl:783; similar\n",
      "   ╎    ╎    ╎     2    @Base/array.jl:378; similar\n",
      "   ╎    ╎    ╎    ╎ 2    @Base/boot.jl:466; Array\n",
      "  2╎    ╎    ╎    ╎  2    @Base/boot.jl:457; Array\n",
      "   ╎    ╎    ╎ 31   .../src/inrange.jl:38; inrange(tree::KDTree{Sta...\n",
      "  1╎    ╎    ╎  1    .../src/inrange.jl:0; inrange(tree::KDTree{Stat...\n",
      "   ╎    ╎    ╎  3    .../src/inrange.jl:40; inrange(tree::KDTree{Stat...\n",
      "   ╎    ╎    ╎   3    @Base/array.jl:411; getindex\n",
      "   ╎    ╎    ╎    3    @Base/boot.jl:476; Array\n",
      "  3╎    ╎    ╎     3    @Base/boot.jl:457; Array\n",
      "   ╎    ╎    ╎  27   .../src/inrange.jl:41; inrange(tree::KDTree{Stat...\n",
      "   ╎    ╎    ╎   26   .../src/inrange.jl:25; inrange_point!(tree::KDT...\n",
      "   ╎    ╎    ╎    2    ...src/kd_tree.jl:218; _inrange(tree::KDTree{S...\n",
      "   ╎    ╎    ╎     2    ...rrectangles.jl:43; get_min_distance\n",
      "   ╎    ╎    ╎    ╎ 2    @Base/simdloop.jl:77; macro expansion\n",
      "   ╎    ╎    ╎    ╎  2    ...rectangles.jl:44; macro expansion\n",
      "   ╎    ╎    ╎    ╎   2    @Base/math.jl:716; max\n",
      "  1╎    ╎    ╎    ╎    1    ...loatfuncs.jl:15; signbit\n",
      "   ╎    ╎    ╎    ╎    1    ...operators.jl:378; >\n",
      "  1╎    ╎    ╎    ╎     1    @Base/float.jl:444; <\n",
      "   ╎    ╎    ╎    24   ...src/kd_tree.jl:219; _inrange(tree::KDTree{S...\n",
      "   ╎    ╎    ╎     24   ...src/kd_tree.jl:260; inrange_kernel!(tree::...\n",
      "  1╎    ╎    ╎    ╎ 22   ...rc/kd_tree.jl:260; inrange_kernel!(tree::...\n",
      "   ╎    ╎    ╎    ╎  21   ...rc/kd_tree.jl:237; inrange_kernel!(tree:...\n",
      "   ╎    ╎    ╎    ╎   1    ...c/tree_ops.jl:122; add_points_inrange!\n",
      "   ╎    ╎    ╎    ╎    1    ...evaluation.jl:14; evaluate\n",
      "   ╎    ╎    ╎    ╎     1    .../simdloop.jl:77; macro expansion\n",
      "   ╎    ╎    ╎    ╎    ╎ 1    ...valuation.jl:16; macro expansion\n",
      "  1╎    ╎    ╎    ╎    ╎  1    @Base/array.jl:861; getindex\n",
      "  3╎    ╎    ╎    ╎   3    ...c/tree_ops.jl:123; add_points_inrange!\n",
      "   ╎    ╎    ╎    ╎   13   ...c/tree_ops.jl:124; add_points_inrange!\n",
      " 13╎    ╎    ╎    ╎    13   @Base/int.jl:87; +\n",
      "   ╎    ╎    ╎    ╎   4    ...c/tree_ops.jl:125; add_points_inrange!\n",
      "   ╎    ╎    ╎    ╎    1    @Base/array.jl:995; push!\n",
      "  1╎    ╎    ╎    ╎     1    @Base/array.jl:948; _growend!\n",
      "  3╎    ╎    ╎    ╎    3    @Base/range.jl:837; iterate\n",
      "  1╎    ╎    ╎    ╎ 2    ...rc/kd_tree.jl:272; inrange_kernel!(tree::...\n",
      "   ╎    ╎    ╎    ╎  1    ...rc/kd_tree.jl:237; inrange_kernel!(tree:...\n",
      "   ╎    ╎    ╎    ╎   1    ...c/tree_ops.jl:122; add_points_inrange!\n",
      "   ╎    ╎    ╎    ╎    1    ...evaluation.jl:14; evaluate\n",
      "   ╎    ╎    ╎    ╎     1    .../simdloop.jl:77; macro expansion\n",
      "   ╎    ╎    ╎    ╎    ╎ 1    ...valuation.jl:16; macro expansion\n",
      "  1╎    ╎    ╎    ╎    ╎  1    @Base/array.jl:861; getindex\n",
      "  1╎    ╎    ╎   1    .../src/inrange.jl:32; inrange_point!(tree::KDT...\n",
      "  2╎    ╎     6    In[25]:19; merge_vertices_async(V::M...\n",
      "  4╎    ╎    ╎ 4    @Base/broadcast.jl:1200; dotview\n",
      "  2╎    ╎     35   In[25]:20; merge_vertices_async(V::M...\n",
      "  1╎    ╎    ╎ 33   @Base/array.jl:2637; setdiff(itr::Vector{Int6...\n"
     ]
    },
    {
     "name": "stdout",
     "output_type": "stream",
     "text": [
      "   ╎    ╎    ╎  22   @Base/array.jl:2632; _shrink\n",
      "   ╎    ╎    ╎   22   @Base/set.jl:23; Set\n",
      "   ╎    ╎    ╎    22   @Base/set.jl:25; _Set\n",
      "   ╎    ╎    ╎     22   @Base/set.jl:10; Set\n",
      "   ╎    ╎    ╎    ╎ 1    ...bstractset.jl:95; union!(s::Set{Int64}, ...\n",
      "   ╎    ╎    ╎    ╎  1    @Base/set.jl:57; length\n",
      "  1╎    ╎    ╎    ╎   1    @Base/Base.jl:42; getproperty\n",
      "   ╎    ╎    ╎    ╎ 3    ...bstractset.jl:97; union!(s::Set{Int64}, ...\n",
      "   ╎    ╎    ╎    ╎  3    @Base/set.jl:59; push!\n",
      "   ╎    ╎    ╎    ╎   1    @Base/dict.jl:382; setindex!(h::Dict{Int...\n",
      "   ╎    ╎    ╎    ╎    1    @Base/dict.jl:314; ht_keyindex2!(h::Dic...\n",
      "   ╎    ╎    ╎    ╎     1    @Base/dict.jl:171; isslotempty\n",
      "  1╎    ╎    ╎    ╎    ╎ 1    @Base/array.jl:861; getindex\n",
      "  1╎    ╎    ╎    ╎   1    @Base/dict.jl:384; setindex!(h::Dict{Int...\n",
      "  1╎    ╎    ╎    ╎   1    @Base/dict.jl:392; setindex!(h::Dict{Int...\n",
      "   ╎    ╎    ╎    ╎ 1    ...bstractset.jl:98; union!(s::Set{Int64}, ...\n",
      "   ╎    ╎    ╎    ╎  1    @Base/set.jl:57; length\n",
      "   ╎    ╎    ╎    ╎   1    @Base/dict.jl:693; length\n",
      "  1╎    ╎    ╎    ╎    1    @Base/Base.jl:42; getproperty\n",
      "  2╎    ╎    ╎    ╎ 2    ...bstractset.jl:100; union!(s::Set{Int64}, ...\n",
      "   ╎    ╎    ╎    ╎ 15   @Base/set.jl:6; Set\n",
      "   ╎    ╎    ╎    ╎  15   @Base/dict.jl:90; Dict{Int64, Nothing}()\n",
      "   ╎    ╎    ╎    ╎   4    @Base/array.jl:521; zeros\n",
      "   ╎    ╎    ╎    ╎    4    @Base/array.jl:525; zeros\n",
      "   ╎    ╎    ╎    ╎     4    @Base/boot.jl:466; Array\n",
      "  4╎    ╎    ╎    ╎    ╎ 4    @Base/boot.jl:457; Array\n",
      " 11╎    ╎    ╎    ╎   11   @Base/boot.jl:457; Array\n",
      "   ╎    ╎    ╎  10   @Base/array.jl:2633; _shrink\n",
      "  1╎    ╎    ╎   10   @Base/array.jl:2628; vectorfilter\n",
      "  1╎    ╎    ╎    1    @Base/array.jl:2479; filter(f::Base.var\"#11...\n",
      "   ╎    ╎    ╎    3    @Base/array.jl:2481; filter(f::Base.var\"#11...\n",
      "  3╎    ╎    ╎     3    @Base/boot.jl:457; Array\n",
      "   ╎    ╎    ╎    5    @Base/array.jl:2486; filter(f::Base.var\"#11...\n",
      "   ╎    ╎    ╎     5    @Base/array.jl:1178; resize!\n",
      "  5╎    ╎    ╎    ╎ 5    @Base/array.jl:957; _deleteend!\n",
      "  2╎    ╎     70   In[25]:21; merge_vertices_async(V::M...\n",
      "   ╎    ╎    ╎ 68   ...e/abstractset.jl:50; union(s::Vector{Any}, set...\n",
      "   ╎    ╎    ╎  8    ...bstractarray.jl:851; emptymutable\n",
      "   ╎    ╎    ╎   8    @Base/boot.jl:476; Array\n",
      "  8╎    ╎    ╎    8    @Base/boot.jl:457; Array\n",
      "  5╎    ╎    ╎  60   @Base/array.jl:2612; union!(::Vector{Any}, ::...\n",
      "  4╎    ╎    ╎   6    @Base/array.jl:2605; _grow!(pred!::Function,...\n",
      "   ╎    ╎    ╎    2    @Base/array.jl:2531; filter!(f::Base.var\"#1...\n",
      "   ╎    ╎    ╎     2    ...stractarray.jl:372; lastindex\n",
      "   ╎    ╎    ╎    ╎ 2    ...tractarray.jl:335; eachindex\n",
      "   ╎    ╎    ╎    ╎  2    ...tractarray.jl:116; axes1\n",
      "   ╎    ╎    ╎    ╎   2    ...tractarray.jl:95; axes\n",
      "  2╎    ╎    ╎    ╎    2    @Base/array.jl:151; size\n",
      "  4╎    ╎    ╎   4    @Base/array.jl:2607; _grow!(pred!::Function,...\n",
      "   ╎    ╎    ╎   45   @Base/set.jl:6; Set\n",
      "  1╎    ╎    ╎    1    @Base/dict.jl:88; Dict{Any, Nothing}()\n",
      "  2╎    ╎    ╎    44   @Base/dict.jl:90; Dict{Any, Nothing}()\n",
      "   ╎    ╎    ╎     26   @Base/array.jl:521; zeros\n",
      "   ╎    ╎    ╎    ╎ 24   @Base/array.jl:525; zeros\n",
      "   ╎    ╎    ╎    ╎  24   @Base/boot.jl:466; Array\n",
      " 24╎    ╎    ╎    ╎   24   @Base/boot.jl:457; Array\n",
      "   ╎    ╎    ╎    ╎ 2    @Base/array.jl:526; zeros\n",
      "  1╎    ╎    ╎    ╎  2    @Base/array.jl:426; fill!\n",
      "  1╎    ╎    ╎    ╎   1    @Base/array.jl:215; length\n",
      " 16╎    ╎    ╎     16   @Base/boot.jl:457; Array\n",
      "   ╎    ╎     8    In[25]:25; merge_vertices_async(V::M...\n",
      "   ╎    ╎    ╎ 5    ...bstractarray.jl:1218; getindex\n",
      "   ╎    ╎    ╎  1    ...idimensional.jl:838; _getindex\n",
      "  1╎    ╎    ╎   1    ...bstractarray.jl:656; checkbounds\n",
      "   ╎    ╎    ╎  4    ...idimensional.jl:839; _getindex\n",
      "   ╎    ╎    ╎   2    ...idimensional.jl:851; _unsafe_getindex(::Index...\n",
      "   ╎    ╎    ╎    2    ...stractarray.jl:783; similar\n",
      "   ╎    ╎    ╎     2    @Base/array.jl:378; similar\n",
      "   ╎    ╎    ╎    ╎ 2    @Base/boot.jl:467; Array\n",
      "  2╎    ╎    ╎    ╎  2    @Base/boot.jl:459; Array\n",
      "   ╎    ╎    ╎   1    ...idimensional.jl:852; _unsafe_getindex(::Index...\n",
      "   ╎    ╎    ╎    1    ...bstractarray.jl:95; axes\n",
      "  1╎    ╎    ╎     1    @Base/array.jl:152; size\n",
      "   ╎    ╎    ╎   1    ...idimensional.jl:853; _unsafe_getindex(::Index...\n",
      "   ╎    ╎    ╎    1    ...dimensional.jl:862; _unsafe_getindex!\n",
      "   ╎    ╎    ╎     1    ...e/cartesian.jl:64; macro expansion\n",
      "   ╎    ╎    ╎    ╎ 1    ...imensional.jl:868; macro expansion\n",
      "   ╎    ╎    ╎    ╎  1    @Base/range.jl:837; iterate\n",
      "  1╎    ╎    ╎    ╎   1    .../promotion.jl:468; ==\n",
      "   ╎    ╎    ╎ 3    @Base/array.jl:2637; setdiff\n",
      "   ╎    ╎    ╎  2    @Base/array.jl:2632; _shrink\n",
      "   ╎    ╎    ╎   2    @Base/set.jl:23; Set\n",
      "   ╎    ╎    ╎    2    @Base/set.jl:25; _Set\n",
      "   ╎    ╎    ╎     2    @Base/set.jl:10; Set\n",
      "   ╎    ╎    ╎    ╎ 1    ...abstractset.jl:95; union!(s::Set{Int64}, ...\n",
      "   ╎    ╎    ╎    ╎  1    @Base/set.jl:76; sizehint!\n",
      "   ╎    ╎    ╎    ╎   1    @Base/dict.jl:244; sizehint!\n",
      "   ╎    ╎    ╎    ╎    1    @Base/dict.jl:187; rehash!(h::Dict{Int6...\n",
      "   ╎    ╎    ╎    ╎     1    @Base/array.jl:1173; resize!\n",
      "  1╎    ╎    ╎    ╎    ╎ 1    @Base/array.jl:948; _growend!\n",
      "   ╎    ╎    ╎    ╎ 1    @Base/set.jl:6; Set\n",
      "   ╎    ╎    ╎    ╎  1    @Base/dict.jl:90; Dict{Int64, Nothing}()\n",
      "  1╎    ╎    ╎    ╎   1    @Base/boot.jl:457; Array\n",
      "   ╎    ╎    ╎  1    @Base/array.jl:2633; _shrink\n",
      "   ╎    ╎    ╎   1    @Base/array.jl:2628; vectorfilter\n",
      "   ╎    ╎    ╎    1    @Base/array.jl:2481; filter(f::Base.var\"#11...\n",
      "  1╎    ╎    ╎     1    @Base/boot.jl:457; Array\n",
      "   ╎    ╎     1    In[25]:28; merge_vertices_async(V::M...\n",
      "  1╎    ╎    ╎ 1    @Base/boot.jl:457; Array\n",
      "   ╎    ╎     3    In[25]:29; merge_vertices_async(V::M...\n",
      "  3╎    ╎    ╎ 3    @Base/boot.jl:457; Array\n",
      "   ╎    ╎     60   In[25]:32; merge_vertices_async(V::M...\n",
      "   ╎    ╎    ╎ 60   ...sparsevector.jl:578; getindex\n",
      "  8╎    ╎    ╎  8    ...sparsevector.jl:0; getindex(A::SparseMatrix...\n",
      "   ╎    ╎    ╎  10   ...sparsevector.jl:585; getindex(A::SparseMatrix...\n",
      "   ╎    ╎    ╎   10   @Base/boot.jl:476; Array\n",
      " 10╎    ╎    ╎    10   @Base/boot.jl:457; Array\n",
      "   ╎    ╎    ╎  5    ...sparsevector.jl:586; getindex(A::SparseMatrix...\n",
      "   ╎    ╎    ╎   5    @Base/boot.jl:476; Array\n",
      "  5╎    ╎    ╎    5    @Base/boot.jl:457; Array\n",
      "   ╎    ╎    ╎  3    ...sparsevector.jl:593; getindex(A::SparseMatrix...\n",
      "  3╎    ╎    ╎   3    @Base/array.jl:861; getindex\n",
      "  1╎    ╎    ╎  4    ...sparsevector.jl:596; getindex(A::SparseMatrix...\n",
      "  3╎    ╎    ╎   3    @Base/array.jl:861; getindex\n",
      "   ╎    ╎    ╎  7    ...sparsevector.jl:597; getindex(A::SparseMatrix...\n",
      "  1╎    ╎    ╎   2    @Base/sort.jl:182; searchsortedfirst\n",
      "  1╎    ╎    ╎    1    @Base/int.jl:86; -\n",
      "   ╎    ╎    ╎   5    @Base/sort.jl:184; searchsortedfirst\n",
      "  5╎    ╎    ╎    5    @Base/array.jl:861; getindex\n",
      "  4╎    ╎    ╎  4    ...sparsevector.jl:598; getindex(A::SparseMatrix...\n",
      "   ╎    ╎    ╎  12   ...sparsevector.jl:599; getindex(A::SparseMatrix...\n",
      "   ╎    ╎    ╎   12   @Base/array.jl:995; push!\n",
      " 12╎    ╎    ╎    12   @Base/array.jl:948; _growend!\n",
      "   ╎    ╎    ╎  5    ...sparsevector.jl:600; getindex(A::SparseMatrix...\n",
      "   ╎    ╎    ╎   5    @Base/array.jl:995; push!\n",
      "  5╎    ╎    ╎    5    @Base/array.jl:948; _growend!\n",
      "   ╎    ╎    ╎  2    ...sparsevector.jl:603; getindex(A::SparseMatrix...\n",
      "  2╎    ╎    ╎   2    @Base/range.jl:837; iterate\n",
      "   ╎    ╎     19   In[25]:33; merge_vertices_async(V::M...\n",
      "   ╎    ╎    ╎ 12   @Base/array.jl:126; vect\n",
      "   ╎    ╎    ╎  12   @Base/array.jl:616; _array_for\n",
      "   ╎    ╎    ╎   12   @Base/array.jl:613; _array_for\n",
      "   ╎    ╎    ╎    12   ...stractarray.jl:828; similar\n",
      "   ╎    ╎    ╎     12   ...stractarray.jl:829; similar\n",
      "   ╎    ╎    ╎    ╎ 12   @Base/boot.jl:466; Array\n",
      " 12╎    ╎    ╎    ╎  12   @Base/boot.jl:457; Array\n",
      "   ╎    ╎    ╎ 7    @Base/sort.jl:770; sort\n",
      "   ╎    ╎    ╎  7    @Base/sort.jl:770; #sort#9\n",
      "   ╎    ╎    ╎   3    ...stractarray.jl:1129; copymutable\n",
      "   ╎    ╎    ╎    3    @Base/array.jl:373; similar\n",
      "  3╎    ╎    ╎     3    @Base/boot.jl:457; Array\n",
      "   ╎    ╎    ╎   4    @Base/sort.jl:711; sort!\n",
      "   ╎    ╎    ╎    1    @Base/sort.jl:716; sort!(v::Vector{Int64};...\n",
      "  1╎    ╎    ╎     1    @Base/checked.jl:194; sub_with_overflow\n",
      "  1╎    ╎    ╎    1    @Base/sort.jl:718; sort!(v::Vector{Int64};...\n",
      "  2╎    ╎    ╎    2    @Base/sort.jl:723; sort!(v::Vector{Int64};...\n",
      "   ╎    ╎     22   In[25]:34; merge_vertices_async(V::M...\n",
      "   ╎    ╎    ╎ 11   @Base/array.jl:126; vect\n",
      "   ╎    ╎    ╎  11   @Base/array.jl:616; _array_for\n",
      "   ╎    ╎    ╎   11   @Base/array.jl:613; _array_for\n",
      "   ╎    ╎    ╎    11   ...stractarray.jl:828; similar\n",
      "   ╎    ╎    ╎     11   ...stractarray.jl:829; similar\n",
      "   ╎    ╎    ╎    ╎ 11   @Base/boot.jl:466; Array\n",
      " 11╎    ╎    ╎    ╎  11   @Base/boot.jl:457; Array\n",
      "  1╎    ╎    ╎ 1    @Base/range.jl:837; iterate\n",
      "   ╎    ╎    ╎ 10   @Base/sort.jl:770; sort\n",
      "   ╎    ╎    ╎  10   @Base/sort.jl:770; #sort#9\n",
      "   ╎    ╎    ╎   10   ...stractarray.jl:1129; copymutable\n",
      "   ╎    ╎    ╎    1    @Base/array.jl:346; copyto!\n",
      "   ╎    ╎    ╎     1    @Base/array.jl:322; copyto!\n",
      "  1╎    ╎    ╎    ╎ 1    @Base/array.jl:327; _copyto_impl!(dest::Ve...\n",
      "   ╎    ╎    ╎    9    @Base/array.jl:373; similar\n"
     ]
    },
    {
     "name": "stdout",
     "output_type": "stream",
     "text": [
      "  9╎    ╎    ╎     9    @Base/boot.jl:457; Array\n",
      "   ╎    ╎     2    In[25]:37; merge_vertices_async(V::M...\n",
      "   ╎    ╎    ╎ 2    ...e/abstractset.jl:50; union\n",
      "   ╎    ╎    ╎  2    @Base/array.jl:2612; union!(v::Vector{Tuple{I...\n",
      "   ╎    ╎    ╎   2    @Base/array.jl:2607; _grow!\n",
      "   ╎    ╎    ╎    2    ...abstractset.jl:444; mapfilter(pred::Base.va...\n",
      "   ╎    ╎    ╎     1    @Base/array.jl:835; iterate\n",
      "  1╎    ╎    ╎    ╎ 1    @Base/array.jl:215; length\n",
      "   ╎    ╎    ╎     1    @Base/array.jl:995; push!\n",
      "  1╎    ╎    ╎    ╎ 1    @Base/array.jl:948; _growend!\n",
      "   ╎    ╎     1    In[25]:41; merge_vertices_async(V::M...\n",
      "   ╎    ╎    ╎ 1    ...sparsematrix.jl:1700; spzeros\n",
      "   ╎    ╎    ╎  1    ...sparsematrix.jl:1703; spzeros(#unused#::Type{I...\n",
      "   ╎    ╎    ╎   1    ...sparsematrix.jl:38; SparseMatrixCSC(m::Int64...\n",
      "   ╎    ╎    ╎    1    ...sparsematrix.jl:66; sparse_check\n",
      "   ╎    ╎    ╎     1    @Base/range.jl:837; iterate\n",
      "  1╎    ╎    ╎    ╎ 1    .../promotion.jl:468; ==\n",
      "   ╎    ╎     1    In[25]:43; merge_vertices_async(V::M...\n",
      "   ╎    ╎    ╎ 1    @Base/dict.jl:90; Dict{Tuple{Int64, Int64},...\n",
      "   ╎    ╎    ╎  1    @Base/array.jl:521; zeros\n",
      "   ╎    ╎    ╎   1    @Base/array.jl:525; zeros\n",
      "   ╎    ╎    ╎    1    @Base/boot.jl:466; Array\n",
      "  1╎    ╎    ╎     1    @Base/boot.jl:457; Array\n",
      "   ╎    ╎     108  In[25]:47; merge_vertices_async(V::M...\n",
      "   ╎    ╎    ╎ 12   @Base/array.jl:649; collect\n",
      "   ╎    ╎    ╎  12   @Base/array.jl:655; _collect\n",
      "   ╎    ╎    ╎   1    ...bstractarray.jl:888; copyto!\n",
      "   ╎    ╎    ╎    1    ...stractarray.jl:279; eachindex\n",
      "   ╎    ╎    ╎     1    ...stractarray.jl:116; axes1\n",
      "   ╎    ╎    ╎    ╎ 1    ...stractarray.jl:95; axes\n",
      "  1╎    ╎    ╎    ╎  1    @Base/array.jl:151; size\n",
      "   ╎    ╎    ╎   11   @Base/array.jl:605; _similar_for\n",
      "   ╎    ╎    ╎    11   ...stractarray.jl:785; similar\n",
      "   ╎    ╎    ╎     11   ...stractarray.jl:794; similar\n",
      "   ╎    ╎    ╎    ╎ 11   @Base/boot.jl:466; Array\n",
      " 11╎    ╎    ╎    ╎  11   @Base/boot.jl:457; Array\n",
      "   ╎    ╎    ╎ 2    @Base/broadcast.jl:1200; dotview\n",
      "   ╎    ╎    ╎  2    @Base/views.jl:146; maybeview\n",
      "   ╎    ╎    ╎   2    @Base/subarray.jl:177; view\n",
      "  1╎    ╎    ╎    2    ...stractarray.jl:656; checkbounds\n",
      "   ╎    ╎    ╎     1    ...stractarray.jl:635; checkbounds\n",
      "   ╎    ╎    ╎    ╎ 1    ...tractarray.jl:682; checkbounds_indices\n",
      "   ╎    ╎    ╎    ╎  1    ...tractarray.jl:682; checkbounds_indices\n",
      "   ╎    ╎    ╎    ╎   1    ...tractarray.jl:728; checkindex\n",
      "   ╎    ╎    ╎    ╎    1    @Base/array.jl:835; iterate\n",
      "  1╎    ╎    ╎    ╎     1    @Base/array.jl:861; getindex\n",
      "   ╎    ╎    ╎ 94   @Base/broadcast.jl:868; materialize!\n",
      "   ╎    ╎    ╎  94   @Base/broadcast.jl:871; materialize!\n",
      "  1╎    ╎    ╎   94   @Base/broadcast.jl:921; copyto!\n",
      "  1╎    ╎    ╎    1    ...parsematrix.jl:2816; _spsetnz_setindex!(A::...\n",
      "  4╎    ╎    ╎    91   ...parsematrix.jl:2663; fill!(V::SubArray{Int8...\n",
      "  5╎    ╎    ╎     5    @Base/int.jl:0; _spsetnz_setindex!(A::...\n",
      "  1╎    ╎    ╎     1    ...arsematrix.jl:0; _spsetnz_setindex!(A::...\n",
      "   ╎    ╎    ╎     8    ...arsematrix.jl:2722; _spsetnz_setindex!(A::...\n",
      "   ╎    ╎    ╎    ╎ 8    ...arsematrix.jl:213; nzrange\n",
      "  8╎    ╎    ╎    ╎  8    @Base/array.jl:861; getindex\n",
      "  4╎    ╎    ╎     4    ...arsematrix.jl:2723; _spsetnz_setindex!(A::...\n",
      "   ╎    ╎    ╎     17   ...arsematrix.jl:2727; _spsetnz_setindex!(A::...\n",
      "   ╎    ╎    ╎    ╎ 7    .../operators.jl:1282; in\n",
      "   ╎    ╎    ╎    ╎  7    @Base/array.jl:835; iterate\n",
      "   ╎    ╎    ╎    ╎   7    @Base/array.jl:835; iterate\n",
      "  5╎    ╎    ╎    ╎    5    @Base/array.jl:861; getindex\n",
      "  2╎    ╎    ╎    ╎    2    @Base/array.jl:215; length\n",
      "  4╎    ╎    ╎    ╎ 4    .../operators.jl:1286; in\n",
      "   ╎    ╎    ╎    ╎ 6    .../operators.jl:1287; in\n",
      "  6╎    ╎    ╎    ╎  6    @Base/array.jl:835; iterate\n",
      "  2╎    ╎    ╎     2    ...arsematrix.jl:2728; _spsetnz_setindex!(A::...\n",
      "   ╎    ╎    ╎     2    ...arsematrix.jl:2731; _spsetnz_setindex!(A::...\n",
      "  2╎    ╎    ╎    ╎ 2    @Base/array.jl:369; copy\n",
      "   ╎    ╎    ╎     2    ...arsematrix.jl:2732; _spsetnz_setindex!(A::...\n",
      "  2╎    ╎    ╎    ╎ 2    @Base/array.jl:369; copy\n",
      "   ╎    ╎    ╎     1    ...arsematrix.jl:2733; _spsetnz_setindex!(A::...\n",
      "   ╎    ╎    ╎    ╎ 1    @Base/array.jl:1173; resize!\n",
      "  1╎    ╎    ╎    ╎  1    @Base/array.jl:948; _growend!\n",
      "   ╎    ╎    ╎     2    ...arsematrix.jl:2734; _spsetnz_setindex!(A::...\n",
      "   ╎    ╎    ╎    ╎ 2    @Base/array.jl:1173; resize!\n",
      "  1╎    ╎    ╎    ╎  1    @Base/array.jl:948; _growend!\n",
      "  1╎    ╎    ╎    ╎  1    @Base/boot.jl:0; _growend!\n",
      "  1╎    ╎    ╎     1    ...arsematrix.jl:2775; _spsetnz_setindex!(A::...\n",
      "   ╎    ╎    ╎     11   ...arsematrix.jl:2778; _spsetnz_setindex!(A::...\n",
      " 11╎    ╎    ╎    ╎ 11   @Base/array.jl:369; copy\n",
      "   ╎    ╎    ╎     1    ...arsematrix.jl:2779; _spsetnz_setindex!(A::...\n",
      "  1╎    ╎    ╎    ╎ 1    @Base/array.jl:369; copy\n",
      "   ╎    ╎    ╎     2    ...arsematrix.jl:2780; _spsetnz_setindex!(A::...\n",
      "   ╎    ╎    ╎    ╎ 2    @Base/array.jl:1173; resize!\n",
      "  2╎    ╎    ╎    ╎  2    @Base/array.jl:948; _growend!\n",
      "   ╎    ╎    ╎     2    ...arsematrix.jl:2784; _spsetnz_setindex!(A::...\n",
      "   ╎    ╎    ╎    ╎ 2    .../broadcast.jl:868; materialize!\n",
      "   ╎    ╎    ╎    ╎  2    .../broadcast.jl:871; materialize!\n",
      "   ╎    ╎    ╎    ╎   2    .../broadcast.jl:921; copyto!\n",
      "  1╎    ╎    ╎    ╎    1    ...mensional.jl:1063; fill!\n",
      "  1╎    ╎    ╎    ╎    1    ...mensional.jl:1064; fill!\n",
      "  1╎    ╎    ╎     1    ...arsematrix.jl:2803; _spsetnz_setindex!(A::...\n",
      "   ╎    ╎    ╎     17   ...arsematrix.jl:2805; _spsetnz_setindex!(A::...\n",
      "  2╎    ╎    ╎    ╎ 17   @Base/array.jl:322; copyto!\n",
      "  1╎    ╎    ╎    ╎  5    @Base/array.jl:328; _copyto_impl!(dest::V...\n",
      "  4╎    ╎    ╎    ╎   4    @Base/array.jl:215; length\n",
      "   ╎    ╎    ╎    ╎  4    @Base/array.jl:331; _copyto_impl!(dest::V...\n",
      "  2╎    ╎    ╎    ╎   4    @Base/array.jl:289; unsafe_copyto!\n",
      "  2╎    ╎    ╎    ╎    2    @Base/int.jl:88; *\n",
      "  6╎    ╎    ╎    ╎  6    @Base/array.jl:332; _copyto_impl!(dest::V...\n",
      "   ╎    ╎    ╎     7    ...arsematrix.jl:2806; _spsetnz_setindex!(A::...\n",
      "  2╎    ╎    ╎    ╎ 7    @Base/array.jl:322; copyto!\n",
      "  1╎    ╎    ╎    ╎  1    @Base/array.jl:327; _copyto_impl!(dest::V...\n",
      "  1╎    ╎    ╎    ╎  4    @Base/array.jl:328; _copyto_impl!(dest::V...\n",
      "  3╎    ╎    ╎    ╎   3    @Base/array.jl:215; length\n",
      "  1╎    ╎    ╎     1    ...arsematrix.jl:2816; _spsetnz_setindex!(A::...\n",
      "  1╎    ╎    ╎    1    ...parsematrix.jl:2665; fill!(V::SubArray{Int8...\n",
      "   ╎    ╎     7    In[25]:50; merge_vertices_async(V::M...\n",
      "   ╎    ╎    ╎ 4    @Base/dict.jl:382; setindex!(h::Dict{Tuple{I...\n",
      "  1╎    ╎    ╎  3    @Base/dict.jl:314; ht_keyindex2!(h::Dict{Tu...\n",
      "   ╎    ╎    ╎   2    @Base/dict.jl:171; isslotempty\n",
      "  2╎    ╎    ╎    2    @Base/array.jl:861; getindex\n",
      "   ╎    ╎    ╎  1    @Base/dict.jl:327; ht_keyindex2!(h::Dict{Tu...\n",
      "  1╎    ╎    ╎   1    @Base/array.jl:861; getindex\n",
      "   ╎    ╎    ╎ 3    @Base/dict.jl:389; setindex!(h::Dict{Tuple{I...\n",
      "   ╎    ╎    ╎  3    @Base/dict.jl:368; _setindex!\n",
      "   ╎    ╎    ╎   1    @Base/dict.jl:194; rehash!(h::Dict{Tuple{In...\n",
      "  1╎    ╎    ╎    1    @Base/boot.jl:457; Array\n",
      "   ╎    ╎    ╎   2    @Base/dict.jl:211; rehash!(h::Dict{Tuple{In...\n",
      "  2╎    ╎    ╎    2    @Base/array.jl:903; setindex!\n",
      "  1╎    ╎     35   In[25]:59; merge_vertices_async(V::M...\n",
      "  1╎    ╎    ╎ 1    @Base/array.jl:0; collect(itr::Base.Generat...\n",
      "   ╎    ╎    ╎ 2    @Base/array.jl:724; collect(itr::Base.Generat...\n",
      "   ╎    ╎    ╎  2    @Base/generator.jl:47; iterate\n",
      "   ╎    ╎    ╎   2    none:0; #34\n",
      "  1╎    ╎    ╎    1    @Base/array.jl:0; collect(itr::Base.Gener...\n",
      "   ╎    ╎    ╎    1    ...parsevector.jl:578; getindex\n",
      "   ╎    ╎    ╎     1    ...parsevector.jl:598; getindex(A::SparseMatr...\n",
      "  1╎    ╎    ╎    ╎ 1    @Base/array.jl:861; getindex\n",
      "   ╎    ╎    ╎ 31   @Base/array.jl:734; collect(itr::Base.Generat...\n",
      "   ╎    ╎    ╎  31   @Base/array.jl:760; collect_to_with_first!\n",
      "   ╎    ╎    ╎   31   @Base/array.jl:782; collect_to!\n",
      "  1╎    ╎    ╎    1    @Base/generator.jl:0; iterate\n",
      "   ╎    ╎    ╎    30   @Base/generator.jl:47; iterate\n",
      "   ╎    ╎    ╎     30   none:0; #34\n",
      "  4╎    ╎    ╎    ╎ 4    @Base/array.jl:0; collect(itr::Base.Gene...\n",
      "   ╎    ╎    ╎    ╎ 1    @Base/array.jl:724; collect(itr::Base.Gene...\n",
      "   ╎    ╎    ╎    ╎  1    .../generator.jl:47; iterate\n",
      "   ╎    ╎    ╎    ╎   1    none:0; (::var\"#35#43\"{Int64, ...\n",
      "   ╎    ╎    ╎    ╎    1    ...rsematrix.jl:2163; getindex\n",
      "   ╎    ╎    ╎    ╎     1    @Base/sort.jl:184; searchsortedfirst\n",
      "  1╎    ╎    ╎    ╎    ╎ 1    @Base/array.jl:861; getindex\n",
      "   ╎    ╎    ╎    ╎ 25   ...arsevector.jl:578; getindex\n",
      "  1╎    ╎    ╎    ╎  1    @Base/array.jl:0; getindex(A::SparseMat...\n",
      "  1╎    ╎    ╎    ╎  1    ...arsevector.jl:579; getindex(A::SparseMat...\n",
      "   ╎    ╎    ╎    ╎  5    ...arsevector.jl:585; getindex(A::SparseMat...\n",
      "   ╎    ╎    ╎    ╎   5    @Base/boot.jl:476; Array\n",
      "  5╎    ╎    ╎    ╎    5    @Base/boot.jl:457; Array\n",
      "   ╎    ╎    ╎    ╎  1    ...arsevector.jl:586; getindex(A::SparseMat...\n",
      "   ╎    ╎    ╎    ╎   1    @Base/boot.jl:476; Array\n",
      "  1╎    ╎    ╎    ╎    1    @Base/boot.jl:457; Array\n",
      "  1╎    ╎    ╎    ╎  3    ...arsevector.jl:596; getindex(A::SparseMat...\n",
      "  2╎    ╎    ╎    ╎   2    @Base/array.jl:861; getindex\n",
      "   ╎    ╎    ╎    ╎  4    ...arsevector.jl:597; getindex(A::SparseMat...\n"
     ]
    },
    {
     "name": "stdout",
     "output_type": "stream",
     "text": [
      "   ╎    ╎    ╎    ╎   4    @Base/sort.jl:184; searchsortedfirst\n",
      "  4╎    ╎    ╎    ╎    4    @Base/array.jl:861; getindex\n",
      "  2╎    ╎    ╎    ╎  3    ...arsevector.jl:598; getindex(A::SparseMat...\n",
      "  1╎    ╎    ╎    ╎   1    @Base/array.jl:861; getindex\n",
      "   ╎    ╎    ╎    ╎  3    ...arsevector.jl:599; getindex(A::SparseMat...\n",
      "   ╎    ╎    ╎    ╎   3    @Base/array.jl:995; push!\n",
      "  3╎    ╎    ╎    ╎    3    @Base/array.jl:948; _growend!\n",
      "   ╎    ╎    ╎    ╎  1    ...arsevector.jl:600; getindex(A::SparseMat...\n",
      "   ╎    ╎    ╎    ╎   1    @Base/array.jl:995; push!\n",
      "  1╎    ╎    ╎    ╎    1    @Base/array.jl:948; _growend!\n",
      "   ╎    ╎    ╎    ╎  3    ...arsevector.jl:603; getindex(A::SparseMat...\n",
      "  3╎    ╎    ╎    ╎   3    @Base/range.jl:837; iterate\n",
      "   ╎    ╎     357  In[25]:79; merge_vertices_async(V::M...\n",
      "  1╎    ╎    ╎ 357  @Base/array.jl:2484; filter(f::var\"#filter_fn...\n",
      "   ╎    ╎    ╎  4    In[25]:68; (::var\"#filter_fn#45\"{Vec...\n",
      "   ╎    ╎    ╎   4    @Base/array.jl:125; vect\n",
      "   ╎    ╎    ╎    4    @Base/boot.jl:476; Array\n",
      "  4╎    ╎    ╎     4    @Base/boot.jl:457; Array\n",
      "   ╎    ╎    ╎  247  In[25]:69; (::var\"#filter_fn#45\"{Vec...\n",
      "   ╎    ╎    ╎   247  ...stractarray.jl:2849; map\n",
      "   ╎    ╎    ╎    247  @Base/array.jl:653; collect_similar\n",
      "  1╎    ╎    ╎     1    @Base/array.jl:741; _collect(c::Vector{Tup...\n",
      "   ╎    ╎    ╎     60   @Base/array.jl:744; _collect(c::Vector{Tup...\n",
      "   ╎    ╎    ╎    ╎ 60   ...e/generator.jl:47; iterate\n",
      "  2╎    ╎    ╎    ╎  60   In[25]:69; (::var\"#37#46\")(e::Tup...\n",
      "   ╎    ╎    ╎    ╎   52   ...bstractset.jl:50; union(s::Vector{Any},...\n",
      "   ╎    ╎    ╎    ╎    2    ...ractarray.jl:851; emptymutable\n",
      "   ╎    ╎    ╎    ╎     2    @Base/boot.jl:476; Array\n",
      "  2╎    ╎    ╎    ╎    ╎ 2    @Base/boot.jl:457; Array\n",
      " 10╎    ╎    ╎    ╎    50   @Base/array.jl:2612; union!(::Vector{Any...\n",
      "  3╎    ╎    ╎    ╎     3    @Base/array.jl:2605; _grow!(pred!::Funct...\n",
      "  5╎    ╎    ╎    ╎     16   @Base/array.jl:2607; _grow!(pred!::Funct...\n",
      "  1╎    ╎    ╎    ╎    ╎ 1    ...tractset.jl:0; mapfilter(pred::Bas...\n",
      "   ╎    ╎    ╎    ╎    ╎ 9    ...tractset.jl:444; mapfilter(pred::Bas...\n",
      "   ╎    ╎    ╎    ╎    ╎  1    @Base/array.jl:2593; #115\n",
      "   ╎    ╎    ╎    ╎    ╎   1    ...erators.jl:1294; ∉\n",
      "   ╎    ╎    ╎    ╎    ╎    1    @Base/set.jl:58; in\n",
      "   ╎    ╎    ╎    ╎    ╎     1    @Base/dict.jl:552; haskey\n",
      "  1╎    ╎    ╎    ╎    ╎    ╎ 1    ...e/dict.jl:292; ht_keyindex(h::D...\n",
      "   ╎    ╎    ╎    ╎    ╎  8    @Base/array.jl:1001; push!\n",
      "  8╎    ╎    ╎    ╎    ╎   8    @Base/array.jl:948; _growend!\n",
      "  1╎    ╎    ╎    ╎    ╎ 1    ...tractset.jl:446; mapfilter(pred::Bas...\n",
      "   ╎    ╎    ╎    ╎     19   @Base/set.jl:6; Set\n",
      "  2╎    ╎    ╎    ╎    ╎ 2    @Base/dict.jl:88; Dict{Any, Nothing}()\n",
      "   ╎    ╎    ╎    ╎    ╎ 17   @Base/dict.jl:90; Dict{Any, Nothing}()\n",
      "   ╎    ╎    ╎    ╎    ╎  7    @Base/array.jl:521; zeros\n",
      "   ╎    ╎    ╎    ╎    ╎   5    @Base/array.jl:525; zeros\n",
      "   ╎    ╎    ╎    ╎    ╎    5    @Base/boot.jl:466; Array\n",
      "  5╎    ╎    ╎    ╎    ╎     5    @Base/boot.jl:457; Array\n",
      "   ╎    ╎    ╎    ╎    ╎   2    @Base/array.jl:526; zeros\n",
      "   ╎    ╎    ╎    ╎    ╎    2    ...e/array.jl:426; fill!\n",
      "  2╎    ╎    ╎    ╎    ╎     2    ...e/array.jl:215; length\n",
      " 10╎    ╎    ╎    ╎    ╎  10   @Base/boot.jl:457; Array\n",
      "   ╎    ╎    ╎    ╎     2    @Base/set.jl:76; sizehint!\n",
      "   ╎    ╎    ╎    ╎    ╎ 1    @Base/dict.jl:233; sizehint!\n",
      "  1╎    ╎    ╎    ╎    ╎  1    @Base/Base.jl:42; getproperty\n",
      "   ╎    ╎    ╎    ╎    ╎ 1    @Base/dict.jl:237; sizehint!\n",
      "   ╎    ╎    ╎    ╎    ╎  1    @Base/div.jl:269; cld\n",
      "   ╎    ╎    ╎    ╎    ╎   1    @Base/div.jl:313; div\n",
      "  1╎    ╎    ╎    ╎    ╎    1    @Base/bool.jl:38; &\n",
      "   ╎    ╎    ╎    ╎   6    @Base/array.jl:649; collect\n",
      "   ╎    ╎    ╎    ╎    6    @Base/array.jl:655; _collect\n",
      "  1╎    ╎    ╎    ╎     1    ...ractarray.jl:0; copyto!\n",
      "   ╎    ╎    ╎    ╎     5    @Base/array.jl:605; _similar_for\n",
      "   ╎    ╎    ╎    ╎    ╎ 5    ...actarray.jl:785; similar\n",
      "   ╎    ╎    ╎    ╎    ╎  5    ...actarray.jl:794; similar\n",
      "   ╎    ╎    ╎    ╎    ╎   5    @Base/boot.jl:466; Array\n",
      "  5╎    ╎    ╎    ╎    ╎    5    @Base/boot.jl:457; Array\n",
      " 28╎    ╎    ╎     33   @Base/array.jl:749; _collect(c::Vector{Tup...\n",
      "   ╎    ╎    ╎    ╎ 5    @Base/array.jl:607; _similar_for(c::Vector...\n",
      "   ╎    ╎    ╎    ╎  5    ...tractarray.jl:791; similar\n",
      "   ╎    ╎    ╎    ╎   5    @Base/array.jl:378; similar\n",
      "   ╎    ╎    ╎    ╎    5    @Base/boot.jl:466; Array\n",
      "  5╎    ╎    ╎    ╎     5    @Base/boot.jl:457; Array\n",
      "  4╎    ╎    ╎     4    @Base/array.jl:753; _collect(c::Vector{Tup...\n",
      "   ╎    ╎    ╎     149  @Base/array.jl:754; _collect(c::Vector{Tup...\n",
      "   ╎    ╎    ╎    ╎ 149  @Base/array.jl:760; collect_to_with_first!...\n",
      "   ╎    ╎    ╎    ╎  149  @Base/array.jl:782; collect_to!(dest::Vec...\n",
      "   ╎    ╎    ╎    ╎   4    .../generator.jl:44; iterate\n",
      "  1╎    ╎    ╎    ╎    4    @Base/array.jl:835; iterate\n",
      "  3╎    ╎    ╎    ╎     3    @Base/array.jl:861; getindex\n",
      "   ╎    ╎    ╎    ╎   145  .../generator.jl:47; iterate\n",
      "  6╎    ╎    ╎    ╎    145  In[25]:69; (::var\"#37#46\")(e::Tu...\n",
      "   ╎    ╎    ╎    ╎     129  ...stractset.jl:50; union(s::Vector{Any...\n",
      "   ╎    ╎    ╎    ╎    ╎ 7    ...actarray.jl:851; emptymutable\n",
      "   ╎    ╎    ╎    ╎    ╎  7    @Base/boot.jl:476; Array\n",
      "  7╎    ╎    ╎    ╎    ╎   7    @Base/boot.jl:457; Array\n",
      " 16╎    ╎    ╎    ╎    ╎ 122  @Base/array.jl:2612; union!(::Vector{An...\n",
      "  1╎    ╎    ╎    ╎    ╎  3    @Base/array.jl:2605; _grow!(pred!::Func...\n",
      "   ╎    ╎    ╎    ╎    ╎   2    ...e/array.jl:2527; filter!(f::Base.v...\n",
      "   ╎    ╎    ╎    ╎    ╎    2    ...e/array.jl:835; iterate\n",
      "   ╎    ╎    ╎    ╎    ╎     2    ...e/array.jl:835; iterate\n",
      "  2╎    ╎    ╎    ╎    ╎    ╎ 2    .../array.jl:215; length\n",
      " 15╎    ╎    ╎    ╎    ╎  61   @Base/array.jl:2607; _grow!(pred!::Func...\n",
      " 12╎    ╎    ╎    ╎    ╎   43   ...tractset.jl:444; mapfilter(pred::Ba...\n",
      "   ╎    ╎    ╎    ╎    ╎    3    ...e/array.jl:2593; #115\n",
      "   ╎    ╎    ╎    ╎    ╎     3    ...rators.jl:1294; ∉\n",
      "   ╎    ╎    ╎    ╎    ╎    ╎ 3    @Base/set.jl:58; in\n",
      "   ╎    ╎    ╎    ╎    ╎    ╎  3    ...e/dict.jl:552; haskey\n",
      "   ╎    ╎    ╎    ╎    ╎    ╎   1    ...e/dict.jl:283; ht_keyindex(h::...\n",
      "  1╎    ╎    ╎    ╎    ╎    ╎    1    ...e/Base.jl:42; getproperty\n",
      "  2╎    ╎    ╎    ╎    ╎    ╎   2    ...e/dict.jl:292; ht_keyindex(h::...\n",
      "   ╎    ╎    ╎    ╎    ╎    4    ...e/array.jl:2593; (::Base.var\"#115...\n",
      "   ╎    ╎    ╎    ╎    ╎     4    ...rators.jl:1294; ∉\n",
      "   ╎    ╎    ╎    ╎    ╎    ╎ 4    @Base/set.jl:58; in\n",
      "   ╎    ╎    ╎    ╎    ╎    ╎  4    ...e/dict.jl:552; haskey\n",
      "  3╎    ╎    ╎    ╎    ╎    ╎   3    ...e/dict.jl:280; ht_keyindex(h::...\n",
      "   ╎    ╎    ╎    ╎    ╎    ╎   1    ...e/dict.jl:291; ht_keyindex(h::...\n",
      "  1╎    ╎    ╎    ╎    ╎    ╎    1    .../array.jl:861; getindex\n",
      "   ╎    ╎    ╎    ╎    ╎    2    ...e/array.jl:2594; #115\n",
      "   ╎    ╎    ╎    ╎    ╎     2    @Base/set.jl:59; push!\n",
      "   ╎    ╎    ╎    ╎    ╎    ╎ 1    ...e/dict.jl:382; setindex!(h::Dic...\n",
      "  1╎    ╎    ╎    ╎    ╎    ╎  1    ...e/dict.jl:343; ht_keyindex2!(h...\n",
      "   ╎    ╎    ╎    ╎    ╎    ╎ 1    ...e/dict.jl:389; setindex!(h::Dic...\n",
      "   ╎    ╎    ╎    ╎    ╎    ╎  1    ...e/dict.jl:356; _setindex!\n",
      "  1╎    ╎    ╎    ╎    ╎    ╎   1    ...ntials.jl:479; setindex!\n",
      "   ╎    ╎    ╎    ╎    ╎    4    ...e/array.jl:2594; (::Base.var\"#115...\n",
      "   ╎    ╎    ╎    ╎    ╎     4    @Base/set.jl:59; push!\n",
      "  1╎    ╎    ╎    ╎    ╎    ╎ 1    ...e/dict.jl:384; setindex!(h::Dic...\n",
      "   ╎    ╎    ╎    ╎    ╎    ╎ 2    ...e/dict.jl:389; setindex!(h::Dic...\n",
      "   ╎    ╎    ╎    ╎    ╎    ╎  1    ...e/dict.jl:356; _setindex!\n",
      "  1╎    ╎    ╎    ╎    ╎    ╎   1    ...ntials.jl:479; setindex!\n",
      "   ╎    ╎    ╎    ╎    ╎    ╎  1    ...e/dict.jl:366; _setindex!\n",
      "  1╎    ╎    ╎    ╎    ╎    ╎   1    @Base/int.jl:88; *\n",
      "  1╎    ╎    ╎    ╎    ╎    ╎ 1    ...e/dict.jl:392; setindex!(h::Dic...\n",
      "   ╎    ╎    ╎    ╎    ╎    2    ...e/array.jl:835; iterate\n",
      "  1╎    ╎    ╎    ╎    ╎     1    ...e/array.jl:861; getindex\n",
      "  1╎    ╎    ╎    ╎    ╎     1    ...e/array.jl:215; length\n",
      "   ╎    ╎    ╎    ╎    ╎    13   ...e/array.jl:1001; push!\n",
      " 13╎    ╎    ╎    ╎    ╎     13   ...e/array.jl:948; _growend!\n",
      "  3╎    ╎    ╎    ╎    ╎    3    ...e/array.jl:1002; push!\n",
      "  3╎    ╎    ╎    ╎    ╎   3    ...tractset.jl:446; mapfilter(pred::Ba...\n",
      "  1╎    ╎    ╎    ╎    ╎  41   @Base/set.jl:6; Set\n",
      "  5╎    ╎    ╎    ╎    ╎   5    @Base/dict.jl:88; Dict{Any, Nothing}()\n",
      "  6╎    ╎    ╎    ╎    ╎   35   @Base/dict.jl:90; Dict{Any, Nothing}()\n",
      "   ╎    ╎    ╎    ╎    ╎    14   ...e/array.jl:521; zeros\n",
      "   ╎    ╎    ╎    ╎    ╎     14   ...e/array.jl:525; zeros\n",
      "   ╎    ╎    ╎    ╎    ╎    ╎ 14   ...e/boot.jl:466; Array\n",
      " 14╎    ╎    ╎    ╎    ╎    ╎  14   ...e/boot.jl:457; Array\n",
      " 15╎    ╎    ╎    ╎    ╎    15   @Base/boot.jl:457; Array\n",
      "   ╎    ╎    ╎    ╎    ╎  1    @Base/set.jl:76; sizehint!\n",
      "   ╎    ╎    ╎    ╎    ╎   1    @Base/dict.jl:233; sizehint!\n",
      "  1╎    ╎    ╎    ╎    ╎    1    @Base/Base.jl:42; getproperty\n"
     ]
    },
    {
     "name": "stdout",
     "output_type": "stream",
     "text": [
      "   ╎    ╎    ╎    ╎     10   @Base/array.jl:649; collect\n",
      "   ╎    ╎    ╎    ╎    ╎ 10   @Base/array.jl:655; _collect\n",
      "   ╎    ╎    ╎    ╎    ╎  10   @Base/array.jl:605; _similar_for\n",
      "   ╎    ╎    ╎    ╎    ╎   10   ...actarray.jl:785; similar\n",
      "   ╎    ╎    ╎    ╎    ╎    10   ...ctarray.jl:794; similar\n",
      "   ╎    ╎    ╎    ╎    ╎     10   @Base/boot.jl:466; Array\n",
      " 10╎    ╎    ╎    ╎    ╎    ╎ 10   ...e/boot.jl:457; Array\n",
      " 16╎    ╎    ╎  41   In[25]:70; (::var\"#filter_fn#45\"{Vec...\n",
      "   ╎    ╎    ╎   25   @Base/set.jl:23; Set(itr::Vector{Any})\n",
      "   ╎    ╎    ╎    25   @Base/set.jl:25; _Set\n",
      "  1╎    ╎    ╎     25   @Base/set.jl:10; Set\n",
      "   ╎    ╎    ╎    ╎ 2    ...abstractset.jl:95; union!(s::Set{Any}, it...\n",
      "   ╎    ╎    ╎    ╎  2    @Base/set.jl:57; length\n",
      "  2╎    ╎    ╎    ╎   2    @Base/Base.jl:42; getproperty\n",
      "  5╎    ╎    ╎    ╎ 10   ...abstractset.jl:97; union!(s::Set{Any}, it...\n",
      "   ╎    ╎    ╎    ╎  5    @Base/set.jl:59; push!(s::Set{Any}, x::...\n",
      "   ╎    ╎    ╎    ╎   3    @Base/dict.jl:382; setindex!(h::Dict{Any...\n",
      "  1╎    ╎    ╎    ╎    1    @Base/dict.jl:315; ht_keyindex2!(h::Dic...\n",
      "  1╎    ╎    ╎    ╎    1    @Base/dict.jl:318; ht_keyindex2!(h::Dic...\n",
      "   ╎    ╎    ╎    ╎    1    @Base/dict.jl:327; ht_keyindex2!(h::Dic...\n",
      "  1╎    ╎    ╎    ╎     1    @Base/array.jl:861; getindex\n",
      "   ╎    ╎    ╎    ╎   1    @Base/dict.jl:389; setindex!(h::Dict{Any...\n",
      "   ╎    ╎    ╎    ╎    1    @Base/dict.jl:360; _setindex!\n",
      "  1╎    ╎    ╎    ╎     1    @Base/Base.jl:42; getproperty\n",
      "  1╎    ╎    ╎    ╎   1    @Base/dict.jl:392; setindex!(h::Dict{Any...\n",
      "   ╎    ╎    ╎    ╎ 1    ...abstractset.jl:98; union!(s::Set{Any}, it...\n",
      "   ╎    ╎    ╎    ╎  1    @Base/array.jl:835; iterate\n",
      "  1╎    ╎    ╎    ╎   1    @Base/array.jl:215; length\n",
      "   ╎    ╎    ╎    ╎ 11   @Base/set.jl:6; Set\n",
      "  2╎    ╎    ╎    ╎  11   @Base/dict.jl:90; Dict{Any, Nothing}()\n",
      "   ╎    ╎    ╎    ╎   3    @Base/array.jl:521; zeros\n",
      "   ╎    ╎    ╎    ╎    3    @Base/array.jl:525; zeros\n",
      "   ╎    ╎    ╎    ╎     3    @Base/boot.jl:466; Array\n",
      "  3╎    ╎    ╎    ╎    ╎ 3    @Base/boot.jl:457; Array\n",
      "  6╎    ╎    ╎    ╎   6    @Base/boot.jl:457; Array\n",
      "  4╎    ╎    ╎  62   In[25]:72; (::var\"#filter_fn#45\"{Vec...\n",
      "   ╎    ╎    ╎   1    ...e/operators.jl:1282; in(x::Set{Any}, itr::Ve...\n",
      "   ╎    ╎    ╎    1    @Base/array.jl:835; iterate\n",
      "   ╎    ╎    ╎     1    @Base/array.jl:835; iterate\n",
      "  1╎    ╎    ╎    ╎ 1    @Base/array.jl:861; getindex\n",
      " 13╎    ╎    ╎   56   ...e/operators.jl:1283; in(x::Set{Any}, itr::Ve...\n",
      "  1╎    ╎    ╎    43   ...abstractset.jl:428; ==(l::Set{Any}, r::Set{...\n",
      "   ╎    ╎    ╎     1    ...abstractset.jl:283; issubset(l::Set{Any}, ...\n",
      "   ╎    ╎    ╎    ╎ 1    @Base/set.jl:57; length\n",
      "  1╎    ╎    ╎    ╎  1    @Base/Base.jl:42; getproperty\n",
      "  1╎    ╎    ╎     1    ...abstractset.jl:284; issubset(l::Set{Any}, ...\n",
      "   ╎    ╎    ╎     9    ...abstractset.jl:292; issubset(l::Set{Any}, ...\n",
      "   ╎    ╎    ╎    ╎ 9    @Base/set.jl:80; iterate\n",
      "   ╎    ╎    ╎    ╎  9    @Base/dict.jl:696; iterate\n",
      "   ╎    ╎    ╎    ╎   1    @Base/dict.jl:697; iterate\n",
      "   ╎    ╎    ╎    ╎    1    @Base/dict.jl:673; skip_deleted\n",
      "  1╎    ╎    ╎    ╎     1    @Base/range.jl:837; iterate\n",
      "  6╎    ╎    ╎    ╎   6    @Base/dict.jl:698; iterate\n",
      "   ╎    ╎    ╎    ╎   2    @Base/dict.jl:700; iterate\n",
      "  2╎    ╎    ╎    ╎    2    @Base/array.jl:861; getindex\n",
      " 20╎    ╎    ╎     31   ...abstractset.jl:293; issubset(l::Set{Any}, ...\n",
      "   ╎    ╎    ╎    ╎ 11   @Base/set.jl:58; in(x::Int64, s::Set{Any})\n",
      "   ╎    ╎    ╎    ╎  11   @Base/dict.jl:552; haskey\n",
      "  1╎    ╎    ╎    ╎   1    @Base/dict.jl:0; ht_keyindex(h::Dict{A...\n",
      "   ╎    ╎    ╎    ╎   1    @Base/dict.jl:288; ht_keyindex(h::Dict{A...\n",
      "   ╎    ╎    ╎    ╎    1    @Base/dict.jl:171; isslotempty\n",
      "  1╎    ╎    ╎    ╎     1    @Base/array.jl:861; getindex\n",
      "   ╎    ╎    ╎    ╎   7    @Base/dict.jl:291; ht_keyindex(h::Dict{A...\n",
      "  7╎    ╎    ╎    ╎    7    @Base/array.jl:861; getindex\n",
      "  2╎    ╎    ╎    ╎   2    @Base/dict.jl:292; ht_keyindex(h::Dict{A...\n",
      "   ╎    ╎    ╎   1    ...e/operators.jl:1287; in(x::Set{Any}, itr::Ve...\n",
      "   ╎    ╎    ╎    1    @Base/array.jl:835; iterate\n",
      "  1╎    ╎    ╎     1    @Base/array.jl:861; getindex\n",
      "   ╎    ╎    ╎  2    In[25]:73; (::var\"#filter_fn#45\"{Vec...\n",
      "   ╎    ╎    ╎   2    @Base/array.jl:1001; push!\n",
      "  2╎    ╎    ╎    2    @Base/array.jl:948; _growend!\n",
      "   ╎    ╎     1    In[25]:82; merge_vertices_async(V::M...\n",
      "   ╎    ╎    ╎ 1    ...sparsematrix.jl:1700; spzeros\n",
      "   ╎    ╎    ╎  1    ...sparsematrix.jl:1703; spzeros(#unused#::Type{I...\n",
      "   ╎    ╎    ╎   1    @Base/boot.jl:476; Array\n",
      "  1╎    ╎    ╎    1    @Base/boot.jl:457; Array\n",
      "   ╎    ╎     2    In[25]:84; merge_vertices_async(V::M...\n",
      "   ╎    ╎    ╎ 1    @Base/task.jl:427; macro expansion\n",
      "   ╎    ╎    ╎  1    @Base/task.jl:5; Task\n",
      "   ╎    ╎    ╎   1    @Base/task.jl:5; Task\n",
      "  1╎    ╎    ╎    1    @Base/boot.jl:439; _Task\n",
      "   ╎    ╎    ╎ 1    @Base/task.jl:431; macro expansion\n",
      "   ╎    ╎    ╎  1    @Base/task.jl:663; schedule\n",
      "   ╎    ╎    ╎   1    @Base/task.jl:0; enq_work(t::Task)\n",
      "   ╎    ╎    ╎    1    @Base/task.jl:571; push!(W::Base.InvasiveL...\n",
      "  1╎    ╎    ╎     1    @Base/Base.jl:42; getproperty\n",
      "  5╎    ╎     7    In[25]:91; merge_vertices_async(V::M...\n",
      "   ╎    ╎    ╎ 2    @Base/boot.jl:479; (Matrix)(x::Matrix{Float64})\n",
      "   ╎    ╎    ╎  2    @Base/array.jl:563; Array\n",
      "   ╎    ╎    ╎   2    @Base/boot.jl:467; Array\n",
      "  2╎    ╎    ╎    2    @Base/boot.jl:459; Array\n",
      "   ╎    ╎     2    @Base/boot.jl:479; (Matrix)(x::Matrix{Float64})\n",
      "   ╎    ╎    ╎ 2    @Base/array.jl:563; Array\n",
      "   ╎    ╎    ╎  2    @Base/boot.jl:467; Array\n",
      "  2╎    ╎    ╎   2    @Base/boot.jl:459; Array\n",
      "   ╎    ╎     3    ...sparsematrix.jl:527; SparseMatrixCSC{Int8, Int...\n",
      "   ╎    ╎    ╎ 3    @Base/array.jl:563; Array\n",
      "   ╎    ╎    ╎  1    ...bstractarray.jl:1103; copyto_axcheck!\n",
      "   ╎    ╎    ╎   1    ...bstractarray.jl:95; axes\n",
      "  1╎    ╎    ╎    1    @Base/array.jl:151; size\n",
      "   ╎    ╎    ╎  2    @Base/boot.jl:466; Array\n",
      "  2╎    ╎    ╎   2    @Base/boot.jl:457; Array\n",
      "  1╎    ╎     1    ...sparsematrix.jl:2665; fill!(V::SubArray{Int8, 1...\n",
      "  1╎1    @Base/task.jl:627; enq_work(t::Task)\n",
      "  3╎3    @Base/views.jl:146; maybeview(A::Vector{Int64}, arg...\n",
      "  4╎4    ...bors/src/kd_tree.jl:224; inrange_kernel!(tree::KDTree{St...\n",
      "  1╎1    ...src/sparsematrix.jl:34; SparseMatrixCSC(m::Int64, n::In...\n",
      "  4╎4    ...src/sparsematrix.jl:2708; _spsetnz_setindex!(A::SparseMat...\n",
      "   ╎1    ...src/sparsematrix.jl:2732; _spsetnz_setindex!(A::SparseMat...\n",
      "  1╎ 1    @Base/array.jl:369; copy\n",
      "  2╎2    ...src/sparsematrix.jl:2650; fill!(V::SubArray{Int8, 1, Spar...\n",
      "  3╎3    ...src/sparsematrix.jl:1701; spzeros(#unused#::Type{Int8}, #...\n",
      "   ╎1    ...src/sparsevector.jl:585; getindex(A::SparseMatrixCSC{Int...\n",
      "   ╎ 1    @Base/boot.jl:476; Array\n",
      "  1╎  1    @Base/boot.jl:457; Array\n",
      "   ╎2    ...src/sparsevector.jl:599; getindex(A::SparseMatrixCSC{Int...\n",
      "   ╎ 2    @Base/array.jl:995; push!\n",
      "  2╎  2    @Base/array.jl:948; _growend!\n",
      "Total snapshots: 1099\n"
     ]
    }
   ],
   "source": [
    "ProfileView.view()\n",
    "Profile.print()"
   ]
  },
  {
   "cell_type": "code",
   "execution_count": null,
   "metadata": {},
   "outputs": [],
   "source": []
  }
 ],
 "metadata": {
  "colab": {
   "collapsed_sections": [],
   "name": "Esempio.ipynb",
   "provenance": []
  },
  "kernelspec": {
   "display_name": "Julia 1.7.2",
   "language": "julia",
   "name": "julia-1.7"
  },
  "language_info": {
   "file_extension": ".jl",
   "mimetype": "application/julia",
   "name": "julia",
   "version": "1.7.2"
  }
 },
 "nbformat": 4,
 "nbformat_minor": 1
}