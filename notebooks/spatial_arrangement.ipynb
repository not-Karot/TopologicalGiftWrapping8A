{
 "cells": [
  {
   "cell_type": "code",
   "execution_count": 24,
   "id": "71e3a86f",
   "metadata": {},
   "outputs": [
    {
     "name": "stderr",
     "output_type": "stream",
     "text": [
      "WARNING: could not import TopologicalGiftWrapping8A.spatial_arrangement into Main\n"
     ]
    },
    {
     "data": {
      "text/plain": [
       "ViewerGL"
      ]
     },
     "execution_count": 24,
     "metadata": {},
     "output_type": "execute_result"
    }
   ],
   "source": [
    "using Pkg\n",
    "#Pkg.activate(\"/Users/raffaelescarano/Università/Calcolo_parallelo/TopologicalGiftWrapping8A\")\n",
    "#Pkg.instantiate()\n",
    "using Profile\n",
    "using ProfileView\n",
    "using BenchmarkTools\n",
    "using SparseArrays\n",
    "using LinearAlgebra\n",
    "using Distributed\n",
    "using LinearAlgebraicRepresentation\n",
    "using NearestNeighbors\n",
    "Lar = LinearAlgebraicRepresentation\n",
    "using ViewerGL\n",
    "import TopologicalGiftWrapping8A.spatial_arrangement \n",
    "GL = ViewerGL"
   ]
  },
  {
   "cell_type": "code",
   "execution_count": 3,
   "id": "648e529d",
   "metadata": {},
   "outputs": [
    {
     "data": {
      "text/plain": [
       "frag_face_revisited (generic function with 1 method)"
      ]
     },
     "execution_count": 3,
     "metadata": {},
     "output_type": "execute_result"
    }
   ],
   "source": [
    "function frag_face_revisited(V::Matrix{Float64}, EV::SparseMatrixCSC{Int8, Int64}, FE::SparseMatrixCSC{Int8, Int64}, \n",
    "    sp_idx::Vector{Vector{Int64}}, sigma::Int64)\n",
    "\n",
    "    vs_num::Int64 = size(V, 1)\n",
    "    \n",
    "\t# 2D transformation of sigma face\n",
    "    sigmavs::Vector{Int64} = (abs.(FE[sigma:sigma,:])*abs.(EV))[1,:].nzind\n",
    "    \n",
    "    sV::Matrix{Float64} = V[sigmavs, :]\n",
    "    sEV::SparseMatrixCSC{Int8, Int64} = EV[FE[sigma, :].nzind, sigmavs]\n",
    "    M::Matrix{Float64} = Lar.Arrangement.submanifold_mapping(sV)\n",
    "   @views tV::Matrix{Float64} = ([V ones(vs_num)]*M)[:, 1:3]\n",
    "    sV = tV[sigmavs, :]\n",
    "    \n",
    "    # sigma face intersection with faces in sp_idx[sigma]\n",
    "    @async for i in sp_idx[sigma]\n",
    "        tmpV::Matrix{Any}, tmpEV::SparseMatrixCSC{Int8, Int64} = Lar.Arrangement.face_int(tV, EV, FE[i, :])\n",
    "        sV, sEV = Lar.skel_merge(sV, sEV, tmpV, tmpEV)\n",
    "    end\n",
    "\n",
    "    # computation of 2D arrangement of sigma face\n",
    "    sV = sV[:, 1:2]\n",
    "    nV::Matrix{Float64}, nEV::SparseMatrixCSC{Int8, Int64}, nFE::SparseMatrixCSC{Int8, Int64} = Lar.Arrangement.planar_arrangement(sV, sEV, sparsevec(ones(Int8, length(sigmavs))))\n",
    "    \n",
    "    nvsize::Int64 = size(nV, 1)\n",
    "    nV = [nV zeros(nvsize) ones(nvsize)]*inv(M)[:, 1:3]\n",
    "    \n",
    "    return nV, nEV, nFE\n",
    "end"
   ]
  },
  {
   "cell_type": "code",
   "execution_count": 4,
   "id": "e5a33af7",
   "metadata": {},
   "outputs": [
    {
     "data": {
      "text/plain": [
       "merge_vertices_revisited (generic function with 2 methods)"
      ]
     },
     "execution_count": 4,
     "metadata": {},
     "output_type": "execute_result"
    }
   ],
   "source": [
    "function merge_vertices_revisited(V::Lar.Points, EV::Lar.ChainOp, FE::Lar.ChainOp, err=1e-4)\n",
    "    vertsnum = size(V, 1)\n",
    "    edgenum = size(EV, 1)\n",
    "    facenum = size(FE, 1)\n",
    "    newverts = zeros(Int, vertsnum)\n",
    "\n",
    "    # KDTree constructor needs an explicit array of Float64\n",
    "    V = Array{Float64,2}(V)\n",
    "    W = convert(Lar.Points, LinearAlgebra.transpose(V))\n",
    "    kdtree = KDTree(W)\n",
    "\n",
    "    # remove vertices congruent to a single representative\n",
    "    todelete = []\n",
    "    i = 1\n",
    "\n",
    "    for vi in 1:vertsnum #non è possibile utilizzare @async\n",
    "        if !(vi in todelete)\n",
    "            nearvs =  Lar.inrange(kdtree, V[vi, :], err)\n",
    "            newverts[nearvs] .= i\n",
    "            nearvs =  setdiff(nearvs, vi)\n",
    "            todelete = union(todelete, nearvs)\n",
    "            i = i + 1\n",
    "        end\n",
    "    end\n",
    "    nV = V[setdiff(collect(1:vertsnum), todelete), :]\n",
    "    \n",
    "    # translate edges to take congruence into account\n",
    "    edges = Array{Tuple{Int, Int}, 1}(undef, edgenum)\n",
    "    oedges = Array{Tuple{Int, Int}, 1}(undef, edgenum)\n",
    "\n",
    "    for ei in 1:edgenum #non è possibile utilizzare @async\n",
    "        v1, v2 = EV[ei, :].nzind\n",
    "        edges[ei] = Tuple{Int, Int}(sort([newverts[v1], newverts[v2]]))\n",
    "        oedges[ei] = Tuple{Int, Int}(sort([v1, v2]))\n",
    "    end\n",
    "\n",
    "    nedges = union(edges)\n",
    "    # remove edges of zero length\n",
    "    nedges = filter(t->t[1]!=t[2], nedges)\n",
    "    nedgenum = length(nedges)\n",
    "    nEV = spzeros(Int8, nedgenum, size(nV, 1))\n",
    " \n",
    "    etuple2idx = Dict{Tuple{Int, Int}, Int}()\n",
    "\n",
    "    for ei in 1:nedgenum #non è possibile utilizzare @async\n",
    "        begin\n",
    "            nEV[ei, collect(nedges[ei])] .= 1\n",
    "            nEV\n",
    "        end\n",
    "        etuple2idx[nedges[ei]] = ei\n",
    "    end\n",
    "    \n",
    "    @async for e in 1:nedgenum \n",
    "        v1,v2 = findnz(nEV[e,:])[1]\n",
    "        nEV[e,v1] = -1; nEV[e,v2] = 1\n",
    "    end\n",
    " \n",
    "    # compute new faces to take congruence into account\n",
    "    faces = [[\n",
    "        map(x->newverts[x], FE[fi, ei] > 0 ? oedges[ei] : reverse(oedges[ei]))\n",
    "        for ei in FE[fi, :].nzind\n",
    "    ] for fi in 1:facenum]\n",
    " \n",
    " \n",
    "    visited = []\n",
    "    function filter_fn(face)\n",
    " \n",
    "        verts = []\n",
    "        map(e->verts = union(verts, collect(e)), face)\n",
    "        verts = Set(verts)\n",
    " \n",
    "        if !(verts in visited)\n",
    "            push!(visited, verts)\n",
    "            return true\n",
    "        end\n",
    "        return false\n",
    "    end\n",
    " \n",
    "    nfaces = filter(filter_fn, faces)\n",
    " \n",
    "    nfacenum = length(nfaces)\n",
    "    nFE = spzeros(Int8, nfacenum, size(nEV, 1))\n",
    " \n",
    "    @async for fi in 1:nfacenum\n",
    "        @async for edge in nfaces[fi]\n",
    "            ei = etuple2idx[Tuple{Int, Int}(sort(collect(edge)))]\n",
    "            nFE[fi, ei] = sign(edge[2] - edge[1])\n",
    "        end\n",
    "    end\n",
    " \n",
    "    return Lar.Points(nV), nEV, nFE\n",
    " end"
   ]
  },
  {
   "cell_type": "code",
   "execution_count": 5,
   "id": "8c14baaf",
   "metadata": {},
   "outputs": [
    {
     "data": {
      "text/plain": [
       "spatial_arrangement_1_rev (generic function with 2 methods)"
      ]
     },
     "execution_count": 5,
     "metadata": {},
     "output_type": "execute_result"
    }
   ],
   "source": [
    "function spatial_arrangement_1_rev(\n",
    "\t\tV::Lar.Points,\n",
    "\t\tcopEV::Lar.ChainOp,\n",
    "\t\tcopFE::Lar.ChainOp, multiproc::Bool=false)\n",
    "\n",
    "\t# spaceindex computation\n",
    "\tFV = Lar.compute_FV( copEV, copFE )\n",
    "\tmodel = (convert(Lar.Points,V'), FV)\n",
    "\tsp_idx = Lar.spaceindex(model) # OK!!  tested symmetry of computed relation\n",
    "\n",
    "\t# initializations\n",
    "\tfs_num = size(copFE, 1)\n",
    "  rV = Array{Float64,2}(undef,0,3)\n",
    "  rEV = SparseArrays.spzeros(Int8,0,0)\n",
    "  rFE = SparseArrays.spzeros(Int8,0,0)\n",
    "\n",
    "\t# multiprocessing of face fragmentation\n",
    "    if (multiproc == true)\n",
    "        in_chan = Distributed.RemoteChannel(()->Channel{Int64}(0))\n",
    "        out_chan = Distributed.RemoteChannel(()->Channel{Tuple}(0))\n",
    "        @async begin\n",
    "            for sigma in 1:fs_num\n",
    "                put!(in_chan, sigma)\n",
    "            end\n",
    "            for p in Distributed.workers()\n",
    "                put!(in_chan, -1)\n",
    "            end\n",
    "        end\n",
    "        for p in Distributed.workers()\n",
    "            @async Base.remote_do(\n",
    "                frag_face_channel, p, in_chan, out_chan, V, EV, FE, sp_idx)\n",
    "        end\n",
    "        for sigma in 1:fs_num\n",
    "            rV, rEV, rFE = Lar.skel_merge(rV, rEV, rFE, take!(out_chan)...)\n",
    "        end\n",
    "    else\n",
    "\t# sequential (iterative) processing of face fragmentation\n",
    "        for sigma in 1:fs_num\n",
    "            #println(\"\\n\",sigma, \"/\", fs_num)\n",
    "            nV, nEV, nFE = frag_face_revisited(V, copEV, copFE, sp_idx, sigma)\n",
    "\t\t      \tnV = convert(Lar.Points, nV)\n",
    "            rV,rEV, rFE= Lar.skel_merge( rV,rEV,rFE,  nV,nEV,nFE )\n",
    "            #rV=a;  #rEV=b;  #rFE=c\n",
    "        end\n",
    "    end\n",
    "\t# merging of close vertices, edges and faces (3D congruence)\n",
    "\trV, rEV, rFE = merge_vertices_revisited(rV, rEV, rFE)\n",
    "  return rV, rEV, rFE\n",
    "end"
   ]
  },
  {
   "cell_type": "code",
   "execution_count": 6,
   "id": "4bc4f982",
   "metadata": {},
   "outputs": [
    {
     "data": {
      "text/plain": [
       "get_input (generic function with 1 method)"
      ]
     },
     "execution_count": 6,
     "metadata": {},
     "output_type": "execute_result"
    }
   ],
   "source": [
    "function get_input()\n",
    "    V = [0.6540618 0.2054992 0.2972308; 0.7142365 0.1455625 0.969203; 0.5941251 0.8769965 0.3624924; 0.6542998 0.8170598 1.0344647; 1.3260341 0.2707609 0.2428771; 1.3862088 0.2108241 0.9148494; 1.2660973 0.9422582 0.3081388; 1.326272 0.8823214 0.980111; -0.3874063 0.4902226 0.4536339; 0.3249123 0.707347 0.5231232; -0.1702819 -0.0864242 0.0297177; 0.5420367 0.1307001 0.099207; -0.317917 0.0663064 1.0658723; 0.3944016 0.2834308 1.1353616; -0.1007926 -0.5103404 0.6419561; 0.611526 -0.2932161 0.7114454; 0.7899026 0.0605793 0.6679889; 0.46601 0.0749997 0.6686316; 0.804323 0.3844725 0.6679746; 0.4804304 0.3988929 0.6686173; 0.7905452 0.060565 0.9922023; 0.4666527 0.0749854 0.992845; 0.8049656 0.3844582 0.992188; 0.4810731 0.3988786 0.9928307; -0.2261907 -0.0720455 0.4715635; -0.0499888 0.0863489 0.7965885; -0.0677963 0.219164 0.24378; 0.1084056 0.3775584 0.5688049; 0.0988343 -0.2998291 0.4063673; 0.2750362 -0.1414347 0.7313923; 0.2572286 -0.0086196 0.1785838; 0.4334306 0.1497748 0.5036087];\n",
    "\n",
    "    EV = SparseArrays.sparse([1, 5, 9, 1, 6, 10, 2, 5, 11, 2, 6, 12, 3, 7, 9, 3, 8, 10, 4, 7, 11, 4, 8, 12, 13, 17, 21, 13, 18, 22, 14, 17, 23, 14, 18, 24, 15, 19, 21, 15, 20, 22, 16, 19, 23, 16, 20, 24, 25, 29, 33, 25, 30, 34, 26, 29, 35, 26, 30, 36, 27, 31, 33, 27, 32, 34, 28, 31, 35, 28, 32, 36], [1, 1, 1, 2, 2, 2, 3, 3, 3, 4, 4, 4, 5, 5, 5, 6, 6, 6, 7, 7, 7, 8, 8, 8, 9, 9, 9, 10, 10, 10, 11, 11, 11, 12, 12, 12, 13, 13, 13, 14, 14, 14, 15, 15, 15, 16, 16, 16, 17, 17, 17, 18, 18, 18, 19, 19, 19, 20, 20, 20, 21, 21, 21, 22, 22, 22, 23, 23, 23, 24, 24, 24], Int8[-1, -1, -1, 1, -1, -1, -1, 1, -1, 1, 1, -1, -1, -1, 1, 1, -1, 1, -1, 1, 1, 1, 1, 1, -1, -1, -1, 1, -1, -1, -1, 1, -1, 1, 1, -1, -1, -1, 1, 1, -1, 1, -1, 1, 1, 1, 1, 1, -1, -1, -1, 1, -1, -1, -1, 1, -1, 1, 1, -1, -1, -1, 1, 1, -1, 1, -1, 1, 1, 1, 1, 1]);\n",
    "\n",
    "    FE = SparseArrays.sparse([1, 3, 1, 4, 2, 3, 2, 4, 1, 5, 1, 6, 2, 5, 2, 6, 3, 5, 3, 6, 4, 5, 4, 6, 7, 9, 7, 10, 8, 9, 8, 10, 7, 11, 7, 12, 8, 11, 8, 12, 9, 11, 9, 12, 10, 11, 10, 12, 13, 15, 13, 16, 14, 15, 14, 16, 13, 17, 13, 18, 14, 17, 14, 18, 15, 17, 15, 18, 16, 17, 16, 18], [1, 1, 2, 2, 3, 3, 4, 4, 5, 5, 6, 6, 7, 7, 8, 8, 9, 9, 10, 10, 11, 11, 12, 12, 13, 13, 14, 14, 15, 15, 16, 16, 17, 17, 18, 18, 19, 19, 20, 20, 21, 21, 22, 22, 23, 23, 24, 24, 25, 25, 26, 26, 27, 27, 28, 28, 29, 29, 30, 30, 31, 31, 32, 32, 33, 33, 34, 34, 35, 35, 36, 36], Int8[1, 1, -1, 1, 1, -1, -1, -1, -1, 1, 1, 1, -1, -1, 1, -1, -1, -1, 1, -1, -1, 1, 1, 1, 1, 1, -1, 1, 1, -1, -1, -1, -1, 1, 1, 1, -1, -1, 1, -1, -1, -1, 1, -1, -1, 1, 1, 1, 1, 1, -1, 1, 1, -1, -1, -1, -1, 1, 1, 1, -1, -1, 1, -1, -1, -1, 1, -1, -1, 1, 1, 1]);\n",
    "    return V, EV, FE\n",
    "end"
   ]
  },
  {
   "cell_type": "code",
   "execution_count": 7,
   "id": "ca822095",
   "metadata": {},
   "outputs": [
    {
     "data": {
      "text/plain": [
       "([0.6540618 0.2054992 0.2972308; 0.7142365 0.1455625 0.969203; … ; 0.2572286 -0.0086196 0.1785838; 0.4334306 0.1497748 0.5036087], sparse([1, 5, 9, 1, 6, 10, 2, 5, 11, 2  …  33, 27, 32, 34, 28, 31, 35, 28, 32, 36], [1, 1, 1, 2, 2, 2, 3, 3, 3, 4  …  21, 22, 22, 22, 23, 23, 23, 24, 24, 24], Int8[-1, -1, -1, 1, -1, -1, -1, 1, -1, 1  …  1, 1, -1, 1, -1, 1, 1, 1, 1, 1], 36, 24), sparse([1, 3, 1, 4, 2, 3, 2, 4, 1, 5  …  14, 18, 15, 17, 15, 18, 16, 17, 16, 18], [1, 1, 2, 2, 3, 3, 4, 4, 5, 5  …  32, 32, 33, 33, 34, 34, 35, 35, 36, 36], Int8[1, 1, -1, 1, 1, -1, -1, -1, -1, 1  …  1, -1, -1, -1, 1, -1, -1, 1, 1, 1], 18, 36))"
      ]
     },
     "execution_count": 7,
     "metadata": {},
     "output_type": "execute_result"
    }
   ],
   "source": [
    "i1, i2, i3 = get_input()"
   ]
  },
  {
   "cell_type": "code",
   "execution_count": 8,
   "id": "e854b5df",
   "metadata": {},
   "outputs": [
    {
     "data": {
      "text/plain": [
       "([0.6540618000000001 0.2054992 0.2972308; 0.7142365000000002 0.1455625 0.969203; … ; 0.8049656 0.3844582 0.992188; 0.4810731000000001 0.3988786 0.9928307], sparse([1, 3, 9, 1, 4, 10, 2, 3, 11, 2  …  33, 29, 32, 34, 30, 31, 35, 30, 32, 36], [1, 1, 1, 2, 2, 2, 3, 3, 3, 4  …  21, 22, 22, 22, 23, 23, 23, 24, 24, 24], Int8[-1, -1, -1, 1, -1, -1, -1, 1, -1, 1  …  1, 1, -1, 1, -1, 1, 1, 1, 1, 1], 36, 24), sparse([1, 3, 1, 4, 1, 5, 1, 6, 2, 3  …  14, 18, 15, 17, 15, 18, 16, 17, 16, 18], [1, 1, 2, 2, 3, 3, 4, 4, 5, 5  …  32, 32, 33, 33, 34, 34, 35, 35, 36, 36], Int8[1, 1, -1, 1, -1, 1, 1, 1, 1, -1  …  1, -1, -1, -1, 1, -1, -1, 1, 1, 1], 18, 36))"
      ]
     },
     "execution_count": 8,
     "metadata": {},
     "output_type": "execute_result"
    }
   ],
   "source": [
    "spatial_arrangement_1_rev(i1, i2, i3)"
   ]
  },
  {
   "cell_type": "code",
   "execution_count": null,
   "id": "a9926e2b",
   "metadata": {},
   "outputs": [],
   "source": []
  },
  {
   "cell_type": "code",
   "execution_count": 9,
   "id": "102b61aa",
   "metadata": {},
   "outputs": [
    {
     "data": {
      "text/plain": [
       "get_test_pre_input (generic function with 1 method)"
      ]
     },
     "execution_count": 9,
     "metadata": {},
     "output_type": "execute_result"
    }
   ],
   "source": [
    "function get_test_pre_input()\n",
    "    store = [];\n",
    "    scaling = 1.5;\n",
    "    V,(VV,EV,FV,CV) = Lar.cuboid([0.25,0.25,0.25],true,[-0.25,-0.25,-0.25]);\n",
    "    mybox = (V,CV,FV,EV);\n",
    "    for k=1:5\n",
    "        size = rand()*scaling\n",
    "        scale = Lar.s(size,size,size)\n",
    "        transl = Lar.t(rand(3)...)\n",
    "        alpha = 2*pi*rand()\n",
    "        rx = Lar.r(alpha,0,0); ry = Lar.r(0,alpha,0); rz = Lar.r(0,0,alpha)\n",
    "        rot = rx * ry * rz\n",
    "        str = Lar.Struct([ transl, scale, rot, mybox ])\n",
    "        obj = Lar.struct2lar(str)\n",
    "        vs = obj[1]\n",
    "        diag = LinearAlgebra.norm(vs[:,8]-vs[:,1])\n",
    "        if diag > 1/5\n",
    "            push!(store, obj)\n",
    "        end\n",
    "    end\n",
    "\n",
    "    str = Lar.Struct(store);\n",
    "    V,CV,FV,EV = Lar.struct2lar(str);\n",
    "    return V,CV,FV,EV \n",
    "end"
   ]
  },
  {
   "cell_type": "code",
   "execution_count": null,
   "id": "85a36899",
   "metadata": {},
   "outputs": [],
   "source": []
  },
  {
   "cell_type": "code",
   "execution_count": 10,
   "id": "1857785b",
   "metadata": {},
   "outputs": [
    {
     "data": {
      "text/plain": [
       "([0.206903 -0.1165139 … 0.9953095 0.8973679; -0.081825 -0.347288 … 0.7733242 0.8559604; -0.1209426 0.2605212 … 0.2882131 0.4181062], [[1, 2, 3, 4, 5, 6, 7, 8], [9, 10, 11, 12, 13, 14, 15, 16], [17, 18, 19, 20, 21, 22, 23, 24], [25, 26, 27, 28, 29, 30, 31, 32]], [[1, 2, 3, 4], [5, 6, 7, 8], [1, 2, 5, 6], [3, 4, 7, 8], [1, 3, 5, 7], [2, 4, 6, 8], [9, 10, 11, 12], [13, 14, 15, 16], [9, 10, 13, 14], [11, 12, 15, 16]  …  [17, 18, 21, 22], [19, 20, 23, 24], [17, 19, 21, 23], [18, 20, 22, 24], [25, 26, 27, 28], [29, 30, 31, 32], [25, 26, 29, 30], [27, 28, 31, 32], [25, 27, 29, 31], [26, 28, 30, 32]], [[1, 2], [3, 4], [5, 6], [7, 8], [1, 3], [2, 4], [5, 7], [6, 8], [1, 5], [2, 6]  …  [29, 30], [31, 32], [25, 27], [26, 28], [29, 31], [30, 32], [25, 29], [26, 30], [27, 31], [28, 32]])"
      ]
     },
     "execution_count": 10,
     "metadata": {},
     "output_type": "execute_result"
    }
   ],
   "source": [
    "itp1, itp2, itp3, itp4 = get_test_pre_input()"
   ]
  },
  {
   "cell_type": "code",
   "execution_count": 11,
   "id": "919fd4a7",
   "metadata": {},
   "outputs": [
    {
     "data": {
      "text/plain": [
       "get_test_input (generic function with 1 method)"
      ]
     },
     "execution_count": 11,
     "metadata": {},
     "output_type": "execute_result"
    }
   ],
   "source": [
    "function get_test_input(V,CV,FV,EV)\n",
    "    cop_EV = Lar.coboundary_0(EV::Lar.Cells);\n",
    "    cop_FE = Lar.coboundary_1(V, FV::Lar.Cells, EV::Lar.Cells);\n",
    "    W = convert(Lar.Points, V');\n",
    "    return W, cop_EV, cop_FE\n",
    "end"
   ]
  },
  {
   "cell_type": "code",
   "execution_count": 12,
   "id": "7e74c948",
   "metadata": {},
   "outputs": [
    {
     "data": {
      "text/plain": [
       "([0.206903 -0.081825 -0.1209426; -0.1165139 -0.347288 0.2605212; … ; 0.9953095 0.7733242 0.2882131; 0.8973679 0.8559604 0.4181062], sparse([1, 5, 9, 1, 6, 10, 2, 5, 11, 2  …  45, 39, 44, 46, 40, 43, 47, 40, 44, 48], [1, 1, 1, 2, 2, 2, 3, 3, 3, 4  …  29, 30, 30, 30, 31, 31, 31, 32, 32, 32], Int8[-1, -1, -1, 1, -1, -1, -1, 1, -1, 1  …  1, 1, -1, 1, -1, 1, 1, 1, 1, 1], 48, 32), sparse([1, 3, 1, 4, 2, 3, 2, 4, 1, 5  …  20, 24, 21, 23, 21, 24, 22, 23, 22, 24], [1, 1, 2, 2, 3, 3, 4, 4, 5, 5  …  44, 44, 45, 45, 46, 46, 47, 47, 48, 48], Int8[1, 1, -1, 1, 1, -1, -1, -1, -1, 1  …  1, -1, -1, -1, 1, -1, -1, 1, 1, 1], 24, 48))"
      ]
     },
     "execution_count": 12,
     "metadata": {},
     "output_type": "execute_result"
    }
   ],
   "source": [
    "it1, it2, it3 = get_test_input(itp1, itp2, itp3, itp4)"
   ]
  },
  {
   "cell_type": "code",
   "execution_count": 13,
   "id": "fdca6c3b",
   "metadata": {},
   "outputs": [
    {
     "data": {
      "text/plain": [
       "([0.20690299999999998 -0.08182500000000001 -0.12094260000000001; -0.11651390000000003 -0.34728799999999993 0.26052120000000006; … ; 0.9953094999999997 0.7733242000000002 0.2882130999999997; 0.8973678522873284 0.8559604140609658 0.41810615507840937], sparse([1, 3, 9, 1, 4, 10, 2, 3, 11, 2  …  45, 41, 44, 46, 42, 43, 47, 42, 44, 48], [1, 1, 1, 2, 2, 2, 3, 3, 3, 4  …  29, 30, 30, 30, 31, 31, 31, 32, 32, 32], Int8[-1, -1, -1, 1, -1, -1, -1, 1, -1, 1  …  1, 1, -1, 1, -1, 1, 1, 1, 1, 1], 48, 32), sparse([1, 3, 1, 4, 1, 5, 1, 6, 2, 3  …  20, 24, 21, 23, 21, 24, 22, 23, 22, 24], [1, 1, 2, 2, 3, 3, 4, 4, 5, 5  …  44, 44, 45, 45, 46, 46, 47, 47, 48, 48], Int8[1, 1, -1, 1, -1, 1, 1, 1, 1, -1  …  1, -1, -1, -1, 1, -1, -1, 1, 1, 1], 24, 48))"
      ]
     },
     "execution_count": 13,
     "metadata": {},
     "output_type": "execute_result"
    }
   ],
   "source": [
    "spatial_arrangement_1_rev(it1, it2, it3)"
   ]
  },
  {
   "cell_type": "code",
   "execution_count": 14,
   "id": "ee6c92ba",
   "metadata": {},
   "outputs": [],
   "source": [
    "rV, rcopEV, rcopFE= spatial_arrangement_1_rev(it1, it2, it3);"
   ]
  },
  {
   "cell_type": "code",
   "execution_count": 20,
   "id": "30ffa4c4",
   "metadata": {},
   "outputs": [
    {
     "data": {
      "text/plain": [
       "testarrangement (generic function with 1 method)"
      ]
     },
     "execution_count": 20,
     "metadata": {},
     "output_type": "execute_result"
    }
   ],
   "source": [
    "using TopologicalGiftWrapping8A\n",
    "store = [];\n",
    "scaling = 1.5;\n",
    "V,(VV,EV,FV,CV) = Lar.cuboid([0.25,0.25,0.25],true,[-0.25,-0.25,-0.25]);\n",
    "mybox = (V,CV,FV,EV);\n",
    "for k=1:5\n",
    "\tsize = rand()*scaling\n",
    "\tscale = Lar.s(size,size,size)\n",
    "\ttransl = Lar.t(rand(3)...)\n",
    "\talpha = 2*pi*rand()\n",
    "\trx = Lar.r(alpha,0,0); ry = Lar.r(0,alpha,0); rz = Lar.r(0,0,alpha)\n",
    "\trot = rx * ry * rz\n",
    "\tstr = Lar.Struct([ transl, scale, rot, mybox ])\n",
    "\tobj = Lar.struct2lar(str)\n",
    "\tvs = obj[1]\n",
    "\tdiag = LinearAlgebra.norm(vs[:,8]-vs[:,1])\n",
    "\tif diag > 1/5\n",
    "\t\tpush!(store, obj)\n",
    "\tend\n",
    "end\n",
    "\n",
    "str = Lar.Struct(store);\n",
    "V,CV,FV,EV = Lar.struct2lar(str);\n",
    "# V = Plasm.normalize3D(V) TODO:  solve MethodError bug\n",
    "\n",
    "#GL.VIEW([ GL.GLPol(V,CV, GL.COLORS[2], 0.1) ]);\n",
    "\n",
    "function testarrangement(V,CV,FV,EV)\n",
    "\t\tcop_EV = Lar.coboundary_0(EV::Lar.Cells);\n",
    "\t\tcop_FE = Lar.coboundary_1(V, FV::Lar.Cells, EV::Lar.Cells);\n",
    "\t\tW = convert(Lar.Points, V');\n",
    "\n",
    "\t\tV, copEV, copFE, copCF = TopologicalGiftWrapping8A.spatial_arrangement(\n",
    "\t\t\t\tW::Lar.Points, cop_EV::Lar.ChainOp, cop_FE::Lar.ChainOp);\n",
    "\n",
    "\t\tV = convert(Lar.Points, V');\n",
    "\t\tV,CVs,FVs,EVs = Lar.pols2tria(V, copEV, copFE, copCF) # whole assembly\n",
    "\t\tGL.VIEW(GL.GLExplode(V,FVs,1.1,1.1,1.1,99,1));\n",
    "\t\tGL.VIEW(GL.GLExplode(V,EVs,1.5,1.5,1.5,99,1));\n",
    "\t\tGL.VIEW(GL.GLExplode(V,CVs,1,1,1,99,0.2));\n",
    "end\n"
   ]
  },
  {
   "cell_type": "code",
   "execution_count": 21,
   "id": "9243fab5",
   "metadata": {},
   "outputs": [
    {
     "ename": "LoadError",
     "evalue": "UndefVarError: spatial_arrangement not defined",
     "output_type": "error",
     "traceback": [
      "UndefVarError: spatial_arrangement not defined",
      "",
      "Stacktrace:",
      " [1] testarrangement(V::Matrix{Float64}, CV::Vector{Vector{Int64}}, FV::Vector{Vector{Int64}}, EV::Vector{Vector{Int64}})",
      "   @ Main ./In[20]:33",
      " [2] top-level scope",
      "   @ In[21]:1",
      " [3] eval",
      "   @ ./boot.jl:373 [inlined]",
      " [4] include_string(mapexpr::typeof(REPL.softscope), mod::Module, code::String, filename::String)",
      "   @ Base ./loading.jl:1196"
     ]
    }
   ],
   "source": [
    "testarrangement(V,CV,FV,EV);"
   ]
  },
  {
   "cell_type": "code",
   "execution_count": null,
   "id": "52f6fbad",
   "metadata": {},
   "outputs": [],
   "source": []
  }
 ],
 "metadata": {
  "kernelspec": {
   "display_name": "Julia 1.7.2",
   "language": "julia",
   "name": "julia-1.7"
  },
  "language_info": {
   "file_extension": ".jl",
   "mimetype": "application/julia",
   "name": "julia",
   "version": "1.7.2"
  }
 },
 "nbformat": 4,
 "nbformat_minor": 5
}
