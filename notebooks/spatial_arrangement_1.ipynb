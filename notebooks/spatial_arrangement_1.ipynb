{
 "cells": [
  {
   "cell_type": "markdown",
   "id": "f0e02957",
   "metadata": {
    "pycharm": {
     "name": "#%% md\n"
    }
   },
   "source": [
    "# Gruppo 8A\n",
    "Ennio Malvati - 484998 <br>\n",
    "Gianluca Di Lorenzo - 583630 <br>\n",
    "Raffaele Scarano - 576304"
   ]
  },
  {
   "cell_type": "markdown",
   "id": "nnHGgMuEUZ27",
   "metadata": {
    "id": "nnHGgMuEUZ27",
    "pycharm": {
     "name": "#%% md\n"
    }
   },
   "source": [
    "# Test `spatial_arrangment_1`"
   ]
  },
  {
   "cell_type": "markdown",
   "id": "HrAQB7oeVStT",
   "metadata": {
    "id": "HrAQB7oeVStT",
    "pycharm": {
     "name": "#%% md\n"
    }
   },
   "source": [
    "In questa prima fase vengono caricate tutte le librerie utili per l'implementazione e per la fase di test"
   ]
  },
  {
   "cell_type": "code",
   "execution_count": 61,
   "id": "7dd516da",
   "metadata": {
    "id": "7dd516da",
    "outputId": "efd30c72-0bcd-4305-805d-efa0664ea73e",
    "pycharm": {
     "name": "#%%\n"
    }
   },
   "outputs": [
    {
     "name": "stderr",
     "output_type": "stream",
     "text": [
      "\u001B[32m\u001B[1m  Activating\u001B[22m\u001B[39m project at `~/Università/Calcolo_parallelo/TopologicalGiftWrapping8A`\n"
     ]
    },
    {
     "data": {
      "text/plain": [
       "ViewerGL"
      ]
     },
     "metadata": {},
     "output_type": "display_data"
    }
   ],
   "source": [
    "using Pkg\n",
    "Pkg.activate(\"./../../TopologicalGiftWrapping8A\")\n",
    "using Profile\n",
    "using ProfileView\n",
    "using BenchmarkTools\n",
    "using SparseArrays\n",
    "using LinearAlgebra\n",
    "using Distributed\n",
    "using LinearAlgebraicRepresentation\n",
    "using NearestNeighbors\n",
    "Lar = LinearAlgebraicRepresentation\n",
    "using ViewerGL\n",
    "GL = ViewerGL"
   ]
  },
  {
   "cell_type": "markdown",
   "id": "n_LKm7XoVU6M",
   "metadata": {
    "id": "n_LKm7XoVU6M",
    "pycharm": {
     "name": "#%% md\n"
    }
   },
   "source": [
    "Successivamente viene preparato l'input dove V e' di tipo Matrix-Real con tre righe e colonne pari alla cardinalita' di C0, inoltre, EV ed FE sono matrici sparse di co-bordi e forniscono le incidenze tra i bordi, i vertici e le facce"
   ]
  },
  {
   "cell_type": "code",
   "execution_count": 62,
   "id": "23b65c68",
   "metadata": {
    "id": "23b65c68",
    "pycharm": {
     "name": "#%%\n"
    }
   },
   "outputs": [
    {
     "data": {
      "text/plain": [
       "get_input (generic function with 1 method)"
      ]
     },
     "metadata": {},
     "output_type": "display_data"
    }
   ],
   "source": [
    "function get_input()\n",
    "    V = [0.6540618 0.2054992 0.2972308; 0.7142365 0.1455625 0.969203; 0.5941251 0.8769965 0.3624924; 0.6542998 0.8170598 1.0344647; 1.3260341 0.2707609 0.2428771; 1.3862088 0.2108241 0.9148494; 1.2660973 0.9422582 0.3081388; 1.326272 0.8823214 0.980111; -0.3874063 0.4902226 0.4536339; 0.3249123 0.707347 0.5231232; -0.1702819 -0.0864242 0.0297177; 0.5420367 0.1307001 0.099207; -0.317917 0.0663064 1.0658723; 0.3944016 0.2834308 1.1353616; -0.1007926 -0.5103404 0.6419561; 0.611526 -0.2932161 0.7114454; 0.7899026 0.0605793 0.6679889; 0.46601 0.0749997 0.6686316; 0.804323 0.3844725 0.6679746; 0.4804304 0.3988929 0.6686173; 0.7905452 0.060565 0.9922023; 0.4666527 0.0749854 0.992845; 0.8049656 0.3844582 0.992188; 0.4810731 0.3988786 0.9928307; -0.2261907 -0.0720455 0.4715635; -0.0499888 0.0863489 0.7965885; -0.0677963 0.219164 0.24378; 0.1084056 0.3775584 0.5688049; 0.0988343 -0.2998291 0.4063673; 0.2750362 -0.1414347 0.7313923; 0.2572286 -0.0086196 0.1785838; 0.4334306 0.1497748 0.5036087];\n",
    "\n",
    "    EV = SparseArrays.sparse([1, 5, 9, 1, 6, 10, 2, 5, 11, 2, 6, 12, 3, 7, 9, 3, 8, 10, 4, 7, 11, 4, 8, 12, 13, 17, 21, 13, 18, 22, 14, 17, 23, 14, 18, 24, 15, 19, 21, 15, 20, 22, 16, 19, 23, 16, 20, 24, 25, 29, 33, 25, 30, 34, 26, 29, 35, 26, 30, 36, 27, 31, 33, 27, 32, 34, 28, 31, 35, 28, 32, 36], [1, 1, 1, 2, 2, 2, 3, 3, 3, 4, 4, 4, 5, 5, 5, 6, 6, 6, 7, 7, 7, 8, 8, 8, 9, 9, 9, 10, 10, 10, 11, 11, 11, 12, 12, 12, 13, 13, 13, 14, 14, 14, 15, 15, 15, 16, 16, 16, 17, 17, 17, 18, 18, 18, 19, 19, 19, 20, 20, 20, 21, 21, 21, 22, 22, 22, 23, 23, 23, 24, 24, 24], Int8[-1, -1, -1, 1, -1, -1, -1, 1, -1, 1, 1, -1, -1, -1, 1, 1, -1, 1, -1, 1, 1, 1, 1, 1, -1, -1, -1, 1, -1, -1, -1, 1, -1, 1, 1, -1, -1, -1, 1, 1, -1, 1, -1, 1, 1, 1, 1, 1, -1, -1, -1, 1, -1, -1, -1, 1, -1, 1, 1, -1, -1, -1, 1, 1, -1, 1, -1, 1, 1, 1, 1, 1]);\n",
    "\n",
    "    FE = SparseArrays.sparse([1, 3, 1, 4, 2, 3, 2, 4, 1, 5, 1, 6, 2, 5, 2, 6, 3, 5, 3, 6, 4, 5, 4, 6, 7, 9, 7, 10, 8, 9, 8, 10, 7, 11, 7, 12, 8, 11, 8, 12, 9, 11, 9, 12, 10, 11, 10, 12, 13, 15, 13, 16, 14, 15, 14, 16, 13, 17, 13, 18, 14, 17, 14, 18, 15, 17, 15, 18, 16, 17, 16, 18], [1, 1, 2, 2, 3, 3, 4, 4, 5, 5, 6, 6, 7, 7, 8, 8, 9, 9, 10, 10, 11, 11, 12, 12, 13, 13, 14, 14, 15, 15, 16, 16, 17, 17, 18, 18, 19, 19, 20, 20, 21, 21, 22, 22, 23, 23, 24, 24, 25, 25, 26, 26, 27, 27, 28, 28, 29, 29, 30, 30, 31, 31, 32, 32, 33, 33, 34, 34, 35, 35, 36, 36], Int8[1, 1, -1, 1, 1, -1, -1, -1, -1, 1, 1, 1, -1, -1, 1, -1, -1, -1, 1, -1, -1, 1, 1, 1, 1, 1, -1, 1, 1, -1, -1, -1, -1, 1, 1, 1, -1, -1, 1, -1, -1, -1, 1, -1, -1, 1, 1, 1, 1, 1, -1, 1, 1, -1, -1, -1, -1, 1, 1, 1, -1, -1, 1, -1, -1, -1, 1, -1, -1, 1, 1, 1]);\n",
    "    return V, EV, FE\n",
    "end"
   ]
  },
  {
   "cell_type": "markdown",
   "id": "i3PHZSX5VfEb",
   "metadata": {
    "id": "i3PHZSX5VfEb",
    "pycharm": {
     "name": "#%% md\n"
    }
   },
   "source": [
    "Testiamo il tempo d'esecuzione della funzione `spatial_arrangment` utilizzando la macro `@btime` la quale ci permette di valutare svariate volte le prestazioni dal punto di vista temporale delle funzioni al fine di ridurre il rumore."
   ]
  },
  {
   "cell_type": "code",
   "execution_count": 63,
   "id": "5e7db8ca",
   "metadata": {
    "pycharm": {
     "name": "#%%\n"
    },
    "scrolled": true
   },
   "outputs": [
    {
     "name": "stdout",
     "output_type": "stream",
     "text": [
      "  12.658 ms (225321 allocations: 11.94 MiB)\n"
     ]
    },
    {
     "data": {
      "text/plain": [
       "([0.6540618000000001 0.2054992 0.2972308; 0.7142365000000002 0.1455625 0.969203; … ; 0.8049656 0.3844582 0.992188; 0.4810731000000001 0.3988786 0.9928307], sparse([1, 4, 14, 2, 5, 15, 1, 2, 7, 17  …  57, 61, 65, 53, 56, 63, 55, 58, 64, 66], [1, 1, 1, 2, 2, 2, 3, 3, 3, 3  …  36, 36, 36, 37, 37, 37, 38, 38, 38, 38], Int8[-1, -1, -1, -1, -1, -1, 1, 1, -1, -1  …  1, 1, 1, 1, 1, 1, 1, 1, 1, 1], 67, 38), sparse([1, 4, 2, 5, 1, 6, 1, 7, 2, 8  …  25, 29, 27, 28, 26, 31, 32, 31, 30, 31], [1, 1, 2, 2, 3, 3, 4, 4, 5, 5  …  62, 62, 63, 63, 64, 64, 65, 66, 67, 67], Int8[1, 1, -1, -1, -1, 1, -1, 1, 1, 1  …  1, -1, -1, 1, 1, 1, 1, -1, -1, 1], 32, 67))"
      ]
     },
     "metadata": {},
     "output_type": "display_data"
    }
   ],
   "source": [
    "V, EV, FE = get_input()\n",
    "@btime Lar.Arrangement.spatial_arrangement_1(Lar.Points(V),Lar.ChainOp(EV),Lar.ChainOp(FE),false)"
   ]
  },
  {
   "cell_type": "code",
   "execution_count": 64,
   "id": "05fded5e",
   "metadata": {},
   "outputs": [
    {
     "data": {
      "text/plain": [
       "BenchmarkTools.Trial: 355 samples with 1 evaluation.\n",
       " Range \u001B[90m(\u001B[39m\u001B[36m\u001B[1mmin\u001B[22m\u001B[39m … \u001B[35mmax\u001B[39m\u001B[90m):  \u001B[39m\u001B[36m\u001B[1m12.617 ms\u001B[22m\u001B[39m … \u001B[35m23.490 ms\u001B[39m  \u001B[90m┊\u001B[39m GC \u001B[90m(\u001B[39mmin … max\u001B[90m): \u001B[39m0.00% … 31.90%\n",
       " Time  \u001B[90m(\u001B[39m\u001B[34m\u001B[1mmedian\u001B[22m\u001B[39m\u001B[90m):     \u001B[39m\u001B[34m\u001B[1m12.814 ms              \u001B[22m\u001B[39m\u001B[90m┊\u001B[39m GC \u001B[90m(\u001B[39mmedian\u001B[90m):    \u001B[39m0.00%\n",
       " Time  \u001B[90m(\u001B[39m\u001B[32m\u001B[1mmean\u001B[22m\u001B[39m ± \u001B[32mσ\u001B[39m\u001B[90m):   \u001B[39m\u001B[32m\u001B[1m14.097 ms\u001B[22m\u001B[39m ± \u001B[32m 2.710 ms\u001B[39m  \u001B[90m┊\u001B[39m GC \u001B[90m(\u001B[39mmean ± σ\u001B[90m):  \u001B[39m7.22% ± 12.06%\n",
       "\n",
       "  \u001B[39m█\u001B[34m▇\u001B[39m\u001B[39m▂\u001B[39m \u001B[39m \u001B[39m \u001B[39m \u001B[39m \u001B[39m \u001B[32m \u001B[39m\u001B[39m \u001B[39m \u001B[39m \u001B[39m \u001B[39m \u001B[39m \u001B[39m \u001B[39m \u001B[39m \u001B[39m \u001B[39m \u001B[39m \u001B[39m \u001B[39m \u001B[39m \u001B[39m \u001B[39m \u001B[39m \u001B[39m \u001B[39m \u001B[39m \u001B[39m \u001B[39m \u001B[39m \u001B[39m \u001B[39m \u001B[39m \u001B[39m \u001B[39m \u001B[39m \u001B[39m \u001B[39m \u001B[39m \u001B[39m \u001B[39m▃\u001B[39m▂\u001B[39m \u001B[39m \u001B[39m \u001B[39m \u001B[39m \u001B[39m \u001B[39m \u001B[39m \u001B[39m \u001B[39m \u001B[39m \u001B[39m \u001B[39m \u001B[39m \u001B[39m \n",
       "  \u001B[39m█\u001B[34m█\u001B[39m\u001B[39m█\u001B[39m█\u001B[39m█\u001B[39m▆\u001B[39m▇\u001B[39m▆\u001B[39m▁\u001B[32m█\u001B[39m\u001B[39m▅\u001B[39m▅\u001B[39m▇\u001B[39m▆\u001B[39m▅\u001B[39m▄\u001B[39m▅\u001B[39m▄\u001B[39m▁\u001B[39m▁\u001B[39m▁\u001B[39m▁\u001B[39m▄\u001B[39m▁\u001B[39m▄\u001B[39m▁\u001B[39m▁\u001B[39m▁\u001B[39m▁\u001B[39m▁\u001B[39m▁\u001B[39m▁\u001B[39m▁\u001B[39m▁\u001B[39m▁\u001B[39m▁\u001B[39m▁\u001B[39m▁\u001B[39m▁\u001B[39m▁\u001B[39m▁\u001B[39m▁\u001B[39m▄\u001B[39m▁\u001B[39m█\u001B[39m█\u001B[39m▅\u001B[39m▄\u001B[39m▁\u001B[39m▁\u001B[39m▁\u001B[39m▁\u001B[39m▁\u001B[39m▁\u001B[39m▁\u001B[39m▁\u001B[39m▁\u001B[39m▅\u001B[39m▄\u001B[39m \u001B[39m▆\n",
       "  12.6 ms\u001B[90m      \u001B[39m\u001B[90mHistogram: \u001B[39m\u001B[90m\u001B[1mlog(\u001B[22m\u001B[39m\u001B[90mfrequency\u001B[39m\u001B[90m\u001B[1m)\u001B[22m\u001B[39m\u001B[90m by time\u001B[39m      22.4 ms \u001B[0m\u001B[1m<\u001B[22m\n",
       "\n",
       " Memory estimate\u001B[90m: \u001B[39m\u001B[33m11.94 MiB\u001B[39m, allocs estimate\u001B[90m: \u001B[39m\u001B[33m225321\u001B[39m."
      ]
     },
     "metadata": {},
     "output_type": "display_data"
    }
   ],
   "source": [
    "V, EV, FE = get_input()\n",
    "@benchmark Lar.Arrangement.spatial_arrangement_1(Lar.Points(V),Lar.ChainOp(EV),Lar.ChainOp(FE),false)"
   ]
  },
  {
   "cell_type": "markdown",
   "id": "a480d19f",
   "metadata": {
    "pycharm": {
     "name": "#%% md\n"
    }
   },
   "source": [
    "Utilizzando la macro `@code_warntype` ci permette di generare una rappresentazione del codice che può essere utile per trovare espressioni che determinano l'incertezza del tipo, utile per valutare la tipicizzazione di una funzione.\n",
    "La caratteristica più importante di @code_warntype è che i tipi non concreti sono visualizzati in rosso. Per facilitare la ricerca delle instabilità di tipo che potrebbero essere importanti, le unioni che contengono `missing` o `nothing` sono evidenziate in giallo, invece che in rosso."
   ]
  },
  {
   "cell_type": "code",
   "execution_count": 65,
   "id": "ed29813b",
   "metadata": {
    "pycharm": {
     "name": "#%%\n"
    }
   },
   "outputs": [
    {
     "name": "stdout",
     "output_type": "stream",
     "text": [
      "MethodInstance for LinearAlgebraicRepresentation.Arrangement.spatial_arrangement_1(::Matrix{Float64}, ::SparseMatrixCSC{Int8, Int64}, ::SparseMatrixCSC{Int8, Int64}, ::Bool)\n",
      "  from spatial_arrangement_1(V::Matrix, copEV::SparseMatrixCSC{Int8, Int64}, copFE::SparseMatrixCSC{Int8, Int64}, multiproc::Bool) in LinearAlgebraicRepresentation.Arrangement at /Users/raffaelescarano/.julia/packages/LinearAlgebraicRepresentation/qwzGL/src/arrangement/spatial_arrangement.jl:143\n",
      "Arguments\n",
      "  #self#\u001B[36m::Core.Const(LinearAlgebraicRepresentation.Arrangement.spatial_arrangement_1)\u001B[39m\n",
      "  V\u001B[36m::Matrix{Float64}\u001B[39m\n",
      "  copEV\u001B[36m::SparseMatrixCSC{Int8, Int64}\u001B[39m\n",
      "  copFE\u001B[36m::SparseMatrixCSC{Int8, Int64}\u001B[39m\n",
      "  multiproc\u001B[36m::Bool\u001B[39m\n",
      "Locals\n",
      "  @_6\u001B[36m::Int64\u001B[39m\n",
      "  @_7\u001B[33m\u001B[1m::Union{Nothing, Tuple{Int64, Int64}}\u001B[22m\u001B[39m\n",
      "  @_8\u001B[33m\u001B[1m::Union{Nothing, Tuple{Int64, Int64}}\u001B[22m\u001B[39m\n",
      "  @_9\u001B[33m\u001B[1m::Union{Nothing, Tuple{Int64, Int64}}\u001B[22m\u001B[39m\n",
      "  #81\u001B[36m::LinearAlgebraicRepresentation.Arrangement.var\"#81#85\"\u001B[39m\n",
      "  #80\u001B[36m::LinearAlgebraicRepresentation.Arrangement.var\"#80#84\"\u001B[39m\n",
      "  rFE\u001B[91m\u001B[1m::Any\u001B[22m\u001B[39m\n",
      "  rEV\u001B[91m\u001B[1m::Any\u001B[22m\u001B[39m\n",
      "  rV\u001B[91m\u001B[1m::Any\u001B[22m\u001B[39m\n",
      "  out_chan\u001B[91m\u001B[1m::Any\u001B[22m\u001B[39m\n",
      "  in_chan\u001B[91m\u001B[1m::Any\u001B[22m\u001B[39m\n",
      "  fs_num\u001B[36m::Int64\u001B[39m\n",
      "  sp_idx\u001B[91m\u001B[1m::Any\u001B[22m\u001B[39m\n",
      "  model\u001B[91m\u001B[1m::Tuple{Any, Any}\u001B[22m\u001B[39m\n",
      "  FV\u001B[91m\u001B[1m::Any\u001B[22m\u001B[39m\n",
      "  #82\u001B[91m\u001B[1m::LinearAlgebraicRepresentation.Arrangement.var\"#82#86\"{_A, Int64} where _A\u001B[22m\u001B[39m\n",
      "  task@_22\u001B[36m::Task\u001B[39m\n",
      "  p\u001B[36m::Int64\u001B[39m\n",
      "  #83\u001B[91m\u001B[1m::LinearAlgebraicRepresentation.Arrangement.var\"#83#87\"{Matrix{Float64}, _A, _B, _C, Int64} where {_A, _B, _C}\u001B[22m\u001B[39m\n",
      "  task@_25\u001B[36m::Task\u001B[39m\n",
      "  @_26\u001B[91m\u001B[1m::Any\u001B[22m\u001B[39m\n",
      "  sigma@_27\u001B[36m::Int64\u001B[39m\n",
      "  @_28\u001B[91m\u001B[1m::Any\u001B[22m\u001B[39m\n",
      "  @_29\u001B[91m\u001B[1m::Any\u001B[22m\u001B[39m\n",
      "  c\u001B[91m\u001B[1m::Any\u001B[22m\u001B[39m\n",
      "  b\u001B[91m\u001B[1m::Any\u001B[22m\u001B[39m\n",
      "  a\u001B[91m\u001B[1m::Any\u001B[22m\u001B[39m\n",
      "  nFE\u001B[91m\u001B[1m::Any\u001B[22m\u001B[39m\n",
      "  nEV\u001B[91m\u001B[1m::Any\u001B[22m\u001B[39m\n",
      "  nV\u001B[91m\u001B[1m::Any\u001B[22m\u001B[39m\n",
      "  sigma@_36\u001B[36m::Int64\u001B[39m\n",
      "Body\u001B[91m\u001B[1m::Tuple{Any, SparseMatrixCSC{Int8, Int64}, SparseMatrixCSC{Int8, Int64}}\u001B[22m\u001B[39m\n",
      "\u001B[90m1 ──\u001B[39m        Core.NewvarNode(:(@_6))\n",
      "\u001B[90m│   \u001B[39m        Core.NewvarNode(:(@_7))\n",
      "\u001B[90m│   \u001B[39m        Core.NewvarNode(:(@_8))\n",
      "\u001B[90m│   \u001B[39m        Core.NewvarNode(:(@_9))\n",
      "\u001B[90m│   \u001B[39m        Core.NewvarNode(:(#81))\n",
      "\u001B[90m│   \u001B[39m        Core.NewvarNode(:(#80))\n",
      "\u001B[90m│   \u001B[39m        Core.NewvarNode(:(out_chan))\n",
      "\u001B[90m│   \u001B[39m        Core.NewvarNode(:(in_chan))\n",
      "\u001B[90m│   \u001B[39m %9   = Base.getproperty(LinearAlgebraicRepresentation.Arrangement.Lar, :compute_FV)\u001B[91m\u001B[1m::Any\u001B[22m\u001B[39m\n",
      "\u001B[90m│   \u001B[39m        (FV = (%9)(copEV, copFE))\n",
      "\u001B[90m│   \u001B[39m %11  = Base.getproperty(LinearAlgebraicRepresentation.Arrangement.Lar, :Points)\u001B[91m\u001B[1m::Any\u001B[22m\u001B[39m\n",
      "\u001B[90m│   \u001B[39m %12  = LinearAlgebraicRepresentation.Arrangement.:var\"'\"(V)\u001B[36m::Adjoint{Float64, Matrix{Float64}}\u001B[39m\n",
      "\u001B[90m│   \u001B[39m %13  = LinearAlgebraicRepresentation.Arrangement.convert(%11, %12)\u001B[91m\u001B[1m::Any\u001B[22m\u001B[39m\n",
      "\u001B[90m│   \u001B[39m        (model = Core.tuple(%13, FV))\n",
      "\u001B[90m│   \u001B[39m %15  = Base.getproperty(LinearAlgebraicRepresentation.Arrangement.Lar, :spaceindex)\u001B[91m\u001B[1m::Any\u001B[22m\u001B[39m\n",
      "\u001B[90m│   \u001B[39m        (sp_idx = (%15)(model))\n",
      "\u001B[90m│   \u001B[39m        (fs_num = LinearAlgebraicRepresentation.Arrangement.size(copFE, 1))\n",
      "\u001B[90m│   \u001B[39m %18  = Core.apply_type(LinearAlgebraicRepresentation.Arrangement.Array, LinearAlgebraicRepresentation.Arrangement.Float64, 2)\u001B[36m::Core.Const(Matrix{Float64})\u001B[39m\n",
      "\u001B[90m│   \u001B[39m        (rV = (%18)(LinearAlgebraicRepresentation.Arrangement.undef, 0, 3))\n",
      "\u001B[90m│   \u001B[39m %20  = Base.getproperty(LinearAlgebraicRepresentation.Arrangement.SparseArrays, :spzeros)\u001B[36m::Core.Const(SparseArrays.spzeros)\u001B[39m\n",
      "\u001B[90m│   \u001B[39m        (rEV = (%20)(LinearAlgebraicRepresentation.Arrangement.Int8, 0, 0))\n",
      "\u001B[90m│   \u001B[39m %22  = Base.getproperty(LinearAlgebraicRepresentation.Arrangement.SparseArrays, :spzeros)\u001B[36m::Core.Const(SparseArrays.spzeros)\u001B[39m\n",
      "\u001B[90m│   \u001B[39m        (rFE = (%22)(LinearAlgebraicRepresentation.Arrangement.Int8, 0, 0))\n",
      "\u001B[90m│   \u001B[39m %24  = (multiproc == true)\u001B[36m::Bool\u001B[39m\n",
      "\u001B[90m└───\u001B[39m        goto #13 if not %24\n",
      "\u001B[90m2 ──\u001B[39m %26  = Base.getproperty(LinearAlgebraicRepresentation.Arrangement.Distributed, :RemoteChannel)\u001B[36m::Core.Const(RemoteChannel)\u001B[39m\n",
      "\u001B[90m│   \u001B[39m        (#80 = %new(LinearAlgebraicRepresentation.Arrangement.:(var\"#80#84\")))\n",
      "\u001B[90m│   \u001B[39m %28  = #80\u001B[36m::Core.Const(LinearAlgebraicRepresentation.Arrangement.var\"#80#84\"())\u001B[39m\n",
      "\u001B[90m│   \u001B[39m        (in_chan = (%26)(%28))\n",
      "\u001B[90m│   \u001B[39m %30  = Base.getproperty(LinearAlgebraicRepresentation.Arrangement.Distributed, :RemoteChannel)\u001B[36m::Core.Const(RemoteChannel)\u001B[39m\n",
      "\u001B[90m│   \u001B[39m        (#81 = %new(LinearAlgebraicRepresentation.Arrangement.:(var\"#81#85\")))\n",
      "\u001B[90m│   \u001B[39m %32  = #81\u001B[36m::Core.Const(LinearAlgebraicRepresentation.Arrangement.var\"#81#85\"())\u001B[39m\n",
      "\u001B[90m│   \u001B[39m        (out_chan = (%30)(%32))\n",
      "\u001B[90m│   \u001B[39m %34  = LinearAlgebraicRepresentation.Arrangement.:(var\"#82#86\")\u001B[36m::Core.Const(LinearAlgebraicRepresentation.Arrangement.var\"#82#86\")\u001B[39m\n",
      "\u001B[90m│   \u001B[39m %35  = Core.typeof(in_chan)\u001B[91m\u001B[1m::DataType\u001B[22m\u001B[39m\n",
      "\u001B[90m│   \u001B[39m %36  = Core.typeof(fs_num)\u001B[36m::Core.Const(Int64)\u001B[39m\n",
      "\u001B[90m│   \u001B[39m %37  = Core.apply_type(%34, %35, %36)\u001B[91m\u001B[1m::Type{LinearAlgebraicRepresentation.Arrangement.var\"#82#86\"{_A, Int64}} where _A\u001B[22m\u001B[39m\n",
      "\u001B[90m│   \u001B[39m %38  = in_chan\u001B[91m\u001B[1m::Any\u001B[22m\u001B[39m\n",
      "\u001B[90m│   \u001B[39m        (#82 = %new(%37, %38, fs_num))\n",
      "\u001B[90m│   \u001B[39m %40  = #82\u001B[91m\u001B[1m::LinearAlgebraicRepresentation.Arrangement.var\"#82#86\"{_A, Int64} where _A\u001B[22m\u001B[39m\n",
      "\u001B[90m│   \u001B[39m        (task@_22 = Base.Task(%40))\n",
      "\u001B[90m└───\u001B[39m        goto #4 if not false\n",
      "\u001B[90m3 ──\u001B[39m        Core.Const(:(Base.put!(LinearAlgebraicRepresentation.Arrangement.:(var\"##sync#52\"), task@_22)))\n",
      "\u001B[90m4 ┄─\u001B[39m        Base.schedule(task@_22)\n",
      "\u001B[90m│   \u001B[39m        task@_22\n",
      "\u001B[90m│   \u001B[39m %46  = Base.getproperty(LinearAlgebraicRepresentation.Arrangement.Distributed, :workers)\u001B[36m::Core.Const(Distributed.workers)\u001B[39m\n",
      "\u001B[90m│   \u001B[39m %47  = (%46)()\u001B[36m::Vector{Int64}\u001B[39m\n",
      "\u001B[90m│   \u001B[39m        (@_9 = Base.iterate(%47))\n",
      "\u001B[90m│   \u001B[39m %49  = (@_9 === nothing)\u001B[36m::Bool\u001B[39m\n",
      "\u001B[90m│   \u001B[39m %50  = Base.not_int(%49)\u001B[36m::Bool\u001B[39m\n",
      "\u001B[90m└───\u001B[39m        goto #9 if not %50\n",
      "\u001B[90m5 ┄─\u001B[39m %52  = @_9\u001B[36m::Tuple{Int64, Int64}\u001B[39m\n",
      "\u001B[90m│   \u001B[39m        (p = Core.getfield(%52, 1))\n",
      "\u001B[90m│   \u001B[39m %54  = Core.getfield(%52, 2)\u001B[36m::Int64\u001B[39m\n",
      "\u001B[90m│   \u001B[39m %55  = LinearAlgebraicRepresentation.Arrangement.:(var\"#83#87\")\u001B[36m::Core.Const(LinearAlgebraicRepresentation.Arrangement.var\"#83#87\")\u001B[39m\n",
      "\u001B[90m│   \u001B[39m %56  = Core.typeof(V)\u001B[36m::Core.Const(Matrix{Float64})\u001B[39m\n",
      "\u001B[90m│   \u001B[39m %57  = Core.typeof(out_chan)\u001B[91m\u001B[1m::DataType\u001B[22m\u001B[39m\n",
      "\u001B[90m│   \u001B[39m %58  = Core.typeof(in_chan)\u001B[91m\u001B[1m::DataType\u001B[22m\u001B[39m\n",
      "\u001B[90m│   \u001B[39m %59  = Core.typeof(sp_idx)\u001B[91m\u001B[1m::DataType\u001B[22m\u001B[39m\n",
      "\u001B[90m│   \u001B[39m %60  = Core.typeof(p)\u001B[36m::Core.Const(Int64)\u001B[39m\n",
      "\u001B[90m│   \u001B[39m %61  = Core.apply_type(%55, %56, %57, %58, %59, %60)\u001B[91m\u001B[1m::Type{LinearAlgebraicRepresentation.Arrangement.var\"#83#87\"{Matrix{Float64}, _A, _B, _C, Int64}} where {_A, _B, _C}\u001B[22m\u001B[39m\n",
      "\u001B[90m│   \u001B[39m %62  = out_chan\u001B[91m\u001B[1m::Any\u001B[22m\u001B[39m\n",
      "\u001B[90m│   \u001B[39m %63  = in_chan\u001B[91m\u001B[1m::Any\u001B[22m\u001B[39m\n",
      "\u001B[90m│   \u001B[39m %64  = sp_idx\u001B[91m\u001B[1m::Any\u001B[22m\u001B[39m\n",
      "\u001B[90m│   \u001B[39m        (#83 = %new(%61, V, %62, %63, %64, p))\n",
      "\u001B[90m│   \u001B[39m %66  = #83\u001B[91m\u001B[1m::LinearAlgebraicRepresentation.Arrangement.var\"#83#87\"{Matrix{Float64}, _A, _B, _C, Int64} where {_A, _B, _C}\u001B[22m\u001B[39m\n",
      "\u001B[90m│   \u001B[39m        (task@_25 = Base.Task(%66))\n",
      "\u001B[90m└───\u001B[39m        goto #7 if not false\n",
      "\u001B[90m6 ──\u001B[39m        Core.Const(:(Base.put!(LinearAlgebraicRepresentation.Arrangement.:(var\"##sync#52\"), task@_25)))\n",
      "\u001B[90m7 ┄─\u001B[39m        Base.schedule(task@_25)\n",
      "\u001B[90m│   \u001B[39m        task@_25\n",
      "\u001B[90m│   \u001B[39m        (@_9 = Base.iterate(%47, %54))\n",
      "\u001B[90m│   \u001B[39m %73  = (@_9 === nothing)\u001B[36m::Bool\u001B[39m\n",
      "\u001B[90m│   \u001B[39m %74  = Base.not_int(%73)\u001B[36m::Bool\u001B[39m\n",
      "\u001B[90m└───\u001B[39m        goto #9 if not %74\n",
      "\u001B[90m8 ──\u001B[39m        goto #5\n",
      "\u001B[90m9 ┄─\u001B[39m %77  = (1:fs_num)\u001B[36m::Core.PartialStruct(UnitRange{Int64}, Any[Core.Const(1), Int64])\u001B[39m\n",
      "\u001B[90m│   \u001B[39m        (@_8 = Base.iterate(%77))\n",
      "\u001B[90m│   \u001B[39m %79  = (@_8 === nothing)\u001B[36m::Bool\u001B[39m\n",
      "\u001B[90m│   \u001B[39m %80  = Base.not_int(%79)\u001B[36m::Bool\u001B[39m\n",
      "\u001B[90m└───\u001B[39m        goto #12 if not %80\n",
      "\u001B[90m10 ┄\u001B[39m %82  = @_8\u001B[36m::Tuple{Int64, Int64}\u001B[39m\n",
      "\u001B[90m│   \u001B[39m        (sigma@_27 = Core.getfield(%82, 1))\n",
      "\u001B[90m│   \u001B[39m %84  = Core.getfield(%82, 2)\u001B[36m::Int64\u001B[39m\n",
      "\u001B[90m│   \u001B[39m %85  = Base.getproperty(LinearAlgebraicRepresentation.Arrangement.Lar, :skel_merge)\u001B[91m\u001B[1m::Any\u001B[22m\u001B[39m\n",
      "\u001B[90m│   \u001B[39m %86  = Core.tuple(rV, rEV, rFE)\u001B[91m\u001B[1m::Tuple{Any, Any, Any}\u001B[22m\u001B[39m\n",
      "\u001B[90m│   \u001B[39m %87  = LinearAlgebraicRepresentation.Arrangement.take!(out_chan)\u001B[91m\u001B[1m::Any\u001B[22m\u001B[39m\n",
      "\u001B[90m│   \u001B[39m %88  = Core._apply_iterate(Base.iterate, %85, %86, %87)\u001B[91m\u001B[1m::Any\u001B[22m\u001B[39m\n",
      "\u001B[90m│   \u001B[39m %89  = Base.indexed_iterate(%88, 1)\u001B[91m\u001B[1m::Any\u001B[22m\u001B[39m\n",
      "\u001B[90m│   \u001B[39m        (rV = Core.getfield(%89, 1))\n",
      "\u001B[90m│   \u001B[39m        (@_26 = Core.getfield(%89, 2))\n",
      "\u001B[90m│   \u001B[39m %92  = Base.indexed_iterate(%88, 2, @_26)\u001B[91m\u001B[1m::Any\u001B[22m\u001B[39m\n",
      "\u001B[90m│   \u001B[39m        (rEV = Core.getfield(%92, 1))\n",
      "\u001B[90m│   \u001B[39m        (@_26 = Core.getfield(%92, 2))\n",
      "\u001B[90m│   \u001B[39m %95  = Base.indexed_iterate(%88, 3, @_26)\u001B[91m\u001B[1m::Any\u001B[22m\u001B[39m\n",
      "\u001B[90m│   \u001B[39m        (rFE = Core.getfield(%95, 1))\n",
      "\u001B[90m│   \u001B[39m        (@_8 = Base.iterate(%77, %84))\n",
      "\u001B[90m│   \u001B[39m %98  = (@_8 === nothing)\u001B[36m::Bool\u001B[39m\n",
      "\u001B[90m│   \u001B[39m %99  = Base.not_int(%98)\u001B[36m::Bool\u001B[39m\n",
      "\u001B[90m└───\u001B[39m        goto #12 if not %99\n",
      "\u001B[90m11 ─\u001B[39m        goto #10\n",
      "\u001B[90m12 ┄\u001B[39m        goto #16\n",
      "\u001B[90m13 ─\u001B[39m %103 = (1:fs_num)\u001B[36m::Core.PartialStruct(UnitRange{Int64}, Any[Core.Const(1), Int64])\u001B[39m\n",
      "\u001B[90m│   \u001B[39m        (@_7 = Base.iterate(%103))\n",
      "\u001B[90m│   \u001B[39m %105 = (@_7 === nothing)\u001B[36m::Bool\u001B[39m\n"
     ]
    },
    {
     "name": "stdout",
     "output_type": "stream",
     "text": [
      "\u001B[90m│   \u001B[39m %106 = Base.not_int(%105)\u001B[36m::Bool\u001B[39m\n",
      "\u001B[90m└───\u001B[39m        goto #16 if not %106\n",
      "\u001B[90m14 ┄\u001B[39m %108 = @_7\u001B[36m::Tuple{Int64, Int64}\u001B[39m\n",
      "\u001B[90m│   \u001B[39m        (sigma@_36 = Core.getfield(%108, 1))\n",
      "\u001B[90m│   \u001B[39m %110 = Core.getfield(%108, 2)\u001B[36m::Int64\u001B[39m\n",
      "\u001B[90m│   \u001B[39m %111 = Base.getproperty(LinearAlgebraicRepresentation.Arrangement.Lar, :Arrangement)\u001B[91m\u001B[1m::Any\u001B[22m\u001B[39m\n",
      "\u001B[90m│   \u001B[39m %112 = Base.getproperty(%111, :frag_face)\u001B[91m\u001B[1m::Any\u001B[22m\u001B[39m\n",
      "\u001B[90m│   \u001B[39m %113 = sp_idx\u001B[91m\u001B[1m::Any\u001B[22m\u001B[39m\n",
      "\u001B[90m│   \u001B[39m %114 = (%112)(V, copEV, copFE, %113, sigma@_36)\u001B[91m\u001B[1m::Any\u001B[22m\u001B[39m\n",
      "\u001B[90m│   \u001B[39m %115 = Base.indexed_iterate(%114, 1)\u001B[91m\u001B[1m::Any\u001B[22m\u001B[39m\n",
      "\u001B[90m│   \u001B[39m        (nV = Core.getfield(%115, 1))\n",
      "\u001B[90m│   \u001B[39m        (@_29 = Core.getfield(%115, 2))\n",
      "\u001B[90m│   \u001B[39m %118 = Base.indexed_iterate(%114, 2, @_29)\u001B[91m\u001B[1m::Any\u001B[22m\u001B[39m\n",
      "\u001B[90m│   \u001B[39m        (nEV = Core.getfield(%118, 1))\n",
      "\u001B[90m│   \u001B[39m        (@_29 = Core.getfield(%118, 2))\n",
      "\u001B[90m│   \u001B[39m %121 = Base.indexed_iterate(%114, 3, @_29)\u001B[91m\u001B[1m::Any\u001B[22m\u001B[39m\n",
      "\u001B[90m│   \u001B[39m        (nFE = Core.getfield(%121, 1))\n",
      "\u001B[90m│   \u001B[39m %123 = Base.getproperty(LinearAlgebraicRepresentation.Arrangement.Lar, :Points)\u001B[91m\u001B[1m::Any\u001B[22m\u001B[39m\n",
      "\u001B[90m│   \u001B[39m        (nV = LinearAlgebraicRepresentation.Arrangement.convert(%123, nV))\n",
      "\u001B[90m│   \u001B[39m %125 = Base.getproperty(LinearAlgebraicRepresentation.Arrangement.Lar, :skel_merge)\u001B[91m\u001B[1m::Any\u001B[22m\u001B[39m\n",
      "\u001B[90m│   \u001B[39m %126 = rV\u001B[91m\u001B[1m::Any\u001B[22m\u001B[39m\n",
      "\u001B[90m│   \u001B[39m %127 = rEV\u001B[91m\u001B[1m::Any\u001B[22m\u001B[39m\n",
      "\u001B[90m│   \u001B[39m %128 = rFE\u001B[91m\u001B[1m::Any\u001B[22m\u001B[39m\n",
      "\u001B[90m│   \u001B[39m %129 = nV\u001B[91m\u001B[1m::Any\u001B[22m\u001B[39m\n",
      "\u001B[90m│   \u001B[39m %130 = nEV\u001B[91m\u001B[1m::Any\u001B[22m\u001B[39m\n",
      "\u001B[90m│   \u001B[39m %131 = (%125)(%126, %127, %128, %129, %130, nFE)\u001B[91m\u001B[1m::Any\u001B[22m\u001B[39m\n",
      "\u001B[90m│   \u001B[39m %132 = Base.indexed_iterate(%131, 1)\u001B[91m\u001B[1m::Any\u001B[22m\u001B[39m\n",
      "\u001B[90m│   \u001B[39m        (a = Core.getfield(%132, 1))\n",
      "\u001B[90m│   \u001B[39m        (@_28 = Core.getfield(%132, 2))\n",
      "\u001B[90m│   \u001B[39m %135 = Base.indexed_iterate(%131, 2, @_28)\u001B[91m\u001B[1m::Any\u001B[22m\u001B[39m\n",
      "\u001B[90m│   \u001B[39m        (b = Core.getfield(%135, 1))\n",
      "\u001B[90m│   \u001B[39m        (@_28 = Core.getfield(%135, 2))\n",
      "\u001B[90m│   \u001B[39m %138 = Base.indexed_iterate(%131, 3, @_28)\u001B[91m\u001B[1m::Any\u001B[22m\u001B[39m\n",
      "\u001B[90m│   \u001B[39m        (c = Core.getfield(%138, 1))\n",
      "\u001B[90m│   \u001B[39m        (rV = a)\n",
      "\u001B[90m│   \u001B[39m        (rEV = b)\n",
      "\u001B[90m│   \u001B[39m        (rFE = c)\n",
      "\u001B[90m│   \u001B[39m        (@_7 = Base.iterate(%103, %110))\n",
      "\u001B[90m│   \u001B[39m %144 = (@_7 === nothing)\u001B[36m::Bool\u001B[39m\n",
      "\u001B[90m│   \u001B[39m %145 = Base.not_int(%144)\u001B[36m::Bool\u001B[39m\n",
      "\u001B[90m└───\u001B[39m        goto #16 if not %145\n",
      "\u001B[90m15 ─\u001B[39m        goto #14\n",
      "\u001B[90m16 ┄\u001B[39m %148 = LinearAlgebraicRepresentation.Arrangement.merge_vertices(rV, rEV, rFE)\u001B[91m\u001B[1m::Tuple{Any, SparseMatrixCSC{Int8, Int64}, SparseMatrixCSC{Int8, Int64}}\u001B[22m\u001B[39m\n",
      "\u001B[90m│   \u001B[39m %149 = Base.indexed_iterate(%148, 1)\u001B[36m::Core.PartialStruct(Tuple{Any, Int64}, Any[Any, Core.Const(2)])\u001B[39m\n",
      "\u001B[90m│   \u001B[39m        (rV = Core.getfield(%149, 1))\n",
      "\u001B[90m│   \u001B[39m        (@_6 = Core.getfield(%149, 2))\n",
      "\u001B[90m│   \u001B[39m %152 = Base.indexed_iterate(%148, 2, @_6::Core.Const(2))\u001B[36m::Core.PartialStruct(Tuple{SparseMatrixCSC{Int8, Int64}, Int64}, Any[SparseMatrixCSC{Int8, Int64}, Core.Const(3)])\u001B[39m\n",
      "\u001B[90m│   \u001B[39m        (rEV = Core.getfield(%152, 1))\n",
      "\u001B[90m│   \u001B[39m        (@_6 = Core.getfield(%152, 2))\n",
      "\u001B[90m│   \u001B[39m %155 = Base.indexed_iterate(%148, 3, @_6::Core.Const(3))\u001B[36m::Core.PartialStruct(Tuple{SparseMatrixCSC{Int8, Int64}, Int64}, Any[SparseMatrixCSC{Int8, Int64}, Core.Const(4)])\u001B[39m\n",
      "\u001B[90m│   \u001B[39m        (rFE = Core.getfield(%155, 1))\n",
      "\u001B[90m│   \u001B[39m %157 = Core.tuple(rV, rEV::SparseMatrixCSC{Int8, Int64}, rFE::SparseMatrixCSC{Int8, Int64})\u001B[91m\u001B[1m::Tuple{Any, SparseMatrixCSC{Int8, Int64}, SparseMatrixCSC{Int8, Int64}}\u001B[22m\u001B[39m\n",
      "\u001B[90m└───\u001B[39m        return %157\n",
      "\n"
     ]
    }
   ],
   "source": [
    "V, EV, FE = get_input()\n",
    "@code_warntype Lar.Arrangement.spatial_arrangement_1(Lar.Points(V),Lar.ChainOp(EV),Lar.ChainOp(FE),true)"
   ]
  },
  {
   "cell_type": "markdown",
   "id": "bc0d55e6",
   "metadata": {
    "pycharm": {
     "name": "#%% md\n"
    }
   },
   "source": [
    "# Ottimizazzione `frag_face`"
   ]
  },
  {
   "cell_type": "markdown",
   "id": "1cb91b8f",
   "metadata": {
    "pycharm": {
     "name": "#%% md\n"
    }
   },
   "source": [
    "La funzione `spatial_arrangment_1` utilizza al suo interno, in un ciclo `for`, la funzione `frag_face` quindi una sua eventuale ottimizzazione è auspicabile. Tale funzione effettua la trasformazione in 2D delle facce fornite in input tramite il parametro sigma ed infine ogni faccia di questo parametro sigma si interseca con le facce `insp_index`. "
   ]
  },
  {
   "cell_type": "markdown",
   "id": "323d085a",
   "metadata": {
    "pycharm": {
     "name": "#%% md\n"
    }
   },
   "source": [
    "Con la funzione `@btime` si valutano le prestazioni dal punto di vista temporale della funzione."
   ]
  },
  {
   "cell_type": "code",
   "execution_count": 66,
   "id": "b11d856f",
   "metadata": {
    "pycharm": {
     "name": "#%%\n"
    }
   },
   "outputs": [
    {
     "name": "stdout",
     "output_type": "stream",
     "text": [
      "  225.375 μs (4803 allocations: 265.63 KiB)\n"
     ]
    },
    {
     "data": {
      "text/plain": [
       "([1.3260341 0.2707609000000001 0.24287710000000004; 1.3862088 0.21082410000000004 0.9148494000000003; 1.2660973 0.9422582000000003 0.30813880000000005; 1.3262719920385087 0.8823213992267827 0.9801110006439793], sparse([1, 3, 1, 4, 2, 3, 2, 4], [1, 1, 2, 2, 3, 3, 4, 4], Int8[-1, -1, 1, -1, -1, 1, 1, 1], 4, 4), sparse([1, 1, 1, 1], [1, 2, 3, 4], Int8[1, -1, -1, 1], 1, 4))"
      ]
     },
     "metadata": {},
     "output_type": "display_data"
    }
   ],
   "source": [
    "V, EV, FE = get_input()\n",
    "@btime Lar.Arrangement.frag_face(Lar.Points(V),EV,FE,[2,3,4,5],2)"
   ]
  },
  {
   "cell_type": "markdown",
   "id": "a7b14648",
   "metadata": {
    "pycharm": {
     "name": "#%% md\n"
    }
   },
   "source": [
    "Utilizzando la macro `@code_warntype` possiamo valutare la tipicizzazione della funzione."
   ]
  },
  {
   "cell_type": "code",
   "execution_count": 67,
   "id": "1e734720",
   "metadata": {
    "pycharm": {
     "name": "#%%\n"
    }
   },
   "outputs": [
    {
     "name": "stderr",
     "output_type": "stream",
     "text": [
      "Excessive output truncated after 524288 bytes."
     ]
    },
    {
     "name": "stdout",
     "output_type": "stream",
     "text": [
      "MethodInstance for LinearAlgebraicRepresentation.Arrangement.frag_face(::Matrix{Float64}, ::SparseMatrixCSC{Int8, Int64}, ::SparseMatrixCSC{Int8, Int64}, ::Vector{Int64}, ::Int64)\n",
      "  from frag_face(V, EV, FE, sp_idx, sigma) in LinearAlgebraicRepresentation.Arrangement at /Users/raffaelescarano/.julia/packages/LinearAlgebraicRepresentation/qwzGL/src/arrangement/spatial_arrangement.jl:27\n",
      "Arguments\n",
      "  #self#\u001B[36m::Core.Const(LinearAlgebraicRepresentation.Arrangement.frag_face)\u001B[39m\n",
      "  V\u001B[36m::Matrix{Float64}\u001B[39m\n",
      "  EV\u001B[36m::SparseMatrixCSC{Int8, Int64}\u001B[39m\n",
      "  FE\u001B[36m::SparseMatrixCSC{Int8, Int64}\u001B[39m\n",
      "  sp_idx\u001B[36m::Vector{Int64}\u001B[39m\n",
      "  sigma\u001B[36m::Int64\u001B[39m\n",
      "Locals\n",
      "  @_7\u001B[36m::Int64\u001B[39m\n",
      "  @_8\u001B[33m\u001B[1m::Union{Nothing, Tuple{Int64, Nothing}}\u001B[22m\u001B[39m\n",
      "  nvsize\u001B[91m\u001B[1m::Any\u001B[22m\u001B[39m\n",
      "  nFE\u001B[91m\u001B[1m::Any\u001B[22m\u001B[39m\n",
      "  nEV\u001B[91m\u001B[1m::Any\u001B[22m\u001B[39m\n",
      "  nV\u001B[91m\u001B[1m::Any\u001B[22m\u001B[39m\n",
      "  tV\u001B[91m\u001B[1m::Any\u001B[22m\u001B[39m\n",
      "  M\u001B[91m\u001B[1m::Any\u001B[22m\u001B[39m\n",
      "  sEV\u001B[91m\u001B[1m::Any\u001B[22m\u001B[39m\n",
      "  sV\u001B[91m\u001B[1m::Any\u001B[22m\u001B[39m\n",
      "  sigmavs\u001B[36m::Vector{Int64}\u001B[39m\n",
      "  vs_num\u001B[36m::Int64\u001B[39m\n",
      "  @_19\u001B[91m\u001B[1m::Any\u001B[22m\u001B[39m\n",
      "  @_20\u001B[91m\u001B[1m::Any\u001B[22m\u001B[39m\n",
      "  i\u001B[36m::Int64\u001B[39m\n",
      "  tmpEV\u001B[91m\u001B[1m::Any\u001B[22m\u001B[39m\n",
      "  tmpV\u001B[91m\u001B[1m::Any\u001B[22m\u001B[39m\n",
      "Body\u001B[91m\u001B[1m::Tuple{Any, Any, Any}\u001B[22m\u001B[39m\n",
      "\u001B[90m1 ─\u001B[39m       Core.NewvarNode(:(@_7))\n",
      "\u001B[90m│  \u001B[39m       Core.NewvarNode(:(nvsize))\n",
      "\u001B[90m│  \u001B[39m       Core.NewvarNode(:(nFE))\n",
      "\u001B[90m│  \u001B[39m       Core.NewvarNode(:(nEV))\n",
      "\u001B[90m│  \u001B[39m       Core.NewvarNode(:(nV))\n",
      "\u001B[90m│  \u001B[39m       (vs_num = LinearAlgebraicRepresentation.Arrangement.size(V, 1))\n",
      "\u001B[90m│  \u001B[39m %7  = (sigma:sigma)\u001B[36m::UnitRange{Int64}\u001B[39m\n",
      "\u001B[90m│  \u001B[39m %8  = Base.getindex(FE, %7, LinearAlgebraicRepresentation.Arrangement.:(:))\u001B[36m::SparseMatrixCSC{Int8, Int64}\u001B[39m\n",
      "\u001B[90m│  \u001B[39m %9  = Base.broadcasted(LinearAlgebraicRepresentation.Arrangement.abs, %8)\u001B[36m::Base.Broadcast.Broadcasted{SparseArrays.HigherOrderFns.SparseMatStyle, Nothing, typeof(abs), Tuple{SparseMatrixCSC{Int8, Int64}}}\u001B[39m\n",
      "\u001B[90m│  \u001B[39m %10 = Base.materialize(%9)\u001B[36m::SparseMatrixCSC{Int8, Int64}\u001B[39m\n",
      "\u001B[90m│  \u001B[39m %11 = Base.broadcasted(LinearAlgebraicRepresentation.Arrangement.abs, EV)\u001B[36m::Base.Broadcast.Broadcasted{SparseArrays.HigherOrderFns.SparseMatStyle, Nothing, typeof(abs), Tuple{SparseMatrixCSC{Int8, Int64}}}\u001B[39m\n",
      "\u001B[90m│  \u001B[39m %12 = Base.materialize(%11)\u001B[36m::SparseMatrixCSC{Int8, Int64}\u001B[39m\n",
      "\u001B[90m│  \u001B[39m %13 = (%10 * %12)\u001B[36m::SparseMatrixCSC{Int8, Int64}\u001B[39m\n",
      "\u001B[90m│  \u001B[39m %14 = Base.getindex(%13, 1, LinearAlgebraicRepresentation.Arrangement.:(:))\u001B[36m::SparseVector{Int8, Int64}\u001B[39m\n",
      "\u001B[90m│  \u001B[39m       (sigmavs = Base.getproperty(%14, :nzind))\n",
      "\u001B[90m│  \u001B[39m       (sV = Base.getindex(V, sigmavs, LinearAlgebraicRepresentation.Arrangement.:(:)))\n",
      "\u001B[90m│  \u001B[39m %17 = Base.getindex(FE, sigma, LinearAlgebraicRepresentation.Arrangement.:(:))\u001B[36m::SparseVector{Int8, Int64}\u001B[39m\n",
      "\u001B[90m│  \u001B[39m %18 = Base.getproperty(%17, :nzind)\u001B[36m::Vector{Int64}\u001B[39m\n",
      "\u001B[90m│  \u001B[39m       (sEV = Base.getindex(EV, %18, sigmavs))\n",
      "\u001B[90m│  \u001B[39m %20 = Base.getproperty(LinearAlgebraicRepresentation.Arrangement.Lar, :Arrangement)\u001B[91m\u001B[1m::Any\u001B[22m\u001B[39m\n",
      "\u001B[90m│  \u001B[39m %21 = Base.getproperty(%20, :submanifold_mapping)\u001B[91m\u001B[1m::Any\u001B[22m\u001B[39m\n",
      "\u001B[90m│  \u001B[39m       (M = (%21)(sV::Matrix{Float64}))\n",
      "\u001B[90m│  \u001B[39m %23 = LinearAlgebraicRepresentation.Arrangement.ones(vs_num)\u001B[36m::Vector{Float64}\u001B[39m\n",
      "\u001B[90m│  \u001B[39m %24 = Base.hcat(V, %23)\u001B[36m::Matrix{Float64}\u001B[39m\n",
      "\u001B[90m│  \u001B[39m %25 = (%24 * M)\u001B[91m\u001B[1m::Any\u001B[22m\u001B[39m\n",
      "\u001B[90m│  \u001B[39m %26 = (1:3)\u001B[36m::Core.Const(1:3)\u001B[39m\n",
      "\u001B[90m│  \u001B[39m       (tV = Base.getindex(%25, LinearAlgebraicRepresentation.Arrangement.:(:), %26))\n",
      "\u001B[90m│  \u001B[39m       (sV = Base.getindex(tV, sigmavs, LinearAlgebraicRepresentation.Arrangement.:(:)))\n",
      "\u001B[90m│  \u001B[39m %29 = Base.getindex(sp_idx, sigma)\u001B[36m::Int64\u001B[39m\n",
      "\u001B[90m│  \u001B[39m       (@_8 = Base.iterate(%29))\n",
      "\u001B[90m│  \u001B[39m %31 = (@_8::Tuple{Int64, Nothing} === nothing)\u001B[36m::Core.Const(false)\u001B[39m\n",
      "\u001B[90m│  \u001B[39m %32 = Base.not_int(%31)\u001B[36m::Core.Const(true)\u001B[39m\n",
      "\u001B[90m└──\u001B[39m       goto #4 if not %32\n",
      "\u001B[90m2 ─\u001B[39m %34 = @_8\u001B[36m::Tuple{Int64, Nothing}\u001B[39m\n",
      "\u001B[90m│  \u001B[39m       (i = Core.getfield(%34, 1))\n",
      "\u001B[90m│  \u001B[39m %36 = Core.getfield(%34, 2)\u001B[36m::Core.Const(nothing)\u001B[39m\n",
      "\u001B[90m│  \u001B[39m %37 = Base.getproperty(LinearAlgebraicRepresentation.Arrangement.Lar, :Arrangement)\u001B[91m\u001B[1m::Any\u001B[22m\u001B[39m\n",
      "\u001B[90m│  \u001B[39m %38 = Base.getproperty(%37, :face_int)\u001B[91m\u001B[1m::Any\u001B[22m\u001B[39m\n",
      "\u001B[90m│  \u001B[39m %39 = tV\u001B[91m\u001B[1m::Any\u001B[22m\u001B[39m\n",
      "\u001B[90m│  \u001B[39m %40 = Base.getindex(FE, i, LinearAlgebraicRepresentation.Arrangement.:(:))\u001B[36m::SparseVector{Int8, Int64}\u001B[39m\n",
      "\u001B[90m│  \u001B[39m %41 = (%38)(%39, EV, %40)\u001B[91m\u001B[1m::Any\u001B[22m\u001B[39m\n",
      "\u001B[90m│  \u001B[39m %42 = Base.indexed_iterate(%41, 1)\u001B[91m\u001B[1m::Any\u001B[22m\u001B[39m\n",
      "\u001B[90m│  \u001B[39m       (tmpV = Core.getfield(%42, 1))\n",
      "\u001B[90m│  \u001B[39m       (@_20 = Core.getfield(%42, 2))\n",
      "\u001B[90m│  \u001B[39m %45 = Base.indexed_iterate(%41, 2, @_20)\u001B[91m\u001B[1m::Any\u001B[22m\u001B[39m\n",
      "\u001B[90m│  \u001B[39m       (tmpEV = Core.getfield(%45, 1))\n",
      "\u001B[90m│  \u001B[39m %47 = Base.getproperty(LinearAlgebraicRepresentation.Arrangement.Lar, :skel_merge)\u001B[91m\u001B[1m::Any\u001B[22m\u001B[39m\n",
      "\u001B[90m│  \u001B[39m %48 = sV\u001B[91m\u001B[1m::Any\u001B[22m\u001B[39m\n",
      "\u001B[90m│  \u001B[39m %49 = sEV\u001B[36m::SparseMatrixCSC{Int8, Int64}\u001B[39m\n",
      "\u001B[90m│  \u001B[39m %50 = tmpV\u001B[91m\u001B[1m::Any\u001B[22m\u001B[39m\n",
      "\u001B[90m│  \u001B[39m %51 = (%47)(%48, %49, %50, tmpEV)\u001B[91m\u001B[1m::Any\u001B[22m\u001B[39m\n",
      "\u001B[90m│  \u001B[39m %52 = Base.indexed_iterate(%51, 1)\u001B[91m\u001B[1m::Any\u001B[22m\u001B[39m\n",
      "\u001B[90m│  \u001B[39m       (sV = Core.getfield(%52, 1))\n",
      "\u001B[90m│  \u001B[39m       (@_19 = Core.getfield(%52, 2))\n",
      "\u001B[90m│  \u001B[39m %55 = Base.indexed_iterate(%51, 2, @_19)\u001B[91m\u001B[1m::Any\u001B[22m\u001B[39m\n",
      "\u001B[90m│  \u001B[39m       (sEV = Core.getfield(%55, 1))\n",
      "\u001B[90m│  \u001B[39m       (@_8 = Base.iterate(%29, %36))\n",
      "\u001B[90m│  \u001B[39m %58 = (@_8::Core.Const(nothing) === nothing)\u001B[36m::Core.Const(true)\u001B[39m\n",
      "\u001B[90m│  \u001B[39m %59 = Base.not_int(%58)\u001B[36m::Core.Const(false)\u001B[39m\n",
      "\u001B[90m└──\u001B[39m       goto #4 if not %59\n",
      "\u001B[90m3 ─\u001B[39m       Core.Const(:(goto %34))\n",
      "\u001B[90m4 ┄\u001B[39m %62 = sV\u001B[91m\u001B[1m::Any\u001B[22m\u001B[39m\n",
      "\u001B[90m│  \u001B[39m %63 = (1:2)\u001B[36m::Core.Const(1:2)\u001B[39m\n",
      "\u001B[90m│  \u001B[39m       (sV = Base.getindex(%62, LinearAlgebraicRepresentation.Arrangement.:(:), %63))\n",
      "\u001B[90m│  \u001B[39m %65 = sV\u001B[91m\u001B[1m::Any\u001B[22m\u001B[39m\n",
      "\u001B[90m│  \u001B[39m %66 = sEV\u001B[91m\u001B[1m::Any\u001B[22m\u001B[39m\n",
      "\u001B[90m│  \u001B[39m %67 = LinearAlgebraicRepresentation.Arrangement.length(sigmavs)\u001B[36m::Int64\u001B[39m\n",
      "\u001B[90m│  \u001B[39m %68 = LinearAlgebraicRepresentation.Arrangement.ones(LinearAlgebraicRepresentation.Arrangement.Int8, %67)\u001B[36m::Vector{Int8}\u001B[39m\n",
      "\u001B[90m│  \u001B[39m %69 = LinearAlgebraicRepresentation.Arrangement.sparsevec(%68)\u001B[36m::SparseVector{Int8, Int64}\u001B[39m\n",
      "\u001B[90m│  \u001B[39m %70 = LinearAlgebraicRepresentation.Arrangement.planar_arrangement(%65, %66, %69)\u001B[91m\u001B[1m::Tuple\u001B[22m\u001B[39m\n",
      "\u001B[90m│  \u001B[39m %71 = Base.indexed_iterate(%70, 1)\u001B[36m::Core.PartialStruct(Tuple{Any, Int64}, Any[Any, Core.Const(2)])\u001B[39m\n",
      "\u001B[90m│  \u001B[39m       (nV = Core.getfield(%71, 1))\n",
      "\u001B[90m│  \u001B[39m       (@_7 = Core.getfield(%71, 2))\n",
      "\u001B[90m│  \u001B[39m %74 = Base.indexed_iterate(%70, 2, @_7::Core.Const(2))\u001B[36m::Core.PartialStruct(Tuple{Any, Int64}, Any[Any, Core.Const(3)])\u001B[39m\n",
      "\u001B[90m│  \u001B[39m       (nEV = Core.getfield(%74, 1))\n",
      "\u001B[90m│  \u001B[39m       (@_7 = Core.getfield(%74, 2))\n",
      "\u001B[90m│  \u001B[39m %77 = Base.indexed_iterate(%70, 3, @_7::Core.Const(3))\u001B[36m::Core.PartialStruct(Tuple{Any, Int64}, Any[Any, Core.Const(4)])\u001B[39m\n",
      "\u001B[90m│  \u001B[39m       (nFE = Core.getfield(%77, 1))\n",
      "\u001B[90m│  \u001B[39m %79 = (nV == LinearAlgebraicRepresentation.Arrangement.nothing)\u001B[91m\u001B[1m::Any\u001B[22m\u001B[39m\n",
      "\u001B[90m└──\u001B[39m       goto #6 if not %79\n",
      "\u001B[90m5 ─\u001B[39m %81 = Base.vect()\u001B[36m::Vector{Any}\u001B[39m\n",
      "\u001B[90m│  \u001B[39m %82 = LinearAlgebraicRepresentation.Arrangement.spzeros(LinearAlgebraicRepresentation.Arrangement.Int8, 0, 0)\u001B[36m::SparseMatrixCSC{Int8, Int64}\u001B[39m\n",
      "\u001B[90m│  \u001B[39m %83 = LinearAlgebraicRepresentation.Arrangement.spzeros(LinearAlgebraicRepresentation.Arrangement.Int8, 0, 0)\u001B[36m::SparseMatrixCSC{Int8, Int64}\u001B[39m\n",
      "\u001B[90m│  \u001B[39m %84 = Core.tuple(%81, %82, %83)\u001B[36m::Tuple{Vector{Any}, SparseMatrixCSC{Int8, Int64}, SparseMatrixCSC{Int8, Int64}}\u001B[39m\n",
      "\u001B[90m└──\u001B[39m       return %84\n",
      "\u001B[90m6 ─\u001B[39m       (nvsize = LinearAlgebraicRepresentation.Arrangement.size(nV, 1))\n",
      "\u001B[90m│  \u001B[39m %87 = nV\u001B[91m\u001B[1m::Any\u001B[22m\u001B[39m\n",
      "\u001B[90m│  \u001B[39m %88 = LinearAlgebraicRepresentation.Arrangement.zeros(nvsize)\u001B[91m\u001B[1m::Any\u001B[22m\u001B[39m\n",
      "\u001B[90m│  \u001B[39m %89 = LinearAlgebraicRepresentation.Arrangement.ones(nvsize)\u001B[91m\u001B[1m::Any\u001B[22m\u001B[39m\n",
      "\u001B[90m│  \u001B[39m %90 = Base.hcat(%87, %88, %89)\u001B[91m\u001B[1m::Any\u001B[22m\u001B[39m\n",
      "\u001B[90m│  \u001B[39m %91 = LinearAlgebraicRepresentation.Arrangement.inv(M)\u001B[91m\u001B[1m::Any\u001B[22m\u001B[39m\n",
      "\u001B[90m│  \u001B[39m %92 = (1:3)\u001B[36m::Core.Const(1:3)\u001B[39m\n",
      "\u001B[90m│  \u001B[39m %93 = Base.getindex(%91, LinearAlgebraicRepresentation.Arrangement.:(:), %92)\u001B[91m\u001B[1m::Any\u001B[22m\u001B[39m\n",
      "\u001B[90m│  \u001B[39m       (nV = %90 * %93)\n",
      "\u001B[90m│  \u001B[39m %95 = Core.tuple(nV"
     ]
    }
   ],
   "source": [
    "@code_warntype Lar.Arrangement.frag_face(Lar.Points(V),EV,FE,[2,3,4,5],2)"
   ]
  },
  {
   "cell_type": "markdown",
   "id": "4908f4fc",
   "metadata": {
    "pycharm": {
     "name": "#%% md\n"
    }
   },
   "source": [
    "# Ottimizzazione `frag_face`"
   ]
  },
  {
   "cell_type": "markdown",
   "id": "a9a06942",
   "metadata": {},
   "source": [
    "Riportiamo la versione parallelizzata di `frag_face`"
   ]
  },
  {
   "cell_type": "code",
   "execution_count": 68,
   "id": "3276fe70",
   "metadata": {
    "pycharm": {
     "name": "#%%\n"
    }
   },
   "outputs": [
    {
     "data": {
      "text/plain": [
       "frag_face_parallelized (generic function with 2 methods)"
      ]
     },
     "metadata": {},
     "output_type": "display_data"
    }
   ],
   "source": [
    "function frag_face_parallelized(V::Matrix{Float64}, EV::SparseMatrixCSC{Int8, Int64}, FE::SparseMatrixCSC{Int8, Int64},\n",
    "    sp_idx::Vector{Vector{Int64}}, sigma::Int64)\n",
    "\n",
    "    vs_num::Int64 = size(V, 1)\n",
    "    \n",
    "\t# 2D transformation of sigma face\n",
    "    sigmavs::Vector{Int64} = (abs.(FE[sigma:sigma,:])*abs.(EV))[1,:].nzind\n",
    "    \n",
    "    sV::Matrix{Float64} = V[sigmavs, :]\n",
    "    sEV::SparseMatrixCSC{Int8, Int64} = EV[FE[sigma, :].nzind, sigmavs]\n",
    "    M::Matrix{Float64} = Lar.Arrangement.submanifold_mapping(sV)\n",
    "    tV::Matrix{Float64} = ([V ones(vs_num)]*M)[:, 1:3]\n",
    "    sV = tV[sigmavs, :]\n",
    "    \n",
    "    # sigma face intersection with faces in sp_idx[sigma]\n",
    "    @async for i in sp_idx[sigma]\n",
    "        tmpV::Matrix{Any}, tmpEV::SparseMatrixCSC{Int8, Int64} = Lar.Arrangement.face_int(tV, EV, FE[i, :])\n",
    "        sV, sEV = Lar.skel_merge(sV, sEV, tmpV, tmpEV)\n",
    "    end\n",
    "\n",
    "    # computation of 2D arrangement of sigma face\n",
    "    sV = sV[:, 1:2]\n",
    "    nV::Matrix{Float64}, nEV::SparseMatrixCSC{Int8, Int64}, nFE::SparseMatrixCSC{Int8, Int64} = Lar.Arrangement.planar_arrangement(sV, sEV, sparsevec(ones(Int8, length(sigmavs))))\n",
    "    \n",
    "    nvsize::Int64 = size(nV, 1)\n",
    "    nV = [nV zeros(nvsize) ones(nvsize)]*inv(M)[:, 1:3]\n",
    "    \n",
    "    return nV, nEV, nFE\n",
    "end"
   ]
  },
  {
   "cell_type": "markdown",
   "id": "49c8ca97",
   "metadata": {
    "pycharm": {
     "name": "#%% md\n"
    }
   },
   "source": [
    "Utilizziamo la macro `@btime` per valutare le prestazioni dal punto di vista temporale e capire se le prestazioni della funzione `frag_face` sono migliorate."
   ]
  },
  {
   "cell_type": "code",
   "execution_count": 69,
   "id": "08c06e2a",
   "metadata": {
    "pycharm": {
     "name": "#%%\n"
    }
   },
   "outputs": [
    {
     "data": {
      "text/plain": [
       "([1.3260341 0.2707609000000001 0.24287710000000004; 1.3862088 0.21082410000000004 0.9148494000000003; 1.2660973 0.9422582000000003 0.30813880000000005; 1.3262719920385087 0.8823213992267827 0.9801110006439793], sparse([1, 3, 1, 4, 2, 3, 2, 4], [1, 1, 2, 2, 3, 3, 4, 4], Int8[-1, -1, 1, -1, -1, 1, 1, 1], 4, 4), sparse([1, 1, 1, 1], [1, 2, 3, 4], Int8[1, -1, -1, 1], 1, 4))"
      ]
     },
     "metadata": {},
     "output_type": "display_data"
    }
   ],
   "source": [
    "V, EV, FE = get_input()\n",
    "@btime frag_face_parallelized(Lar.Points(V),EV,FE,[2,3,4,5],2)"
   ]
  },
  {
   "cell_type": "markdown",
   "id": "7ab9a8cb",
   "metadata": {
    "pycharm": {
     "name": "#%% md\n"
    }
   },
   "source": [
    "Utilizziamo la macro `@profile` la quale esegue l’espressione a cui è assegnata collezionando periodicamente dei campioni in modo tale da mostrare la gerarchia delle funzioni ed il tempo di esecuzione di ogni riga."
   ]
  },
  {
   "cell_type": "code",
   "execution_count": 70,
   "id": "bdad566c",
   "metadata": {
    "pycharm": {
     "name": "#%%\n"
    }
   },
   "outputs": [],
   "source": [
    "Profile.clear()\n",
    "Profile.init(delay=.1e-7)\n",
    "@profile for _ in 1:200\n",
    "    frag_face_parallelized(Lar.Points(V),EV,FE,[2,3,4,5],2)\n",
    "end"
   ]
  },
  {
   "cell_type": "code",
   "execution_count": 71,
   "id": "de1284aa",
   "metadata": {
    "pycharm": {
     "name": "#%%\n"
    }
   },
   "outputs": [],
   "source": [
    "ProfileView.view()\n",
    "Profile.print()"
   ]
  },
  {
   "cell_type": "markdown",
   "id": "d4bc80de",
   "metadata": {
    "pycharm": {
     "name": "#%% md\n"
    }
   },
   "source": [
    "# Valutazione `spatial_arrangment_1`"
   ]
  },
  {
   "cell_type": "markdown",
   "id": "4f88024a",
   "metadata": {
    "pycharm": {
     "name": "#%% md\n"
    }
   },
   "source": [
    "La valutazione viene fatta aggiungendo al codice del precedente metodo `spatial_arrangment_1` la funzione `frag_face_parallelized`"
   ]
  },
  {
   "cell_type": "code",
   "execution_count": 72,
   "id": "441f0cb4",
   "metadata": {
    "pycharm": {
     "name": "#%%\n"
    }
   },
   "outputs": [
    {
     "data": {
      "text/plain": [
       "spatial_arrangement_1_with_frag (generic function with 2 methods)"
      ]
     },
     "metadata": {},
     "output_type": "display_data"
    }
   ],
   "source": [
    "function spatial_arrangement_1_with_frag(\n",
    "\t\tV::Lar.Points,\n",
    "\t\tcopEV::Lar.ChainOp,\n",
    "\t\tcopFE::Lar.ChainOp, multiproc::Bool=false)\n",
    "\n",
    "\t# spaceindex computation\n",
    "\tFV = Lar.compute_FV( copEV, copFE )\n",
    "\tmodel = (convert(Lar.Points,V'), FV)\n",
    "\tsp_idx = Lar.spaceindex(model) # OK!!  tested symmetry of computed relation\n",
    "\n",
    "\t# initializations\n",
    "\tfs_num = size(copFE, 1)\n",
    "  rV = Array{Float64,2}(undef,0,3)\n",
    "  rEV = SparseArrays.spzeros(Int8,0,0)\n",
    "  rFE = SparseArrays.spzeros(Int8,0,0)\n",
    "\n",
    "\t# multiprocessing of face fragmentation\n",
    "    if (multiproc == true)\n",
    "        in_chan = Distributed.RemoteChannel(()->Channel{Int64}(0))\n",
    "        out_chan = Distributed.RemoteChannel(()->Channel{Tuple}(0))\n",
    "        @async begin\n",
    "            for sigma in 1:fs_num\n",
    "                put!(in_chan, sigma)\n",
    "            end\n",
    "            for p in Distributed.workers()\n",
    "                put!(in_chan, -1)\n",
    "            end\n",
    "        end\n",
    "        for p in Distributed.workers()\n",
    "            @async Base.remote_do(\n",
    "                frag_face_channel, p, in_chan, out_chan, V, EV, FE, sp_idx)\n",
    "        end\n",
    "        for sigma in 1:fs_num\n",
    "            rV, rEV, rFE = Lar.skel_merge(rV, rEV, rFE, take!(out_chan)...)\n",
    "        end\n",
    "    else\n",
    "\t# sequential (iterative) processing of face fragmentation\n",
    "        for sigma in 1:fs_num\n",
    "            #println(\"\\n\",sigma, \"/\", fs_num)\n",
    "            nV, nEV, nFE = frag_face_parallelized(V, copEV, copFE, sp_idx, sigma)\n",
    "\t\t      \tnV = convert(Lar.Points, nV)\n",
    "            rV,rEV, rFE= Lar.skel_merge( rV,rEV,rFE,  nV,nEV,nFE )\n",
    "            #rV=a;  #rEV=b;  #rFE=c\n",
    "        end\n",
    "    end\n",
    "\t# merging of close vertices, edges and faces (3D congruence)\n",
    "\trV, rEV, rFE = Lar.Arrangement.merge_vertices(rV, rEV, rFE)\n",
    "  return rV, rEV, rFE\n",
    "end"
   ]
  },
  {
   "cell_type": "markdown",
   "id": "0a82c400",
   "metadata": {
    "pycharm": {
     "name": "#%% md\n"
    }
   },
   "source": [
    "Con la funzione `@btime` valutiamo le prestazioni dal punto di vista temporale della funzione."
   ]
  },
  {
   "cell_type": "code",
   "execution_count": 73,
   "id": "30c8df2c",
   "metadata": {
    "pycharm": {
     "name": "#%%\n"
    },
    "scrolled": true
   },
   "outputs": [
    {
     "data": {
      "text/plain": [
       "([0.6540618000000001 0.2054992 0.2972308; 0.7142365000000002 0.1455625 0.969203; … ; 0.8049656 0.3844582 0.992188; 0.4810731000000001 0.3988786 0.9928307], sparse([1, 3, 9, 1, 4, 10, 2, 3, 11, 2  …  33, 29, 32, 34, 30, 31, 35, 30, 32, 36], [1, 1, 1, 2, 2, 2, 3, 3, 3, 4  …  21, 22, 22, 22, 23, 23, 23, 24, 24, 24], Int8[-1, -1, -1, 1, -1, -1, -1, 1, -1, 1  …  1, 1, -1, 1, -1, 1, 1, 1, 1, 1], 36, 24), sparse([1, 3, 1, 4, 1, 5, 1, 6, 2, 3  …  14, 18, 15, 17, 15, 18, 16, 17, 16, 18], [1, 1, 2, 2, 3, 3, 4, 4, 5, 5  …  32, 32, 33, 33, 34, 34, 35, 35, 36, 36], Int8[1, 1, -1, 1, -1, 1, 1, 1, 1, -1  …  1, -1, -1, -1, 1, -1, -1, 1, 1, 1], 18, 36))"
      ]
     },
     "metadata": {},
     "output_type": "display_data"
    }
   ],
   "source": [
    "V, EV, FE = get_input()\n",
    "@btime spatial_arrangement_1_with_frag(Lar.Points(V),Lar.ChainOp(EV),Lar.ChainOp(FE),false)"
   ]
  },
  {
   "cell_type": "code",
   "execution_count": 74,
   "id": "bfd7fb6d",
   "metadata": {},
   "outputs": [
    {
     "data": {
      "text/plain": [
       "BenchmarkTools.Trial: 1146 samples with 1 evaluation.\n",
       " Range \u001B[90m(\u001B[39m\u001B[36m\u001B[1mmin\u001B[22m\u001B[39m … \u001B[35mmax\u001B[39m\u001B[90m):  \u001B[39m\u001B[36m\u001B[1m3.432 ms\u001B[22m\u001B[39m … \u001B[35m21.629 ms\u001B[39m  \u001B[90m┊\u001B[39m GC \u001B[90m(\u001B[39mmin … max\u001B[90m): \u001B[39m 0.00% … 75.56%\n",
       " Time  \u001B[90m(\u001B[39m\u001B[34m\u001B[1mmedian\u001B[22m\u001B[39m\u001B[90m):     \u001B[39m\u001B[34m\u001B[1m3.675 ms              \u001B[22m\u001B[39m\u001B[90m┊\u001B[39m GC \u001B[90m(\u001B[39mmedian\u001B[90m):    \u001B[39m 0.00%\n",
       " Time  \u001B[90m(\u001B[39m\u001B[32m\u001B[1mmean\u001B[22m\u001B[39m ± \u001B[32mσ\u001B[39m\u001B[90m):   \u001B[39m\u001B[32m\u001B[1m4.361 ms\u001B[22m\u001B[39m ± \u001B[32m 2.971 ms\u001B[39m  \u001B[90m┊\u001B[39m GC \u001B[90m(\u001B[39mmean ± σ\u001B[90m):  \u001B[39m13.14% ± 14.98%\n",
       "\n",
       "  \u001B[39m█\u001B[34m▆\u001B[39m\u001B[39m▄\u001B[32m▂\u001B[39m\u001B[39m▁\u001B[39m \u001B[39m \u001B[39m \u001B[39m \u001B[39m \u001B[39m \u001B[39m \u001B[39m \u001B[39m \u001B[39m \u001B[39m \u001B[39m \u001B[39m \u001B[39m \u001B[39m \u001B[39m \u001B[39m \u001B[39m \u001B[39m \u001B[39m \u001B[39m \u001B[39m \u001B[39m \u001B[39m \u001B[39m \u001B[39m \u001B[39m \u001B[39m \u001B[39m \u001B[39m \u001B[39m \u001B[39m \u001B[39m \u001B[39m \u001B[39m \u001B[39m \u001B[39m \u001B[39m \u001B[39m \u001B[39m \u001B[39m \u001B[39m \u001B[39m \u001B[39m \u001B[39m \u001B[39m \u001B[39m \u001B[39m \u001B[39m \u001B[39m \u001B[39m \u001B[39m \u001B[39m \u001B[39m \u001B[39m \n",
       "  \u001B[39m█\u001B[34m█\u001B[39m\u001B[39m█\u001B[32m█\u001B[39m\u001B[39m█\u001B[39m▆\u001B[39m▅\u001B[39m▁\u001B[39m▁\u001B[39m▁\u001B[39m▁\u001B[39m▁\u001B[39m▁\u001B[39m▁\u001B[39m▁\u001B[39m▁\u001B[39m▁\u001B[39m▁\u001B[39m▁\u001B[39m▁\u001B[39m▁\u001B[39m▁\u001B[39m▁\u001B[39m▁\u001B[39m▁\u001B[39m▁\u001B[39m▁\u001B[39m▁\u001B[39m▁\u001B[39m▁\u001B[39m▁\u001B[39m▁\u001B[39m▁\u001B[39m▁\u001B[39m▁\u001B[39m▁\u001B[39m▁\u001B[39m▁\u001B[39m▁\u001B[39m▁\u001B[39m▁\u001B[39m▁\u001B[39m▁\u001B[39m▁\u001B[39m▃\u001B[39m▁\u001B[39m▃\u001B[39m▄\u001B[39m▅\u001B[39m▃\u001B[39m▆\u001B[39m▅\u001B[39m▄\u001B[39m▃\u001B[39m▁\u001B[39m▄\u001B[39m▆\u001B[39m▆\u001B[39m \u001B[39m▇\n",
       "  3.43 ms\u001B[90m      \u001B[39m\u001B[90mHistogram: \u001B[39m\u001B[90m\u001B[1mlog(\u001B[22m\u001B[39m\u001B[90mfrequency\u001B[39m\u001B[90m\u001B[1m)\u001B[22m\u001B[39m\u001B[90m by time\u001B[39m       20 ms \u001B[0m\u001B[1m<\u001B[22m\n",
       "\n",
       " Memory estimate\u001B[90m: \u001B[39m\u001B[33m4.58 MiB\u001B[39m, allocs estimate\u001B[90m: \u001B[39m\u001B[33m82815\u001B[39m."
      ]
     },
     "metadata": {},
     "output_type": "display_data"
    }
   ],
   "source": [
    "V, EV, FE = get_input()\n",
    "@benchmark spatial_arrangement_1_with_frag(Lar.Points(V),Lar.ChainOp(EV),Lar.ChainOp(FE),false)"
   ]
  },
  {
   "cell_type": "markdown",
   "id": "d021d1af",
   "metadata": {
    "pycharm": {
     "name": "#%% md\n"
    }
   },
   "source": [
    "# Analisi e ottimizzazione `merge_vertices`"
   ]
  },
  {
   "cell_type": "markdown",
   "id": "88ffa754",
   "metadata": {
    "pycharm": {
     "name": "#%% md\n"
    }
   },
   "source": [
    "La funzione `merge_vertices` effettua il merge delle facce vicine, vertici e lati."
   ]
  },
  {
   "cell_type": "markdown",
   "id": "50b9ca7c",
   "metadata": {
    "pycharm": {
     "name": "#%% md\n"
    }
   },
   "source": [
    "Con la funzione `@btime` valutiamo le prestazioni dal punto di vista temporale della funzione."
   ]
  },
  {
   "cell_type": "code",
   "execution_count": 75,
   "id": "38532caf",
   "metadata": {
    "pycharm": {
     "name": "#%%\n"
    }
   },
   "outputs": [
    {
     "data": {
      "text/plain": [
       "([0.6540618 0.2054992 0.2972308; 0.7142365 0.1455625 0.969203; … ; 0.2572286 -0.0086196 0.1785838; 0.4334306 0.1497748 0.5036087], sparse([1, 5, 9, 1, 6, 10, 2, 5, 11, 2  …  33, 27, 32, 34, 28, 31, 35, 28, 32, 36], [1, 1, 1, 2, 2, 2, 3, 3, 3, 4  …  21, 22, 22, 22, 23, 23, 23, 24, 24, 24], Int8[-1, -1, -1, 1, -1, -1, -1, 1, -1, 1  …  1, 1, -1, 1, -1, 1, 1, 1, 1, 1], 36, 32), sparse([1, 3, 1, 4, 2, 3, 2, 4, 1, 5  …  14, 18, 15, 17, 15, 18, 16, 17, 16, 18], [1, 1, 2, 2, 3, 3, 4, 4, 5, 5  …  32, 32, 33, 33, 34, 34, 35, 35, 36, 36], Int8[1, 1, -1, 1, 1, -1, -1, -1, -1, 1  …  1, -1, -1, -1, 1, -1, -1, 1, 1, 1], 18, 36))"
      ]
     },
     "metadata": {},
     "output_type": "display_data"
    }
   ],
   "source": [
    "V, EV, FE = get_input()\n",
    "@btime Lar.Arrangement.merge_vertices($Lar.Points(V),$Lar.ChainOp(EV),$Lar.ChainOp(FE),$1e-8)"
   ]
  },
  {
   "cell_type": "markdown",
   "id": "6bfaa186",
   "metadata": {
    "pycharm": {
     "name": "#%% md\n"
    }
   },
   "source": [
    "# Ottimizazzione"
   ]
  },
  {
   "cell_type": "markdown",
   "id": "ffbf2074",
   "metadata": {
    "pycharm": {
     "name": "#%% md\n"
    }
   },
   "source": [
    "In questa sezione rivisitiamo la funzione `merge_vertices` utilizzando la macro Julia `@async`. Tale macro avvolge un espressione in un `Task` e lo aggiunge alla coda dello scheduler della macchina locale."
   ]
  },
  {
   "cell_type": "code",
   "execution_count": 76,
   "id": "f546281d",
   "metadata": {
    "pycharm": {
     "name": "#%%\n"
    }
   },
   "outputs": [
    {
     "data": {
      "text/plain": [
       "merge_vertices_revisited (generic function with 2 methods)"
      ]
     },
     "metadata": {},
     "output_type": "display_data"
    }
   ],
   "source": [
    "function merge_vertices_revisited(V::Lar.Points, EV::Lar.ChainOp, FE::Lar.ChainOp, err=1e-4)\n",
    "    vertsnum = size(V, 1)\n",
    "    edgenum = size(EV, 1)\n",
    "    facenum = size(FE, 1)\n",
    "    newverts = zeros(Int, vertsnum)\n",
    "\n",
    "    # KDTree constructor needs an explicit array of Float64\n",
    "    V = Array{Float64,2}(V)\n",
    "    W = convert(Lar.Points, LinearAlgebra.transpose(V))\n",
    "    kdtree = KDTree(W)\n",
    "\n",
    "    # remove vertices congruent to a single representative\n",
    "    todelete = []\n",
    "    i = 1\n",
    "\n",
    "    for vi in 1:vertsnum #non è possibile utilizzare @async\n",
    "        if !(vi in todelete)\n",
    "            nearvs =  Lar.inrange(kdtree, V[vi, :], err)\n",
    "            newverts[nearvs] .= i\n",
    "            nearvs =  setdiff(nearvs, vi)\n",
    "            todelete = union(todelete, nearvs)\n",
    "            i = i + 1\n",
    "        end\n",
    "    end\n",
    "    nV = V[setdiff(collect(1:vertsnum), todelete), :]\n",
    "    \n",
    "    # translate edges to take congruence into account\n",
    "    edges = Array{Tuple{Int, Int}, 1}(undef, edgenum)\n",
    "    oedges = Array{Tuple{Int, Int}, 1}(undef, edgenum)\n",
    "\n",
    "    for ei in 1:edgenum #non è possibile utilizzare @async\n",
    "        v1, v2 = EV[ei, :].nzind\n",
    "        edges[ei] = Tuple{Int, Int}(sort([newverts[v1], newverts[v2]]))\n",
    "        oedges[ei] = Tuple{Int, Int}(sort([v1, v2]))\n",
    "    end\n",
    "\n",
    "    nedges = union(edges)\n",
    "    # remove edges of zero length\n",
    "    nedges = filter(t->t[1]!=t[2], nedges)\n",
    "    nedgenum = length(nedges)\n",
    "    nEV = spzeros(Int8, nedgenum, size(nV, 1))\n",
    " \n",
    "    etuple2idx = Dict{Tuple{Int, Int}, Int}()\n",
    "\n",
    "    for ei in 1:nedgenum #non è possibile utilizzare @async\n",
    "        begin\n",
    "            nEV[ei, collect(nedges[ei])] .= 1\n",
    "            nEV\n",
    "        end\n",
    "        etuple2idx[nedges[ei]] = ei\n",
    "    end\n",
    "    \n",
    "    @async for e in 1:nedgenum \n",
    "        v1,v2 = findnz(nEV[e,:])[1]\n",
    "        nEV[e,v1] = -1; nEV[e,v2] = 1\n",
    "    end\n",
    " \n",
    "    # compute new faces to take congruence into account\n",
    "    faces = [[\n",
    "        map(x->newverts[x], FE[fi, ei] > 0 ? oedges[ei] : reverse(oedges[ei]))\n",
    "        for ei in FE[fi, :].nzind\n",
    "    ] for fi in 1:facenum]\n",
    " \n",
    " \n",
    "    visited = []\n",
    "    function filter_fn(face)\n",
    " \n",
    "        verts = []\n",
    "        map(e->verts = union(verts, collect(e)), face)\n",
    "        verts = Set(verts)\n",
    " \n",
    "        if !(verts in visited)\n",
    "            push!(visited, verts)\n",
    "            return true\n",
    "        end\n",
    "        return false\n",
    "    end\n",
    " \n",
    "    nfaces = filter(filter_fn, faces)\n",
    " \n",
    "    nfacenum = length(nfaces)\n",
    "    nFE = spzeros(Int8, nfacenum, size(nEV, 1))\n",
    " \n",
    "    @async for fi in 1:nfacenum\n",
    "        @async for edge in nfaces[fi]\n",
    "            ei = etuple2idx[Tuple{Int, Int}(sort(collect(edge)))]\n",
    "            nFE[fi, ei] = sign(edge[2] - edge[1])\n",
    "        end\n",
    "    end\n",
    " \n",
    "    return Lar.Points(nV), nEV, nFE\n",
    " end"
   ]
  },
  {
   "cell_type": "markdown",
   "id": "37a46cd3",
   "metadata": {
    "pycharm": {
     "name": "#%% md\n"
    }
   },
   "source": [
    "Utilizziamo la macro `@btime` per valutare le prestazioni dal punto di vista temporale e capire se le prestazioni della funzione `merge_vertices` sono migliorate."
   ]
  },
  {
   "cell_type": "code",
   "execution_count": 77,
   "id": "bd1ca796",
   "metadata": {
    "pycharm": {
     "name": "#%%\n"
    }
   },
   "outputs": [
    {
     "data": {
      "text/plain": [
       "([0.6540618 0.2054992 0.2972308; 0.7142365 0.1455625 0.969203; … ; 0.2572286 -0.0086196 0.1785838; 0.4334306 0.1497748 0.5036087], sparse([1, 5, 9, 1, 6, 10, 2, 5, 11, 2  …  33, 27, 32, 34, 28, 31, 35, 28, 32, 36], [1, 1, 1, 2, 2, 2, 3, 3, 3, 4  …  21, 22, 22, 22, 23, 23, 23, 24, 24, 24], Int8[-1, -1, -1, 1, -1, -1, -1, 1, -1, 1  …  1, 1, -1, 1, -1, 1, 1, 1, 1, 1], 36, 32), sparse([1, 3, 1, 4, 2, 3, 2, 4, 1, 5  …  14, 18, 15, 17, 15, 18, 16, 17, 16, 18], [1, 1, 2, 2, 3, 3, 4, 4, 5, 5  …  32, 32, 33, 33, 34, 34, 35, 35, 36, 36], Int8[1, 1, -1, 1, 1, -1, -1, -1, -1, 1  …  1, -1, -1, -1, 1, -1, -1, 1, 1, 1], 18, 36))"
      ]
     },
     "metadata": {},
     "output_type": "display_data"
    }
   ],
   "source": [
    "V, EV, FE = get_input()\n",
    "@btime merge_vertices_revisited(Lar.Points(V),Lar.ChainOp(EV),Lar.ChainOp(FE),1e-8)"
   ]
  },
  {
   "cell_type": "code",
   "execution_count": 78,
   "id": "5bf577f2",
   "metadata": {},
   "outputs": [
    {
     "data": {
      "text/plain": [
       "BenchmarkTools.Trial: 10000 samples with 1 evaluation.\n",
       " Range \u001B[90m(\u001B[39m\u001B[36m\u001B[1mmin\u001B[22m\u001B[39m … \u001B[35mmax\u001B[39m\u001B[90m):  \u001B[39m\u001B[36m\u001B[1m 79.958 μs\u001B[22m\u001B[39m … \u001B[35m 38.350 ms\u001B[39m  \u001B[90m┊\u001B[39m GC \u001B[90m(\u001B[39mmin … max\u001B[90m): \u001B[39m 0.00% … 99.69%\n",
       " Time  \u001B[90m(\u001B[39m\u001B[34m\u001B[1mmedian\u001B[22m\u001B[39m\u001B[90m):     \u001B[39m\u001B[34m\u001B[1m 83.750 μs               \u001B[22m\u001B[39m\u001B[90m┊\u001B[39m GC \u001B[90m(\u001B[39mmedian\u001B[90m):    \u001B[39m 0.00%\n",
       " Time  \u001B[90m(\u001B[39m\u001B[32m\u001B[1mmean\u001B[22m\u001B[39m ± \u001B[32mσ\u001B[39m\u001B[90m):   \u001B[39m\u001B[32m\u001B[1m101.994 μs\u001B[22m\u001B[39m ± \u001B[32m776.106 μs\u001B[39m  \u001B[90m┊\u001B[39m GC \u001B[90m(\u001B[39mmean ± σ\u001B[90m):  \u001B[39m16.92% ±  2.23%\n",
       "\n",
       "  \u001B[39m \u001B[39m \u001B[39m \u001B[39m▁\u001B[39m▄\u001B[39m▇\u001B[39m█\u001B[39m▇\u001B[39m▆\u001B[39m▄\u001B[34m▃\u001B[39m\u001B[39m▃\u001B[39m▂\u001B[39m▁\u001B[39m \u001B[39m \u001B[39m \u001B[39m \u001B[39m \u001B[39m \u001B[39m \u001B[39m \u001B[39m \u001B[39m \u001B[39m \u001B[39m \u001B[39m \u001B[39m \u001B[39m \u001B[39m \u001B[39m \u001B[39m \u001B[39m \u001B[39m \u001B[39m \u001B[39m \u001B[39m \u001B[39m \u001B[39m \u001B[39m \u001B[39m \u001B[39m \u001B[39m \u001B[39m \u001B[39m \u001B[39m \u001B[39m \u001B[39m \u001B[39m \u001B[39m \u001B[39m \u001B[39m \u001B[39m \u001B[39m \u001B[39m \u001B[39m \u001B[39m \u001B[39m \u001B[39m \u001B[32m \u001B[39m\u001B[39m \u001B[39m \u001B[39m \n",
       "  \u001B[39m▁\u001B[39m▂\u001B[39m▅\u001B[39m█\u001B[39m█\u001B[39m█\u001B[39m█\u001B[39m█\u001B[39m█\u001B[39m█\u001B[34m█\u001B[39m\u001B[39m█\u001B[39m█\u001B[39m█\u001B[39m█\u001B[39m█\u001B[39m▇\u001B[39m▆\u001B[39m▅\u001B[39m▄\u001B[39m▄\u001B[39m▄\u001B[39m▃\u001B[39m▃\u001B[39m▃\u001B[39m▃\u001B[39m▂\u001B[39m▂\u001B[39m▂\u001B[39m▁\u001B[39m▁\u001B[39m▁\u001B[39m▁\u001B[39m▁\u001B[39m▁\u001B[39m▁\u001B[39m▁\u001B[39m▁\u001B[39m▁\u001B[39m▁\u001B[39m▁\u001B[39m▁\u001B[39m▁\u001B[39m▁\u001B[39m▁\u001B[39m▁\u001B[39m▁\u001B[39m▁\u001B[39m▁\u001B[39m▁\u001B[39m▁\u001B[39m▁\u001B[39m▁\u001B[39m▁\u001B[39m▁\u001B[39m▁\u001B[39m▁\u001B[39m▁\u001B[39m▁\u001B[32m▁\u001B[39m\u001B[39m▁\u001B[39m \u001B[39m▃\n",
       "  80 μs\u001B[90m            Histogram: frequency by time\u001B[39m          103 μs \u001B[0m\u001B[1m<\u001B[22m\n",
       "\n",
       " Memory estimate\u001B[90m: \u001B[39m\u001B[33m174.80 KiB\u001B[39m, allocs estimate\u001B[90m: \u001B[39m\u001B[33m2622\u001B[39m."
      ]
     },
     "metadata": {},
     "output_type": "display_data"
    }
   ],
   "source": [
    "V, EV, FE = get_input()\n",
    "@benchmark merge_vertices_revisited(Lar.Points(V),Lar.ChainOp(EV),Lar.ChainOp(FE),1e-8)"
   ]
  },
  {
   "cell_type": "markdown",
   "id": "43149e95",
   "metadata": {
    "pycharm": {
     "name": "#%% md\n"
    }
   },
   "source": [
    "# Valutazione spatial_arrangment_1 con merge_vertices ottimizzato"
   ]
  },
  {
   "cell_type": "markdown",
   "id": "5c7dd0f8",
   "metadata": {
    "pycharm": {
     "name": "#%% md\n"
    }
   },
   "source": [
    "In questa sezione aggiungiamo al codice del precedente metodo `spatial_arrangment_1` la funzione `merge_vertices_revisited` e rivisitiamo la funzione `spatial_arrangement_1_with_merge` utilizzando la macro `@async` la quale racchiude un Task e si occupa di far iniziare subito l’attività racchiusa nel task procedendo con qualsiasi operazione che segue la macro."
   ]
  },
  {
   "cell_type": "code",
   "execution_count": 79,
   "id": "9928d8cf",
   "metadata": {
    "pycharm": {
     "name": "#%%\n"
    }
   },
   "outputs": [
    {
     "data": {
      "text/plain": [
       "spatial_arrangement_1_with_merge (generic function with 2 methods)"
      ]
     },
     "metadata": {},
     "output_type": "display_data"
    }
   ],
   "source": [
    "function spatial_arrangement_1_with_merge(\n",
    "\t\tV::Lar.Points,\n",
    "\t\tcopEV::Lar.ChainOp,\n",
    "\t\tcopFE::Lar.ChainOp, multiproc::Bool=false)\n",
    "\n",
    "\t# spaceindex computation\n",
    "\tFV = Lar.compute_FV( copEV, copFE )\n",
    "\tmodel = (convert(Lar.Points,V'), FV)\n",
    "\tsp_idx = Lar.spaceindex(model) # OK!!  tested symmetry of computed relation\n",
    "\n",
    "\t# initializations\n",
    "\tfs_num = size(copFE, 1)\n",
    "  rV = Array{Float64,2}(undef,0,3)\n",
    "  rEV = SparseArrays.spzeros(Int8,0,0)\n",
    "  rFE = SparseArrays.spzeros(Int8,0,0)\n",
    "\n",
    "\t# multiprocessing of face fragmentation\n",
    "    if (multiproc == true)\n",
    "        in_chan = Distributed.RemoteChannel(()->Channel{Int64}(0))\n",
    "        out_chan = Distributed.RemoteChannel(()->Channel{Tuple}(0))\n",
    "        @async begin\n",
    "            for sigma in 1:fs_num\n",
    "                put!(in_chan, sigma)\n",
    "            end\n",
    "            for p in Distributed.workers()\n",
    "                put!(in_chan, -1)\n",
    "            end\n",
    "        end\n",
    "        for p in Distributed.workers()\n",
    "            @async Base.remote_do(\n",
    "                frag_face_channel, p, in_chan, out_chan, V, EV, FE, sp_idx)\n",
    "        end\n",
    "        for sigma in 1:fs_num\n",
    "            rV, rEV, rFE = Lar.skel_merge(rV, rEV, rFE, take!(out_chan)...)\n",
    "        end\n",
    "    else\n",
    "\t# sequential (iterative) processing of face fragmentation\n",
    "        for sigma in 1:fs_num\n",
    "            #println(\"\\n\",sigma, \"/\", fs_num)\n",
    "            nV, nEV, nFE = Lar.Arrangement.frag_face(V, copEV, copFE, sp_idx, sigma)\n",
    "\t\t      \tnV = convert(Lar.Points, nV)\n",
    "            rV,rEV, rFE= Lar.skel_merge( rV,rEV,rFE,  nV,nEV,nFE )\n",
    "            #rV=a;  #rEV=b;  #rFE=c\n",
    "        end\n",
    "    end\n",
    "\t# merging of close vertices, edges and faces (3D congruence)\n",
    "\trV, rEV, rFE = merge_vertices_revisited(rV, rEV, rFE)\n",
    "  return rV, rEV, rFE\n",
    "end"
   ]
  },
  {
   "cell_type": "markdown",
   "id": "8774e4c1",
   "metadata": {
    "pycharm": {
     "name": "#%% md\n"
    }
   },
   "source": [
    "Con la funzione `@btime` valutiamo le prestazioni dal punto di vista temporale della funzione."
   ]
  },
  {
   "cell_type": "code",
   "execution_count": 80,
   "id": "56b5f10d",
   "metadata": {
    "pycharm": {
     "name": "#%%\n"
    }
   },
   "outputs": [
    {
     "data": {
      "text/plain": [
       "([0.6540618000000001 0.2054992 0.2972308; 0.7142365000000002 0.1455625 0.969203; … ; 0.8049656 0.3844582 0.992188; 0.4810731000000001 0.3988786 0.9928307], sparse([1, 4, 14, 2, 5, 15, 1, 2, 7, 17  …  57, 61, 65, 53, 56, 63, 55, 58, 64, 66], [1, 1, 1, 2, 2, 2, 3, 3, 3, 3  …  36, 36, 36, 37, 37, 37, 38, 38, 38, 38], Int8[-1, -1, -1, -1, -1, -1, 1, 1, -1, -1  …  1, 1, 1, 1, 1, 1, 1, 1, 1, 1], 67, 38), sparse([1, 4, 2, 5, 1, 6, 1, 7, 2, 8  …  25, 29, 27, 28, 26, 31, 32, 31, 30, 31], [1, 1, 2, 2, 3, 3, 4, 4, 5, 5  …  62, 62, 63, 63, 64, 64, 65, 66, 67, 67], Int8[1, 1, -1, -1, -1, 1, -1, 1, 1, 1  …  1, -1, -1, 1, 1, 1, 1, -1, -1, 1], 32, 67))"
      ]
     },
     "metadata": {},
     "output_type": "display_data"
    }
   ],
   "source": [
    "V, EV, FE = get_input()\n",
    "@btime spatial_arrangement_1_with_merge(Lar.Points(V),Lar.ChainOp(EV),Lar.ChainOp(FE),false) "
   ]
  },
  {
   "cell_type": "code",
   "execution_count": 81,
   "id": "85afc56f",
   "metadata": {},
   "outputs": [
    {
     "data": {
      "text/plain": [
       "BenchmarkTools.Trial: 49 samples with 1 evaluation.\n",
       " Range \u001B[90m(\u001B[39m\u001B[36m\u001B[1mmin\u001B[22m\u001B[39m … \u001B[35mmax\u001B[39m\u001B[90m):  \u001B[39m\u001B[36m\u001B[1m 59.096 ms\u001B[22m\u001B[39m … \u001B[35m214.124 ms\u001B[39m  \u001B[90m┊\u001B[39m GC \u001B[90m(\u001B[39mmin … max\u001B[90m): \u001B[39m0.00% … 32.79%\n",
       " Time  \u001B[90m(\u001B[39m\u001B[34m\u001B[1mmedian\u001B[22m\u001B[39m\u001B[90m):     \u001B[39m\u001B[34m\u001B[1m100.706 ms               \u001B[22m\u001B[39m\u001B[90m┊\u001B[39m GC \u001B[90m(\u001B[39mmedian\u001B[90m):    \u001B[39m0.00%\n",
       " Time  \u001B[90m(\u001B[39m\u001B[32m\u001B[1mmean\u001B[22m\u001B[39m ± \u001B[32mσ\u001B[39m\u001B[90m):   \u001B[39m\u001B[32m\u001B[1m103.487 ms\u001B[22m\u001B[39m ± \u001B[32m 29.004 ms\u001B[39m  \u001B[90m┊\u001B[39m GC \u001B[90m(\u001B[39mmean ± σ\u001B[90m):  \u001B[39m6.00% ± 10.40%\n",
       "\n",
       "  \u001B[39m \u001B[39m \u001B[39m \u001B[39m \u001B[39m \u001B[39m \u001B[39m \u001B[39m \u001B[39m▅\u001B[39m \u001B[39m \u001B[39m \u001B[39m \u001B[39m \u001B[39m▂\u001B[39m \u001B[34m█\u001B[39m\u001B[32m▅\u001B[39m\u001B[39m \u001B[39m \u001B[39m \u001B[39m \u001B[39m▂\u001B[39m \u001B[39m \u001B[39m \u001B[39m \u001B[39m \u001B[39m \u001B[39m \u001B[39m \u001B[39m \u001B[39m \u001B[39m \u001B[39m \u001B[39m \u001B[39m \u001B[39m \u001B[39m \u001B[39m \u001B[39m \u001B[39m \u001B[39m \u001B[39m \u001B[39m \u001B[39m \u001B[39m \u001B[39m \u001B[39m \u001B[39m \u001B[39m \u001B[39m \u001B[39m \u001B[39m \u001B[39m \u001B[39m \u001B[39m \u001B[39m \u001B[39m \u001B[39m \u001B[39m \u001B[39m \u001B[39m \n",
       "  \u001B[39m█\u001B[39m▁\u001B[39m▁\u001B[39m▅\u001B[39m▅\u001B[39m▅\u001B[39m▅\u001B[39m▅\u001B[39m█\u001B[39m█\u001B[39m█\u001B[39m▅\u001B[39m▁\u001B[39m█\u001B[39m█\u001B[39m▅\u001B[34m█\u001B[39m\u001B[32m█\u001B[39m\u001B[39m▅\u001B[39m█\u001B[39m█\u001B[39m█\u001B[39m█\u001B[39m▁\u001B[39m▅\u001B[39m▅\u001B[39m▁\u001B[39m▁\u001B[39m▅\u001B[39m▁\u001B[39m▁\u001B[39m▁\u001B[39m▁\u001B[39m▁\u001B[39m▁\u001B[39m▅\u001B[39m▅\u001B[39m▁\u001B[39m▁\u001B[39m▁\u001B[39m▅\u001B[39m▁\u001B[39m▁\u001B[39m▁\u001B[39m▁\u001B[39m▅\u001B[39m▁\u001B[39m▁\u001B[39m▁\u001B[39m▁\u001B[39m▁\u001B[39m▁\u001B[39m▁\u001B[39m▁\u001B[39m▁\u001B[39m▁\u001B[39m▁\u001B[39m▁\u001B[39m▁\u001B[39m▁\u001B[39m▅\u001B[39m \u001B[39m▁\n",
       "  59.1 ms\u001B[90m          Histogram: frequency by time\u001B[39m          214 ms \u001B[0m\u001B[1m<\u001B[22m\n",
       "\n",
       " Memory estimate\u001B[90m: \u001B[39m\u001B[33m11.89 MiB\u001B[39m, allocs estimate\u001B[90m: \u001B[39m\u001B[33m224615\u001B[39m."
      ]
     },
     "metadata": {},
     "output_type": "display_data"
    }
   ],
   "source": [
    "V, EV, FE = get_input()\n",
    "@benchmark spatial_arrangement_1_with_merge(Lar.Points(V),Lar.ChainOp(EV),Lar.ChainOp(FE),false) "
   ]
  },
  {
   "cell_type": "markdown",
   "id": "26s8Y8RTQUJ9",
   "metadata": {
    "id": "26s8Y8RTQUJ9",
    "pycharm": {
     "name": "#%% md\n"
    }
   },
   "source": [
    "In questa sezione valutiamo la funzione `spatial_arrangment_1` con `merge_vertices` e `frag_face` ottimizzati"
   ]
  },
  {
   "cell_type": "code",
   "execution_count": 82,
   "id": "DvdkjguzQzIe",
   "metadata": {
    "id": "DvdkjguzQzIe",
    "pycharm": {
     "name": "#%%\n"
    }
   },
   "outputs": [
    {
     "data": {
      "text/plain": [
       "spatial_arrangement_1_rev (generic function with 2 methods)"
      ]
     },
     "metadata": {},
     "output_type": "display_data"
    }
   ],
   "source": [
    "function spatial_arrangement_1_rev(\n",
    "\t\tV::Lar.Points,\n",
    "\t\tcopEV::Lar.ChainOp,\n",
    "\t\tcopFE::Lar.ChainOp, multiproc::Bool=false)\n",
    "\n",
    "\t# spaceindex computation\n",
    "\tFV = Lar.compute_FV( copEV, copFE )\n",
    "\tmodel = (convert(Lar.Points,V'), FV)\n",
    "\tsp_idx = Lar.spaceindex(model) # OK!!  tested symmetry of computed relation\n",
    "\n",
    "\t# initializations\n",
    "\tfs_num = size(copFE, 1)\n",
    "  rV = Array{Float64,2}(undef,0,3)\n",
    "  rEV = SparseArrays.spzeros(Int8,0,0)\n",
    "  rFE = SparseArrays.spzeros(Int8,0,0)\n",
    "\n",
    "\t# multiprocessing of face fragmentation\n",
    "    if (multiproc == true)\n",
    "        in_chan = Distributed.RemoteChannel(()->Channel{Int64}(0))\n",
    "        out_chan = Distributed.RemoteChannel(()->Channel{Tuple}(0))\n",
    "        @async begin\n",
    "            for sigma in 1:fs_num\n",
    "                put!(in_chan, sigma)\n",
    "            end\n",
    "            for p in Distributed.workers()\n",
    "                put!(in_chan, -1)\n",
    "            end\n",
    "        end\n",
    "        for p in Distributed.workers()\n",
    "            @async Base.remote_do(\n",
    "                frag_face_channel, p, in_chan, out_chan, V, EV, FE, sp_idx)\n",
    "        end\n",
    "        for sigma in 1:fs_num\n",
    "            rV, rEV, rFE = Lar.skel_merge(rV, rEV, rFE, take!(out_chan)...)\n",
    "        end\n",
    "    else\n",
    "\t# sequential (iterative) processing of face fragmentation\n",
    "        for sigma in 1:fs_num\n",
    "            #println(\"\\n\",sigma, \"/\", fs_num)\n",
    "            nV, nEV, nFE = frag_face_parallelized(V, copEV, copFE, sp_idx, sigma)\n",
    "\t\t      \tnV = convert(Lar.Points, nV)\n",
    "            rV,rEV, rFE= Lar.skel_merge( rV,rEV,rFE,  nV,nEV,nFE )\n",
    "            #rV=a;  #rEV=b;  #rFE=c\n",
    "        end\n",
    "    end\n",
    "\t# merging of close vertices, edges and faces (3D congruence)\n",
    "\trV, rEV, rFE = merge_vertices_revisited(rV, rEV, rFE)\n",
    "  return rV, rEV, rFE\n",
    "end"
   ]
  },
  {
   "cell_type": "markdown",
   "id": "db880384",
   "metadata": {
    "pycharm": {
     "name": "#%% md\n"
    }
   },
   "source": [
    "Con la funzione `@btime` valutiamo le prestazioni dal punto di vista temporale della funzione."
   ]
  },
  {
   "cell_type": "code",
   "execution_count": 83,
   "id": "c71e1cd2",
   "metadata": {},
   "outputs": [
    {
     "data": {
      "text/plain": [
       "([0.6540618000000001 0.2054992 0.2972308; 0.7142365000000002 0.1455625 0.969203; … ; 0.8049656 0.3844582 0.992188; 0.4810731000000001 0.3988786 0.9928307], sparse([1, 3, 9, 1, 4, 10, 2, 3, 11, 2  …  33, 29, 32, 34, 30, 31, 35, 30, 32, 36], [1, 1, 1, 2, 2, 2, 3, 3, 3, 4  …  21, 22, 22, 22, 23, 23, 23, 24, 24, 24], Int8[-1, -1, -1, 1, -1, -1, -1, 1, -1, 1  …  1, 1, -1, 1, -1, 1, 1, 1, 1, 1], 36, 24), sparse([1, 3, 1, 4, 1, 5, 1, 6, 2, 3  …  14, 18, 15, 17, 15, 18, 16, 17, 16, 18], [1, 1, 2, 2, 3, 3, 4, 4, 5, 5  …  32, 32, 33, 33, 34, 34, 35, 35, 36, 36], Int8[1, 1, -1, 1, -1, 1, 1, 1, 1, -1  …  1, -1, -1, -1, 1, -1, -1, 1, 1, 1], 18, 36))"
      ]
     },
     "metadata": {},
     "output_type": "display_data"
    }
   ],
   "source": [
    "V, EV, FE = get_input()\n",
    "@btime spatial_arrangement_1_rev(Lar.Points(V),Lar.ChainOp(EV),Lar.ChainOp(FE)) "
   ]
  },
  {
   "cell_type": "code",
   "execution_count": 84,
   "id": "c71e1cd2",
   "metadata": {},
   "outputs": [
    {
     "data": {
      "text/plain": [
       "BenchmarkTools.Trial: 1201 samples with 1 evaluation.\n",
       " Range \u001B[90m(\u001B[39m\u001B[36m\u001B[1mmin\u001B[22m\u001B[39m … \u001B[35mmax\u001B[39m\u001B[90m):  \u001B[39m\u001B[36m\u001B[1m3.466 ms\u001B[22m\u001B[39m … \u001B[35m22.092 ms\u001B[39m  \u001B[90m┊\u001B[39m GC \u001B[90m(\u001B[39mmin … max\u001B[90m): \u001B[39m 0.00% … 82.04%\n",
       " Time  \u001B[90m(\u001B[39m\u001B[34m\u001B[1mmedian\u001B[22m\u001B[39m\u001B[90m):     \u001B[39m\u001B[34m\u001B[1m3.557 ms              \u001B[22m\u001B[39m\u001B[90m┊\u001B[39m GC \u001B[90m(\u001B[39mmedian\u001B[90m):    \u001B[39m 0.00%\n",
       " Time  \u001B[90m(\u001B[39m\u001B[32m\u001B[1mmean\u001B[22m\u001B[39m ± \u001B[32mσ\u001B[39m\u001B[90m):   \u001B[39m\u001B[32m\u001B[1m4.160 ms\u001B[22m\u001B[39m ± \u001B[32m 3.023 ms\u001B[39m  \u001B[90m┊\u001B[39m GC \u001B[90m(\u001B[39mmean ± σ\u001B[90m):  \u001B[39m13.67% ± 14.88%\n",
       "\n",
       "  \u001B[34m█\u001B[39m\u001B[39m \u001B[32m \u001B[39m\u001B[39m \u001B[39m \u001B[39m \u001B[39m \u001B[39m \u001B[39m \u001B[39m \u001B[39m \u001B[39m \u001B[39m \u001B[39m \u001B[39m \u001B[39m \u001B[39m \u001B[39m \u001B[39m \u001B[39m \u001B[39m \u001B[39m \u001B[39m \u001B[39m \u001B[39m \u001B[39m \u001B[39m \u001B[39m \u001B[39m \u001B[39m \u001B[39m \u001B[39m \u001B[39m \u001B[39m \u001B[39m \u001B[39m \u001B[39m \u001B[39m \u001B[39m \u001B[39m \u001B[39m \u001B[39m \u001B[39m \u001B[39m \u001B[39m \u001B[39m \u001B[39m \u001B[39m \u001B[39m \u001B[39m \u001B[39m \u001B[39m \u001B[39m \u001B[39m \u001B[39m \u001B[39m \u001B[39m \u001B[39m \u001B[39m \u001B[39m \n",
       "  \u001B[34m█\u001B[39m\u001B[39m█\u001B[32m▆\u001B[39m\u001B[39m▁\u001B[39m▅\u001B[39m▁\u001B[39m▁\u001B[39m▁\u001B[39m▁\u001B[39m▁\u001B[39m▁\u001B[39m▁\u001B[39m▁\u001B[39m▁\u001B[39m▁\u001B[39m▁\u001B[39m▁\u001B[39m▁\u001B[39m▁\u001B[39m▁\u001B[39m▁\u001B[39m▁\u001B[39m▁\u001B[39m▁\u001B[39m▁\u001B[39m▁\u001B[39m▁\u001B[39m▁\u001B[39m▁\u001B[39m▁\u001B[39m▁\u001B[39m▁\u001B[39m▁\u001B[39m▁\u001B[39m▁\u001B[39m▁\u001B[39m▁\u001B[39m▁\u001B[39m▁\u001B[39m▁\u001B[39m▁\u001B[39m▁\u001B[39m▁\u001B[39m▃\u001B[39m▁\u001B[39m▄\u001B[39m▃\u001B[39m▅\u001B[39m▅\u001B[39m▃\u001B[39m▁\u001B[39m▅\u001B[39m▄\u001B[39m▆\u001B[39m▅\u001B[39m▅\u001B[39m▃\u001B[39m▅\u001B[39m \u001B[39m▇\n",
       "  3.47 ms\u001B[90m      \u001B[39m\u001B[90mHistogram: \u001B[39m\u001B[90m\u001B[1mlog(\u001B[22m\u001B[39m\u001B[90mfrequency\u001B[39m\u001B[90m\u001B[1m)\u001B[22m\u001B[39m\u001B[90m by time\u001B[39m     20.7 ms \u001B[0m\u001B[1m<\u001B[22m\n",
       "\n",
       " Memory estimate\u001B[90m: \u001B[39m\u001B[33m4.55 MiB\u001B[39m, allocs estimate\u001B[90m: \u001B[39m\u001B[33m82451\u001B[39m."
      ]
     },
     "metadata": {},
     "output_type": "display_data"
    }
   ],
   "source": [
    "V, EV, FE = get_input()\n",
    "@benchmark spatial_arrangement_1_rev(Lar.Points(V),Lar.ChainOp(EV),Lar.ChainOp(FE)) "
   ]
  }
 ],
 "metadata": {
  "colab": {
   "collapsed_sections": [],
   "name": "spatial_arrangement_1.ipynb",
   "provenance": []
  },
  "kernelspec": {
   "display_name": "Julia 1.7.2",
   "language": "julia",
   "name": "julia-1.7"
  },
  "language_info": {
   "file_extension": ".jl",
   "mimetype": "application/julia",
   "name": "julia",
   "version": "1.7.2"
  }
 },
 "nbformat": 4,
 "nbformat_minor": 5
}